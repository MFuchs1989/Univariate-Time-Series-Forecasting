{
 "cells": [
  {
   "cell_type": "markdown",
   "metadata": {},
   "source": [
    "# Import the libraries and the data"
   ]
  },
  {
   "cell_type": "code",
   "execution_count": 1,
   "metadata": {},
   "outputs": [],
   "source": [
    "import pandas as pd\n",
    "import numpy as np\n",
    "\n",
    "from sklearn import metrics\n",
    "from sklearn import preprocessing\n",
    "import tensorflow as tf\n",
    "\n",
    "import matplotlib.pyplot as plt\n"
   ]
  },
  {
   "cell_type": "code",
   "execution_count": 2,
   "metadata": {},
   "outputs": [
    {
     "name": "stdout",
     "output_type": "stream",
     "text": [
      "(48204, 9)\n"
     ]
    },
    {
     "data": {
      "text/html": [
       "<div>\n",
       "<style scoped>\n",
       "    .dataframe tbody tr th:only-of-type {\n",
       "        vertical-align: middle;\n",
       "    }\n",
       "\n",
       "    .dataframe tbody tr th {\n",
       "        vertical-align: top;\n",
       "    }\n",
       "\n",
       "    .dataframe thead th {\n",
       "        text-align: right;\n",
       "    }\n",
       "</style>\n",
       "<table border=\"1\" class=\"dataframe\">\n",
       "  <thead>\n",
       "    <tr style=\"text-align: right;\">\n",
       "      <th></th>\n",
       "      <th>holiday</th>\n",
       "      <th>temp</th>\n",
       "      <th>rain_1h</th>\n",
       "      <th>snow_1h</th>\n",
       "      <th>clouds_all</th>\n",
       "      <th>weather_main</th>\n",
       "      <th>weather_description</th>\n",
       "      <th>date_time</th>\n",
       "      <th>traffic_volume</th>\n",
       "    </tr>\n",
       "  </thead>\n",
       "  <tbody>\n",
       "    <tr>\n",
       "      <th>0</th>\n",
       "      <td>None</td>\n",
       "      <td>288.28</td>\n",
       "      <td>0.0</td>\n",
       "      <td>0.0</td>\n",
       "      <td>40</td>\n",
       "      <td>Clouds</td>\n",
       "      <td>scattered clouds</td>\n",
       "      <td>2012-10-02 09:00:00</td>\n",
       "      <td>5545</td>\n",
       "    </tr>\n",
       "    <tr>\n",
       "      <th>1</th>\n",
       "      <td>None</td>\n",
       "      <td>289.36</td>\n",
       "      <td>0.0</td>\n",
       "      <td>0.0</td>\n",
       "      <td>75</td>\n",
       "      <td>Clouds</td>\n",
       "      <td>broken clouds</td>\n",
       "      <td>2012-10-02 10:00:00</td>\n",
       "      <td>4516</td>\n",
       "    </tr>\n",
       "    <tr>\n",
       "      <th>2</th>\n",
       "      <td>None</td>\n",
       "      <td>289.58</td>\n",
       "      <td>0.0</td>\n",
       "      <td>0.0</td>\n",
       "      <td>90</td>\n",
       "      <td>Clouds</td>\n",
       "      <td>overcast clouds</td>\n",
       "      <td>2012-10-02 11:00:00</td>\n",
       "      <td>4767</td>\n",
       "    </tr>\n",
       "    <tr>\n",
       "      <th>3</th>\n",
       "      <td>None</td>\n",
       "      <td>290.13</td>\n",
       "      <td>0.0</td>\n",
       "      <td>0.0</td>\n",
       "      <td>90</td>\n",
       "      <td>Clouds</td>\n",
       "      <td>overcast clouds</td>\n",
       "      <td>2012-10-02 12:00:00</td>\n",
       "      <td>5026</td>\n",
       "    </tr>\n",
       "    <tr>\n",
       "      <th>4</th>\n",
       "      <td>None</td>\n",
       "      <td>291.14</td>\n",
       "      <td>0.0</td>\n",
       "      <td>0.0</td>\n",
       "      <td>75</td>\n",
       "      <td>Clouds</td>\n",
       "      <td>broken clouds</td>\n",
       "      <td>2012-10-02 13:00:00</td>\n",
       "      <td>4918</td>\n",
       "    </tr>\n",
       "  </tbody>\n",
       "</table>\n",
       "</div>"
      ],
      "text/plain": [
       "  holiday    temp  rain_1h  snow_1h  clouds_all weather_main  \\\n",
       "0    None  288.28      0.0      0.0          40       Clouds   \n",
       "1    None  289.36      0.0      0.0          75       Clouds   \n",
       "2    None  289.58      0.0      0.0          90       Clouds   \n",
       "3    None  290.13      0.0      0.0          90       Clouds   \n",
       "4    None  291.14      0.0      0.0          75       Clouds   \n",
       "\n",
       "  weather_description            date_time  traffic_volume  \n",
       "0    scattered clouds  2012-10-02 09:00:00            5545  \n",
       "1       broken clouds  2012-10-02 10:00:00            4516  \n",
       "2     overcast clouds  2012-10-02 11:00:00            4767  \n",
       "3     overcast clouds  2012-10-02 12:00:00            5026  \n",
       "4       broken clouds  2012-10-02 13:00:00            4918  "
      ]
     },
     "execution_count": 2,
     "metadata": {},
     "output_type": "execute_result"
    }
   ],
   "source": [
    "df = pd.read_csv('Metro_Interstate_Traffic_Volume.csv')\n",
    "\n",
    "print(df.shape)\n",
    "df.head()"
   ]
  },
  {
   "cell_type": "markdown",
   "metadata": {},
   "source": [
    "# Definition of required functions"
   ]
  },
  {
   "cell_type": "code",
   "execution_count": 3,
   "metadata": {},
   "outputs": [],
   "source": [
    "def mean_absolute_percentage_error(y_true, y_pred):\n",
    "    '''\n",
    "    Calculate the mean absolute percentage error as a metric for evaluation\n",
    "    \n",
    "    Args:\n",
    "        y_true (float64): Y values for the dependent variable (test part), numpy array of floats \n",
    "        y_pred (float64): Predicted values for the dependen variable (test parrt), numpy array of floats\n",
    "    \n",
    "    Returns:\n",
    "        Mean absolute percentage error \n",
    "    '''    \n",
    "    y_true, y_pred = np.array(y_true), np.array(y_pred)\n",
    "    return np.mean(np.abs((y_true - y_pred) / y_true)) * 100"
   ]
  },
  {
   "cell_type": "code",
   "execution_count": 4,
   "metadata": {},
   "outputs": [],
   "source": [
    "def timeseries_evaluation_metrics_func(y_true, y_pred):\n",
    "    '''\n",
    "    Calculate the following evaluation metrics:\n",
    "        - MSE\n",
    "        - MAE\n",
    "        - RMSE\n",
    "        - MAPE\n",
    "        - R²\n",
    "    \n",
    "    Args:\n",
    "        y_true (float64): Y values for the dependent variable (test part), numpy array of floats \n",
    "        y_pred (float64): Predicted values for the dependen variable (test parrt), numpy array of floats\n",
    "    \n",
    "    Returns:\n",
    "        MSE, MAE, RMSE, MAPE and R² \n",
    "    '''    \n",
    "    #print('Evaluation metric results: ')\n",
    "    print(f'MSE is : {metrics.mean_squared_error(y_true, y_pred)}')\n",
    "    print(f'MAE is : {metrics.mean_absolute_error(y_true, y_pred)}')\n",
    "    print(f'RMSE is : {np.sqrt(metrics.mean_squared_error(y_true, y_pred))}')\n",
    "    print(f'MAPE is : {mean_absolute_percentage_error(y_true, y_pred)}')\n",
    "    print(f'R2 is : {metrics.r2_score(y_true, y_pred)}',end='\\n\\n')"
   ]
  },
  {
   "cell_type": "code",
   "execution_count": 5,
   "metadata": {},
   "outputs": [],
   "source": [
    "def univariate_data_prep_function(dataset, start, end, window, horizon):\n",
    "    '''\n",
    "    Prepare univariate data that is suitable for a time series\n",
    "    \n",
    "    Args:\n",
    "        dataset (float64): Scaled values for the dependent variable, numpy array of floats \n",
    "        start (int): Start point of range, integer\n",
    "        end (int): End point of range, integer\n",
    "        window (int): Number of units to be viewed per step, integer\n",
    "        horizon (int): Number of units to be predicted, integer\n",
    "    \n",
    "    Returns:\n",
    "        X (float64): Generated X-values for each step, numpy array of floats\n",
    "        y (float64): Generated y-values for each step, numpy array of floats\n",
    "    '''   \n",
    "    X = []\n",
    "    y = []\n",
    "\n",
    "    start = start + window\n",
    "    if end is None:\n",
    "        end = len(dataset) - horizon\n",
    "\n",
    "    for i in range(start, end):\n",
    "        indicesx = range(i-window, i)\n",
    "        X.append(np.reshape(dataset[indicesx], (window, 1)))\n",
    "        indicesy = range(i,i+horizon)\n",
    "        y.append(dataset[indicesy])\n",
    "    return np.array(X), np.array(y)"
   ]
  },
  {
   "cell_type": "markdown",
   "metadata": {},
   "source": [
    "# Data pre-processing"
   ]
  },
  {
   "cell_type": "markdown",
   "metadata": {},
   "source": [
    "## Drop Duplicates"
   ]
  },
  {
   "cell_type": "code",
   "execution_count": 6,
   "metadata": {},
   "outputs": [
    {
     "data": {
      "text/plain": [
       "(35130, 9)"
      ]
     },
     "execution_count": 6,
     "metadata": {},
     "output_type": "execute_result"
    }
   ],
   "source": [
    "df = df.drop_duplicates(subset=['date_time'], keep=False)\n",
    "\n",
    "df.shape"
   ]
  },
  {
   "cell_type": "markdown",
   "metadata": {},
   "source": [
    "## Generate Test Set"
   ]
  },
  {
   "cell_type": "code",
   "execution_count": 7,
   "metadata": {},
   "outputs": [
    {
     "data": {
      "text/plain": [
       "(35120, 9)"
      ]
     },
     "execution_count": 7,
     "metadata": {},
     "output_type": "execute_result"
    }
   ],
   "source": [
    "test_data = df['traffic_volume'].tail(10)\n",
    "\n",
    "df = df.drop(df['traffic_volume'].tail(10).index)\n",
    "\n",
    "df.shape"
   ]
  },
  {
   "cell_type": "markdown",
   "metadata": {},
   "source": [
    "## Define Target Variable"
   ]
  },
  {
   "cell_type": "code",
   "execution_count": 8,
   "metadata": {},
   "outputs": [
    {
     "data": {
      "text/plain": [
       "date_time\n",
       "2012-10-02 09:00:00    5545\n",
       "2012-10-02 10:00:00    4516\n",
       "2012-10-02 11:00:00    4767\n",
       "2012-10-02 12:00:00    5026\n",
       "2012-10-02 13:00:00    4918\n",
       "Name: traffic_volume, dtype: int64"
      ]
     },
     "execution_count": 8,
     "metadata": {},
     "output_type": "execute_result"
    }
   ],
   "source": [
    "uni_data = df['traffic_volume']\n",
    "uni_data.index = df['date_time']\n",
    "uni_data.head()"
   ]
  },
  {
   "cell_type": "markdown",
   "metadata": {},
   "source": [
    "## Scaling"
   ]
  },
  {
   "cell_type": "code",
   "execution_count": 9,
   "metadata": {},
   "outputs": [],
   "source": [
    "uni_data = uni_data.values\n",
    "scaler_x = preprocessing.MinMaxScaler()\n",
    "x_scaled = scaler_x.fit_transform(uni_data.reshape(-1, 1))"
   ]
  },
  {
   "cell_type": "markdown",
   "metadata": {},
   "source": [
    "## Train-Validation Split"
   ]
  },
  {
   "cell_type": "markdown",
   "metadata": {},
   "source": [
    "### for Single Step Style (sss)"
   ]
  },
  {
   "cell_type": "code",
   "execution_count": 10,
   "metadata": {},
   "outputs": [],
   "source": [
    "univar_hist_window_sss = 48\n",
    "horizon_sss = 1\n",
    "train_split_sss = 30000\n",
    "\n",
    "x_train_uni_sss, y_train_uni_sss = univariate_data_prep_function(x_scaled, 0, train_split_sss, \n",
    "                                                                 univar_hist_window_sss, horizon_sss)\n",
    "\n",
    "x_val_uni_sss, y_val_uni_sss = univariate_data_prep_function(x_scaled, train_split_sss, None, \n",
    "                                                             univar_hist_window_sss, horizon_sss)"
   ]
  },
  {
   "cell_type": "code",
   "execution_count": 11,
   "metadata": {},
   "outputs": [
    {
     "name": "stdout",
     "output_type": "stream",
     "text": [
      "Length of first Single Window:\n",
      "48\n",
      "\n",
      "Target horizon:\n",
      "[[0.71126374]]\n"
     ]
    }
   ],
   "source": [
    "print ('Length of first Single Window:')\n",
    "print (len(x_train_uni_sss[0]))\n",
    "print()\n",
    "print ('Target horizon:')\n",
    "print (y_train_uni_sss[0])"
   ]
  },
  {
   "cell_type": "markdown",
   "metadata": {},
   "source": [
    "### for Horizon Style (hs)"
   ]
  },
  {
   "cell_type": "code",
   "execution_count": 12,
   "metadata": {},
   "outputs": [],
   "source": [
    "univar_hist_window_hs = 48\n",
    "horizon_hs = 10\n",
    "train_split_hs = 30000\n",
    "\n",
    "x_train_uni_hs, y_train_uni_hs = univariate_data_prep_function(x_scaled, 0, train_split_hs, \n",
    "                                                               univar_hist_window_hs, horizon_hs)\n",
    "\n",
    "x_val_uni_hs, y_val_uni_hs = univariate_data_prep_function(x_scaled, train_split_hs, None, \n",
    "                                                           univar_hist_window_hs, horizon_hs)"
   ]
  },
  {
   "cell_type": "code",
   "execution_count": 13,
   "metadata": {},
   "outputs": [
    {
     "name": "stdout",
     "output_type": "stream",
     "text": [
      "Length of first Single Window:\n",
      "48\n",
      "\n",
      "Target horizon:\n",
      "[[0.71126374]\n",
      " [0.75563187]\n",
      " [0.78475275]\n",
      " [0.86428571]\n",
      " [0.83200549]\n",
      " [0.67403846]\n",
      " [0.48118132]\n",
      " [0.41717033]\n",
      " [0.38763736]\n",
      " [0.27362637]]\n"
     ]
    }
   ],
   "source": [
    "print ('Length of first Single Window:')\n",
    "print (len(x_train_uni_hs[0]))\n",
    "print()\n",
    "print ('Target horizon:')\n",
    "print (y_train_uni_hs[0])"
   ]
  },
  {
   "cell_type": "markdown",
   "metadata": {},
   "source": [
    "## Prepare training and test data using tf"
   ]
  },
  {
   "cell_type": "markdown",
   "metadata": {},
   "source": [
    "### for Single Step Style (sss)"
   ]
  },
  {
   "cell_type": "code",
   "execution_count": 14,
   "metadata": {},
   "outputs": [],
   "source": [
    "BATCH_SIZE_sss = 256\n",
    "BUFFER_SIZE_sss = 150\n",
    "\n",
    "train_univariate_sss = tf.data.Dataset.from_tensor_slices((x_train_uni_sss, y_train_uni_sss))\n",
    "train_univariate_sss = train_univariate_sss.cache().shuffle(BUFFER_SIZE_sss).batch(BATCH_SIZE_sss).repeat()\n",
    "\n",
    "validation_univariate_sss = tf.data.Dataset.from_tensor_slices((x_val_uni_sss, y_val_uni_sss))\n",
    "validation_univariate_sss = validation_univariate_sss.batch(BATCH_SIZE_sss).repeat()"
   ]
  },
  {
   "cell_type": "markdown",
   "metadata": {},
   "source": [
    "### for Horizon Style (hs)"
   ]
  },
  {
   "cell_type": "code",
   "execution_count": 15,
   "metadata": {},
   "outputs": [],
   "source": [
    "BATCH_SIZE_hs = 256\n",
    "BUFFER_SIZE_hs = 150\n",
    "\n",
    "train_univariate_hs = tf.data.Dataset.from_tensor_slices((x_train_uni_hs, y_train_uni_hs))\n",
    "train_univariate_hs = train_univariate_hs.cache().shuffle(BUFFER_SIZE_hs).batch(BATCH_SIZE_hs).repeat()\n",
    "\n",
    "validation_univariate_hs = tf.data.Dataset.from_tensor_slices((x_val_uni_hs, y_val_uni_hs))\n",
    "validation_univariate_hs = validation_univariate_hs.batch(BATCH_SIZE_hs).repeat()"
   ]
  },
  {
   "cell_type": "markdown",
   "metadata": {},
   "source": [
    "# Neural Networks"
   ]
  },
  {
   "cell_type": "markdown",
   "metadata": {},
   "source": [
    "Calculation of the steps:\n",
    "\n",
    "+ n_steps_per_epoch: len(df) / batch_size\n",
    "+ n_validation_steps: len(df) / batch_size "
   ]
  },
  {
   "cell_type": "code",
   "execution_count": 16,
   "metadata": {},
   "outputs": [],
   "source": [
    "n_steps_per_epoch = 117\n",
    "n_validation_steps = 20\n",
    "n_epochs = 100"
   ]
  },
  {
   "cell_type": "markdown",
   "metadata": {},
   "source": [
    "## LSTM"
   ]
  },
  {
   "cell_type": "markdown",
   "metadata": {},
   "source": [
    "### Single Step Style"
   ]
  },
  {
   "cell_type": "markdown",
   "metadata": {},
   "source": [
    "**Define Layer Structure**"
   ]
  },
  {
   "cell_type": "code",
   "execution_count": 17,
   "metadata": {},
   "outputs": [],
   "source": [
    "model = tf.keras.models.Sequential([\n",
    "    tf.keras.layers.LSTM(100, input_shape=x_train_uni_sss.shape[-2:],return_sequences=True),\n",
    "    tf.keras.layers.Dropout(0.2),\n",
    "    tf.keras.layers.LSTM(units=50,return_sequences=False),\n",
    "    tf.keras.layers.Dropout(0.2),\n",
    "    tf.keras.layers.Dense(units=horizon_sss)])\n",
    "\n",
    "model.compile(loss='mse',\n",
    "              optimizer='adam')"
   ]
  },
  {
   "cell_type": "code",
   "execution_count": 18,
   "metadata": {},
   "outputs": [
    {
     "name": "stdout",
     "output_type": "stream",
     "text": [
      "Model: \"sequential\"\n",
      "_________________________________________________________________\n",
      "Layer (type)                 Output Shape              Param #   \n",
      "=================================================================\n",
      "lstm (LSTM)                  (None, 48, 100)           40800     \n",
      "_________________________________________________________________\n",
      "dropout (Dropout)            (None, 48, 100)           0         \n",
      "_________________________________________________________________\n",
      "lstm_1 (LSTM)                (None, 50)                30200     \n",
      "_________________________________________________________________\n",
      "dropout_1 (Dropout)          (None, 50)                0         \n",
      "_________________________________________________________________\n",
      "dense (Dense)                (None, 1)                 51        \n",
      "=================================================================\n",
      "Total params: 71,051\n",
      "Trainable params: 71,051\n",
      "Non-trainable params: 0\n",
      "_________________________________________________________________\n"
     ]
    }
   ],
   "source": [
    "model.summary()"
   ]
  },
  {
   "cell_type": "markdown",
   "metadata": {},
   "source": [
    "**Fit the model**"
   ]
  },
  {
   "cell_type": "code",
   "execution_count": 19,
   "metadata": {},
   "outputs": [],
   "source": [
    "model_path = 'model/lstm_model_sss.h5'"
   ]
  },
  {
   "cell_type": "code",
   "execution_count": 20,
   "metadata": {},
   "outputs": [],
   "source": [
    "keras_callbacks = [tf.keras.callbacks.EarlyStopping(monitor='val_loss', \n",
    "                                                    min_delta=0, patience=10, \n",
    "                                                    verbose=1, mode='min'),\n",
    "                   tf.keras.callbacks.ModelCheckpoint(model_path,monitor='val_loss', \n",
    "                                                      save_best_only=True, \n",
    "                                                      mode='min', verbose=0)]"
   ]
  },
  {
   "cell_type": "code",
   "execution_count": 21,
   "metadata": {},
   "outputs": [
    {
     "name": "stdout",
     "output_type": "stream",
     "text": [
      "Epoch 1/100\n",
      "117/117 [==============================] - 18s 130ms/step - loss: 0.0942 - val_loss: 0.0345\n",
      "Epoch 2/100\n",
      "117/117 [==============================] - 15s 124ms/step - loss: 0.0355 - val_loss: 0.0238\n",
      "Epoch 3/100\n",
      "117/117 [==============================] - 14s 122ms/step - loss: 0.0258 - val_loss: 0.0135\n",
      "Epoch 4/100\n",
      "117/117 [==============================] - 14s 124ms/step - loss: 0.0180 - val_loss: 0.0115\n",
      "Epoch 5/100\n",
      "117/117 [==============================] - 14s 118ms/step - loss: 0.0162 - val_loss: 0.0111\n",
      "Epoch 6/100\n",
      "117/117 [==============================] - 13s 114ms/step - loss: 0.0156 - val_loss: 0.0110\n",
      "Epoch 7/100\n",
      "117/117 [==============================] - 14s 123ms/step - loss: 0.0152 - val_loss: 0.0107\n",
      "Epoch 8/100\n",
      "117/117 [==============================] - 14s 116ms/step - loss: 0.0148 - val_loss: 0.0103\n",
      "Epoch 9/100\n",
      "117/117 [==============================] - 12s 107ms/step - loss: 0.0145 - val_loss: 0.0101\n",
      "Epoch 10/100\n",
      "117/117 [==============================] - 14s 118ms/step - loss: 0.0142 - val_loss: 0.0102\n",
      "Epoch 11/100\n",
      "117/117 [==============================] - 14s 116ms/step - loss: 0.0138 - val_loss: 0.0097\n",
      "Epoch 12/100\n",
      "117/117 [==============================] - 13s 110ms/step - loss: 0.0136 - val_loss: 0.0096\n",
      "Epoch 13/100\n",
      "117/117 [==============================] - 14s 120ms/step - loss: 0.0134 - val_loss: 0.0095\n",
      "Epoch 14/100\n",
      "117/117 [==============================] - 14s 124ms/step - loss: 0.0131 - val_loss: 0.0096\n",
      "Epoch 15/100\n",
      "117/117 [==============================] - 14s 116ms/step - loss: 0.0130 - val_loss: 0.0095\n",
      "Epoch 16/100\n",
      "117/117 [==============================] - 13s 112ms/step - loss: 0.0129 - val_loss: 0.0094\n",
      "Epoch 17/100\n",
      "117/117 [==============================] - 13s 115ms/step - loss: 0.0128 - val_loss: 0.0092\n",
      "Epoch 18/100\n",
      "117/117 [==============================] - 13s 115ms/step - loss: 0.0124 - val_loss: 0.0090\n",
      "Epoch 19/100\n",
      "117/117 [==============================] - 14s 116ms/step - loss: 0.0123 - val_loss: 0.0090\n",
      "Epoch 20/100\n",
      "117/117 [==============================] - 13s 115ms/step - loss: 0.0123 - val_loss: 0.0088\n",
      "Epoch 21/100\n",
      "117/117 [==============================] - 14s 117ms/step - loss: 0.0120 - val_loss: 0.0087\n",
      "Epoch 22/100\n",
      "117/117 [==============================] - 13s 114ms/step - loss: 0.0121 - val_loss: 0.0087\n",
      "Epoch 23/100\n",
      "117/117 [==============================] - 15s 125ms/step - loss: 0.0118 - val_loss: 0.0086\n",
      "Epoch 24/100\n",
      "117/117 [==============================] - 13s 113ms/step - loss: 0.0116 - val_loss: 0.0085\n",
      "Epoch 25/100\n",
      "117/117 [==============================] - 14s 120ms/step - loss: 0.0115 - val_loss: 0.0083\n",
      "Epoch 26/100\n",
      "117/117 [==============================] - 13s 114ms/step - loss: 0.0114 - val_loss: 0.0083\n",
      "Epoch 27/100\n",
      "117/117 [==============================] - 14s 121ms/step - loss: 0.0113 - val_loss: 0.0082\n",
      "Epoch 28/100\n",
      "117/117 [==============================] - 15s 124ms/step - loss: 0.0111 - val_loss: 0.0081\n",
      "Epoch 29/100\n",
      "117/117 [==============================] - 13s 112ms/step - loss: 0.0110 - val_loss: 0.0080\n",
      "Epoch 30/100\n",
      "117/117 [==============================] - 15s 126ms/step - loss: 0.0109 - val_loss: 0.0079\n",
      "Epoch 31/100\n",
      "117/117 [==============================] - 13s 115ms/step - loss: 0.0108 - val_loss: 0.0079\n",
      "Epoch 32/100\n",
      "117/117 [==============================] - 14s 120ms/step - loss: 0.0109 - val_loss: 0.0078\n",
      "Epoch 33/100\n",
      "117/117 [==============================] - 15s 125ms/step - loss: 0.0106 - val_loss: 0.0077\n",
      "Epoch 34/100\n",
      "117/117 [==============================] - 13s 115ms/step - loss: 0.0104 - val_loss: 0.0077\n",
      "Epoch 35/100\n",
      "117/117 [==============================] - 14s 122ms/step - loss: 0.0102 - val_loss: 0.0077\n",
      "Epoch 36/100\n",
      "117/117 [==============================] - 14s 122ms/step - loss: 0.0102 - val_loss: 0.0076\n",
      "Epoch 37/100\n",
      "117/117 [==============================] - 13s 111ms/step - loss: 0.0102 - val_loss: 0.0076\n",
      "Epoch 38/100\n",
      "117/117 [==============================] - 14s 124ms/step - loss: 0.0102 - val_loss: 0.0075\n",
      "Epoch 39/100\n",
      "117/117 [==============================] - 14s 123ms/step - loss: 0.0101 - val_loss: 0.0075\n",
      "Epoch 40/100\n",
      "117/117 [==============================] - 13s 112ms/step - loss: 0.0100 - val_loss: 0.0075\n",
      "Epoch 41/100\n",
      "117/117 [==============================] - 15s 126ms/step - loss: 0.0100 - val_loss: 0.0074\n",
      "Epoch 42/100\n",
      "117/117 [==============================] - 13s 115ms/step - loss: 0.0099 - val_loss: 0.0074\n",
      "Epoch 43/100\n",
      "117/117 [==============================] - 13s 107ms/step - loss: 0.0098 - val_loss: 0.0074\n",
      "Epoch 44/100\n",
      "117/117 [==============================] - 14s 116ms/step - loss: 0.0099 - val_loss: 0.0073\n",
      "Epoch 45/100\n",
      "117/117 [==============================] - 14s 118ms/step - loss: 0.0098 - val_loss: 0.0073\n",
      "Epoch 46/100\n",
      "117/117 [==============================] - 13s 113ms/step - loss: 0.0097 - val_loss: 0.0073\n",
      "Epoch 47/100\n",
      "117/117 [==============================] - 15s 125ms/step - loss: 0.0098 - val_loss: 0.0073\n",
      "Epoch 48/100\n",
      "117/117 [==============================] - 13s 113ms/step - loss: 0.0096 - val_loss: 0.0072\n",
      "Epoch 49/100\n",
      "117/117 [==============================] - 14s 122ms/step - loss: 0.0096 - val_loss: 0.0072\n",
      "Epoch 50/100\n",
      "117/117 [==============================] - 14s 121ms/step - loss: 0.0096 - val_loss: 0.0072\n",
      "Epoch 51/100\n",
      "117/117 [==============================] - 13s 110ms/step - loss: 0.0095 - val_loss: 0.0071\n",
      "Epoch 52/100\n",
      "117/117 [==============================] - 14s 120ms/step - loss: 0.0094 - val_loss: 0.0071\n",
      "Epoch 53/100\n",
      "117/117 [==============================] - 14s 117ms/step - loss: 0.0095 - val_loss: 0.0071\n",
      "Epoch 54/100\n",
      "117/117 [==============================] - 13s 110ms/step - loss: 0.0094 - val_loss: 0.0071\n",
      "Epoch 55/100\n",
      "117/117 [==============================] - 14s 121ms/step - loss: 0.0094 - val_loss: 0.0070\n",
      "Epoch 56/100\n",
      "117/117 [==============================] - 14s 117ms/step - loss: 0.0095 - val_loss: 0.0071\n",
      "Epoch 57/100\n",
      "117/117 [==============================] - 13s 111ms/step - loss: 0.0093 - val_loss: 0.0070\n",
      "Epoch 58/100\n",
      "117/117 [==============================] - 14s 124ms/step - loss: 0.0094 - val_loss: 0.0070\n",
      "Epoch 59/100\n",
      "117/117 [==============================] - 13s 110ms/step - loss: 0.0094 - val_loss: 0.0070\n",
      "Epoch 60/100\n",
      "117/117 [==============================] - 12s 105ms/step - loss: 0.0093 - val_loss: 0.0070\n",
      "Epoch 61/100\n",
      "117/117 [==============================] - 12s 103ms/step - loss: 0.0093 - val_loss: 0.0070\n",
      "Epoch 62/100\n",
      "117/117 [==============================] - 12s 104ms/step - loss: 0.0092 - val_loss: 0.0070\n",
      "Epoch 63/100\n",
      "117/117 [==============================] - 14s 117ms/step - loss: 0.0092 - val_loss: 0.0069\n",
      "Epoch 64/100\n",
      "117/117 [==============================] - 15s 128ms/step - loss: 0.0092 - val_loss: 0.0069\n",
      "Epoch 65/100\n",
      "117/117 [==============================] - 14s 118ms/step - loss: 0.0092 - val_loss: 0.0069\n",
      "Epoch 66/100\n",
      "117/117 [==============================] - 13s 113ms/step - loss: 0.0091 - val_loss: 0.0069\n",
      "Epoch 67/100\n",
      "117/117 [==============================] - 13s 111ms/step - loss: 0.0091 - val_loss: 0.0069\n",
      "Epoch 68/100\n",
      "117/117 [==============================] - 13s 108ms/step - loss: 0.0092 - val_loss: 0.0069\n",
      "Epoch 69/100\n",
      "117/117 [==============================] - 14s 117ms/step - loss: 0.0091 - val_loss: 0.0068\n",
      "Epoch 70/100\n",
      "117/117 [==============================] - 15s 132ms/step - loss: 0.0091 - val_loss: 0.0068\n",
      "Epoch 71/100\n",
      "117/117 [==============================] - 14s 123ms/step - loss: 0.0090 - val_loss: 0.0068\n",
      "Epoch 72/100\n",
      "117/117 [==============================] - 13s 109ms/step - loss: 0.0090 - val_loss: 0.0068\n",
      "Epoch 73/100\n",
      "117/117 [==============================] - 14s 120ms/step - loss: 0.0090 - val_loss: 0.0068\n",
      "Epoch 74/100\n",
      "117/117 [==============================] - 13s 112ms/step - loss: 0.0089 - val_loss: 0.0068\n",
      "Epoch 75/100\n",
      "117/117 [==============================] - 13s 108ms/step - loss: 0.0090 - val_loss: 0.0068\n",
      "Epoch 76/100\n",
      "117/117 [==============================] - 15s 126ms/step - loss: 0.0089 - val_loss: 0.0068\n",
      "Epoch 77/100\n",
      "117/117 [==============================] - 14s 124ms/step - loss: 0.0089 - val_loss: 0.0068\n",
      "Epoch 78/100\n",
      "117/117 [==============================] - 13s 112ms/step - loss: 0.0088 - val_loss: 0.0068\n",
      "Epoch 79/100\n"
     ]
    },
    {
     "name": "stdout",
     "output_type": "stream",
     "text": [
      "117/117 [==============================] - 12s 104ms/step - loss: 0.0088 - val_loss: 0.0068\n",
      "Epoch 80/100\n",
      "117/117 [==============================] - 13s 110ms/step - loss: 0.0088 - val_loss: 0.0068\n",
      "Epoch 81/100\n",
      "117/117 [==============================] - 13s 115ms/step - loss: 0.0088 - val_loss: 0.0068\n",
      "Epoch 82/100\n",
      "117/117 [==============================] - 15s 127ms/step - loss: 0.0088 - val_loss: 0.0068\n",
      "Epoch 83/100\n",
      "117/117 [==============================] - 13s 112ms/step - loss: 0.0089 - val_loss: 0.0067\n",
      "Epoch 84/100\n",
      "117/117 [==============================] - 14s 120ms/step - loss: 0.0088 - val_loss: 0.0067\n",
      "Epoch 85/100\n",
      "117/117 [==============================] - 13s 112ms/step - loss: 0.0087 - val_loss: 0.0067\n",
      "Epoch 86/100\n",
      "117/117 [==============================] - 13s 109ms/step - loss: 0.0087 - val_loss: 0.0067\n",
      "Epoch 87/100\n",
      "117/117 [==============================] - 15s 125ms/step - loss: 0.0088 - val_loss: 0.0067\n",
      "Epoch 88/100\n",
      "117/117 [==============================] - 15s 128ms/step - loss: 0.0087 - val_loss: 0.0067\n",
      "Epoch 89/100\n",
      "117/117 [==============================] - 13s 110ms/step - loss: 0.0086 - val_loss: 0.0067\n",
      "Epoch 90/100\n",
      "117/117 [==============================] - 14s 116ms/step - loss: 0.0087 - val_loss: 0.0067\n",
      "Epoch 91/100\n",
      "117/117 [==============================] - 14s 117ms/step - loss: 0.0087 - val_loss: 0.0067\n",
      "Epoch 92/100\n",
      "117/117 [==============================] - 13s 110ms/step - loss: 0.0085 - val_loss: 0.0067\n",
      "Epoch 93/100\n",
      "117/117 [==============================] - 14s 116ms/step - loss: 0.0086 - val_loss: 0.0067\n",
      "Epoch 94/100\n",
      "117/117 [==============================] - 15s 126ms/step - loss: 0.0085 - val_loss: 0.0067\n",
      "Epoch 95/100\n",
      "117/117 [==============================] - 13s 113ms/step - loss: 0.0086 - val_loss: 0.0066\n",
      "Epoch 96/100\n",
      "117/117 [==============================] - 13s 113ms/step - loss: 0.0085 - val_loss: 0.0066\n",
      "Epoch 97/100\n",
      "117/117 [==============================] - 12s 104ms/step - loss: 0.0085 - val_loss: 0.0067\n",
      "Epoch 98/100\n",
      "117/117 [==============================] - 13s 109ms/step - loss: 0.0085 - val_loss: 0.0066\n",
      "Epoch 99/100\n",
      "117/117 [==============================] - 15s 124ms/step - loss: 0.0083 - val_loss: 0.0067\n",
      "Epoch 100/100\n",
      "117/117 [==============================] - 15s 128ms/step - loss: 0.0084 - val_loss: 0.0067\n"
     ]
    }
   ],
   "source": [
    "history = model.fit(train_univariate_sss, epochs=n_epochs, steps_per_epoch=n_steps_per_epoch,\n",
    "                    validation_data=validation_univariate_sss, validation_steps=n_validation_steps, verbose =1,\n",
    "                    callbacks = keras_callbacks)"
   ]
  },
  {
   "cell_type": "markdown",
   "metadata": {},
   "source": [
    "**Validate the model**"
   ]
  },
  {
   "cell_type": "code",
   "execution_count": 22,
   "metadata": {},
   "outputs": [
    {
     "data": {
      "image/png": "[encoded data removed]",
      "text/plain": [
       "<Figure size 432x288 with 1 Axes>"
      ]
     },
     "metadata": {
      "needs_background": "light"
     },
     "output_type": "display_data"
    }
   ],
   "source": [
    "loss = history.history['loss']\n",
    "val_loss = history.history['val_loss']\n",
    "\n",
    "epochs = range(1, len(loss) + 1)\n",
    "\n",
    "\n",
    "plt.plot(epochs, loss, 'bo', label='Training loss')\n",
    "plt.plot(epochs, val_loss, 'b', label='Validation loss')\n",
    "plt.title('Training and validation loss')\n",
    "plt.legend()\n",
    "\n",
    "plt.show()"
   ]
  },
  {
   "cell_type": "markdown",
   "metadata": {},
   "source": [
    "**Test the model**"
   ]
  },
  {
   "cell_type": "code",
   "execution_count": 23,
   "metadata": {},
   "outputs": [],
   "source": [
    "trained_lstm_model_sss = tf.keras.models.load_model(model_path)"
   ]
  },
  {
   "cell_type": "code",
   "execution_count": 24,
   "metadata": {},
   "outputs": [
    {
     "name": "stdout",
     "output_type": "stream",
     "text": [
      "predicted : [[0.63438505]]\n",
      "predicted : [[0.63533115]]\n",
      "predicted : [[0.634082]]\n",
      "predicted : [[0.63566756]]\n",
      "predicted : [[0.6329583]]\n",
      "predicted : [[0.613764]]\n",
      "predicted : [[0.5683779]]\n",
      "predicted : [[0.49576783]]\n",
      "predicted : [[0.4103733]]\n",
      "predicted : [[0.32943153]]\n"
     ]
    }
   ],
   "source": [
    "df_temp = df['traffic_volume']\n",
    "test_horizon = df_temp.tail(univar_hist_window_sss)\n",
    "test_history = test_horizon.values\n",
    "\n",
    "result = []\n",
    "# Define Forecast length here\n",
    "window_len = len(test_data)\n",
    "test_scaled = scaler_x.fit_transform(test_history.reshape(-1, 1))\n",
    "\n",
    "for i in range(1, window_len+1): \n",
    "    test_scaled = test_scaled.reshape((1, test_scaled.shape[0], 1))\n",
    "    \n",
    "    # Inserting the model\n",
    "    predicted_results = trained_lstm_model_sss.predict(test_scaled)\n",
    "    \n",
    "    print(f'predicted : {predicted_results}')\n",
    "    result.append(predicted_results[0])\n",
    "    test_scaled = np.append(test_scaled[:,1:],[[predicted_results]])"
   ]
  },
  {
   "cell_type": "code",
   "execution_count": 25,
   "metadata": {},
   "outputs": [
    {
     "data": {
      "text/plain": [
       "array([[4048.05569381],\n",
       "       [4053.5932436 ],\n",
       "       [4046.28205913],\n",
       "       [4055.56224322],\n",
       "       [4039.7048887 ],\n",
       "       [3927.36062187],\n",
       "       [3661.7159192 ],\n",
       "       [3236.72911954],\n",
       "       [2736.91492674],\n",
       "       [2263.16276741]])"
      ]
     },
     "execution_count": 25,
     "metadata": {},
     "output_type": "execute_result"
    }
   ],
   "source": [
    "result_inv_trans = scaler_x.inverse_transform(result)\n",
    "result_inv_trans"
   ]
  },
  {
   "cell_type": "code",
   "execution_count": 26,
   "metadata": {},
   "outputs": [
    {
     "name": "stdout",
     "output_type": "stream",
     "text": [
      "MSE is : 591399.1955569341\n",
      "MAE is : 621.9095003694296\n",
      "RMSE is : 769.0248341613775\n",
      "MAPE is : 62.18672314557021\n",
      "R2 is : 0.616054740542708\n",
      "\n"
     ]
    }
   ],
   "source": [
    "timeseries_evaluation_metrics_func(test_data, result_inv_trans)"
   ]
  },
  {
   "cell_type": "code",
   "execution_count": 27,
   "metadata": {},
   "outputs": [],
   "source": [
    "rmse_lstm_model_sss = np.sqrt(metrics.mean_squared_error(test_data, result_inv_trans))"
   ]
  },
  {
   "cell_type": "code",
   "execution_count": 28,
   "metadata": {},
   "outputs": [
    {
     "data": {
      "image/png": "[encoded data removed]",
      "text/plain": [
       "<Figure size 432x288 with 1 Axes>"
      ]
     },
     "metadata": {
      "needs_background": "light"
     },
     "output_type": "display_data"
    }
   ],
   "source": [
    "plt.plot(list(test_data))\n",
    "plt.plot(list(result_inv_trans))\n",
    "plt.title(\"Actual vs Predicted\")\n",
    "plt.ylabel(\"Traffic volume\")\n",
    "plt.legend(('Actual','predicted'))\n",
    "plt.show()"
   ]
  },
  {
   "cell_type": "markdown",
   "metadata": {},
   "source": [
    "### Horizon Style"
   ]
  },
  {
   "cell_type": "markdown",
   "metadata": {},
   "source": [
    "**Define Layer Structure**"
   ]
  },
  {
   "cell_type": "code",
   "execution_count": 29,
   "metadata": {},
   "outputs": [],
   "source": [
    "model = tf.keras.models.Sequential([\n",
    "    tf.keras.layers.LSTM(100, input_shape=x_train_uni_hs.shape[-2:],return_sequences=True),\n",
    "    tf.keras.layers.Dropout(0.2),\n",
    "    tf.keras.layers.LSTM(units=50,return_sequences=False),\n",
    "    tf.keras.layers.Dropout(0.2),\n",
    "    tf.keras.layers.Dense(units=horizon_hs)])\n",
    "\n",
    "model.compile(loss='mse',\n",
    "              optimizer='adam')"
   ]
  },
  {
   "cell_type": "code",
   "execution_count": 30,
   "metadata": {},
   "outputs": [
    {
     "name": "stdout",
     "output_type": "stream",
     "text": [
      "Model: \"sequential_1\"\n",
      "_________________________________________________________________\n",
      "Layer (type)                 Output Shape              Param #   \n",
      "=================================================================\n",
      "lstm_2 (LSTM)                (None, 48, 100)           40800     \n",
      "_________________________________________________________________\n",
      "dropout_2 (Dropout)          (None, 48, 100)           0         \n",
      "_________________________________________________________________\n",
      "lstm_3 (LSTM)                (None, 50)                30200     \n",
      "_________________________________________________________________\n",
      "dropout_3 (Dropout)          (None, 50)                0         \n",
      "_________________________________________________________________\n",
      "dense_1 (Dense)              (None, 10)                510       \n",
      "=================================================================\n",
      "Total params: 71,510\n",
      "Trainable params: 71,510\n",
      "Non-trainable params: 0\n",
      "_________________________________________________________________\n"
     ]
    }
   ],
   "source": [
    "model.summary()"
   ]
  },
  {
   "cell_type": "markdown",
   "metadata": {},
   "source": [
    "**Fit the model**"
   ]
  },
  {
   "cell_type": "code",
   "execution_count": 31,
   "metadata": {},
   "outputs": [],
   "source": [
    "model_path = 'model/lstm_model_hs.h5'"
   ]
  },
  {
   "cell_type": "code",
   "execution_count": 32,
   "metadata": {},
   "outputs": [],
   "source": [
    "keras_callbacks = [tf.keras.callbacks.EarlyStopping(monitor='val_loss', \n",
    "                                                    min_delta=0, patience=10, \n",
    "                                                    verbose=1, mode='min'),\n",
    "                   tf.keras.callbacks.ModelCheckpoint(model_path,monitor='val_loss', \n",
    "                                                      save_best_only=True, \n",
    "                                                      mode='min', verbose=0)]"
   ]
  },
  {
   "cell_type": "code",
   "execution_count": 33,
   "metadata": {},
   "outputs": [
    {
     "name": "stdout",
     "output_type": "stream",
     "text": [
      "Epoch 1/100\n",
      "117/117 [==============================] - 17s 123ms/step - loss: 0.1156 - val_loss: 0.0555\n",
      "Epoch 2/100\n",
      "117/117 [==============================] - 15s 132ms/step - loss: 0.0589 - val_loss: 0.0484\n",
      "Epoch 3/100\n",
      "117/117 [==============================] - 14s 119ms/step - loss: 0.0538 - val_loss: 0.0441\n",
      "Epoch 4/100\n",
      "117/117 [==============================] - 15s 127ms/step - loss: 0.0507 - val_loss: 0.0398\n",
      "Epoch 5/100\n",
      "117/117 [==============================] - 16s 139ms/step - loss: 0.0483 - val_loss: 0.0380\n",
      "Epoch 6/100\n",
      "117/117 [==============================] - 13s 112ms/step - loss: 0.0463 - val_loss: 0.0363\n",
      "Epoch 7/100\n",
      "117/117 [==============================] - 13s 115ms/step - loss: 0.0448 - val_loss: 0.0346\n",
      "Epoch 8/100\n",
      "117/117 [==============================] - 14s 116ms/step - loss: 0.0432 - val_loss: 0.0336\n",
      "Epoch 9/100\n",
      "117/117 [==============================] - 15s 130ms/step - loss: 0.0421 - val_loss: 0.0326\n",
      "Epoch 10/100\n",
      "117/117 [==============================] - 17s 148ms/step - loss: 0.0408 - val_loss: 0.0318\n",
      "Epoch 11/100\n",
      "117/117 [==============================] - 14s 122ms/step - loss: 0.0400 - val_loss: 0.0309\n",
      "Epoch 12/100\n",
      "117/117 [==============================] - 14s 117ms/step - loss: 0.0392 - val_loss: 0.0300\n",
      "Epoch 13/100\n",
      "117/117 [==============================] - 13s 111ms/step - loss: 0.0387 - val_loss: 0.0297\n",
      "Epoch 14/100\n",
      "117/117 [==============================] - 14s 117ms/step - loss: 0.0383 - val_loss: 0.0295\n",
      "Epoch 15/100\n",
      "117/117 [==============================] - 15s 130ms/step - loss: 0.0377 - val_loss: 0.0294\n",
      "Epoch 16/100\n",
      "117/117 [==============================] - 15s 128ms/step - loss: 0.0371 - val_loss: 0.0294\n",
      "Epoch 17/100\n",
      "117/117 [==============================] - 14s 116ms/step - loss: 0.0368 - val_loss: 0.0295\n",
      "Epoch 18/100\n",
      "117/117 [==============================] - 13s 110ms/step - loss: 0.0362 - val_loss: 0.0293\n",
      "Epoch 19/100\n",
      "117/117 [==============================] - 13s 110ms/step - loss: 0.0358 - val_loss: 0.0293\n",
      "Epoch 20/100\n",
      "117/117 [==============================] - 14s 123ms/step - loss: 0.0355 - val_loss: 0.0294\n",
      "Epoch 21/100\n",
      "117/117 [==============================] - 17s 142ms/step - loss: 0.0351 - val_loss: 0.0294\n",
      "Epoch 22/100\n",
      "117/117 [==============================] - 15s 131ms/step - loss: 0.0348 - val_loss: 0.0292\n",
      "Epoch 23/100\n",
      "117/117 [==============================] - 14s 118ms/step - loss: 0.0345 - val_loss: 0.0290\n",
      "Epoch 24/100\n",
      "117/117 [==============================] - 13s 114ms/step - loss: 0.0342 - val_loss: 0.0290\n",
      "Epoch 25/100\n",
      "117/117 [==============================] - 13s 114ms/step - loss: 0.0338 - val_loss: 0.0288\n",
      "Epoch 26/100\n",
      "117/117 [==============================] - 15s 124ms/step - loss: 0.0335 - val_loss: 0.0285\n",
      "Epoch 27/100\n",
      "117/117 [==============================] - 15s 132ms/step - loss: 0.0334 - val_loss: 0.0281\n",
      "Epoch 28/100\n",
      "117/117 [==============================] - 14s 122ms/step - loss: 0.0331 - val_loss: 0.0276\n",
      "Epoch 29/100\n",
      "117/117 [==============================] - 15s 124ms/step - loss: 0.0329 - val_loss: 0.0273\n",
      "Epoch 30/100\n",
      "117/117 [==============================] - 13s 113ms/step - loss: 0.0326 - val_loss: 0.0268\n",
      "Epoch 31/100\n",
      "117/117 [==============================] - 14s 116ms/step - loss: 0.0323 - val_loss: 0.0266\n",
      "Epoch 32/100\n",
      "117/117 [==============================] - 15s 131ms/step - loss: 0.0322 - val_loss: 0.0263\n",
      "Epoch 33/100\n",
      "117/117 [==============================] - 14s 120ms/step - loss: 0.0320 - val_loss: 0.0260\n",
      "Epoch 34/100\n",
      "117/117 [==============================] - 15s 127ms/step - loss: 0.0319 - val_loss: 0.0255\n",
      "Epoch 35/100\n",
      "117/117 [==============================] - 15s 125ms/step - loss: 0.0317 - val_loss: 0.0254\n",
      "Epoch 36/100\n",
      "117/117 [==============================] - 14s 121ms/step - loss: 0.0317 - val_loss: 0.0251\n",
      "Epoch 37/100\n",
      "117/117 [==============================] - 15s 132ms/step - loss: 0.0313 - val_loss: 0.0251\n",
      "Epoch 38/100\n",
      "117/117 [==============================] - 13s 114ms/step - loss: 0.0312 - val_loss: 0.0249\n",
      "Epoch 39/100\n",
      "117/117 [==============================] - 15s 129ms/step - loss: 0.0312 - val_loss: 0.0246\n",
      "Epoch 40/100\n",
      "117/117 [==============================] - 14s 123ms/step - loss: 0.0309 - val_loss: 0.0246\n",
      "Epoch 41/100\n",
      "117/117 [==============================] - 15s 124ms/step - loss: 0.0307 - val_loss: 0.0244\n",
      "Epoch 42/100\n",
      "117/117 [==============================] - 15s 131ms/step - loss: 0.0304 - val_loss: 0.0243\n",
      "Epoch 43/100\n",
      "117/117 [==============================] - 14s 122ms/step - loss: 0.0303 - val_loss: 0.0241\n",
      "Epoch 44/100\n",
      "117/117 [==============================] - 15s 129ms/step - loss: 0.0301 - val_loss: 0.0240\n",
      "Epoch 45/100\n",
      "117/117 [==============================] - 14s 123ms/step - loss: 0.0299 - val_loss: 0.0239\n",
      "Epoch 46/100\n",
      "117/117 [==============================] - 14s 121ms/step - loss: 0.0297 - val_loss: 0.0238\n",
      "Epoch 47/100\n",
      "117/117 [==============================] - 16s 138ms/step - loss: 0.0296 - val_loss: 0.0237\n",
      "Epoch 48/100\n",
      "117/117 [==============================] - 14s 121ms/step - loss: 0.0293 - val_loss: 0.0236\n",
      "Epoch 49/100\n",
      "117/117 [==============================] - 14s 123ms/step - loss: 0.0291 - val_loss: 0.0234\n",
      "Epoch 50/100\n",
      "117/117 [==============================] - 14s 118ms/step - loss: 0.0289 - val_loss: 0.0235\n",
      "Epoch 51/100\n",
      "117/117 [==============================] - 13s 114ms/step - loss: 0.0287 - val_loss: 0.0232\n",
      "Epoch 52/100\n",
      "117/117 [==============================] - 15s 130ms/step - loss: 0.0286 - val_loss: 0.0232\n",
      "Epoch 53/100\n",
      "117/117 [==============================] - 16s 135ms/step - loss: 0.0284 - val_loss: 0.0231\n",
      "Epoch 54/100\n",
      "117/117 [==============================] - 13s 112ms/step - loss: 0.0282 - val_loss: 0.0232\n",
      "Epoch 55/100\n",
      "117/117 [==============================] - 13s 113ms/step - loss: 0.0282 - val_loss: 0.0230\n",
      "Epoch 56/100\n",
      "117/117 [==============================] - 14s 117ms/step - loss: 0.0280 - val_loss: 0.0230\n",
      "Epoch 57/100\n",
      "117/117 [==============================] - 14s 121ms/step - loss: 0.0279 - val_loss: 0.0227\n",
      "Epoch 58/100\n",
      "117/117 [==============================] - 16s 139ms/step - loss: 0.0277 - val_loss: 0.0227\n",
      "Epoch 59/100\n",
      "117/117 [==============================] - 16s 134ms/step - loss: 0.0276 - val_loss: 0.0226\n",
      "Epoch 60/100\n",
      "117/117 [==============================] - 14s 118ms/step - loss: 0.0274 - val_loss: 0.0227\n",
      "Epoch 61/100\n",
      "117/117 [==============================] - 14s 117ms/step - loss: 0.0273 - val_loss: 0.0228\n",
      "Epoch 62/100\n",
      "117/117 [==============================] - 14s 120ms/step - loss: 0.0269 - val_loss: 0.0227\n",
      "Epoch 63/100\n",
      "117/117 [==============================] - 13s 113ms/step - loss: 0.0269 - val_loss: 0.0226\n",
      "Epoch 64/100\n",
      "117/117 [==============================] - 14s 123ms/step - loss: 0.0266 - val_loss: 0.0226\n",
      "Epoch 65/100\n",
      "117/117 [==============================] - 16s 137ms/step - loss: 0.0266 - val_loss: 0.0225\n",
      "Epoch 66/100\n",
      "117/117 [==============================] - 14s 120ms/step - loss: 0.0261 - val_loss: 0.0225\n",
      "Epoch 67/100\n",
      "117/117 [==============================] - 15s 125ms/step - loss: 0.0261 - val_loss: 0.0225\n",
      "Epoch 68/100\n",
      "117/117 [==============================] - 14s 119ms/step - loss: 0.0260 - val_loss: 0.0226\n",
      "Epoch 69/100\n",
      "117/117 [==============================] - 14s 120ms/step - loss: 0.0258 - val_loss: 0.0226\n",
      "Epoch 70/100\n",
      "117/117 [==============================] - 16s 134ms/step - loss: 0.0258 - val_loss: 0.0226\n",
      "Epoch 71/100\n",
      "117/117 [==============================] - 15s 131ms/step - loss: 0.0256 - val_loss: 0.0225\n",
      "Epoch 72/100\n",
      "117/117 [==============================] - 14s 123ms/step - loss: 0.0257 - val_loss: 0.0225\n",
      "Epoch 73/100\n",
      "117/117 [==============================] - 15s 127ms/step - loss: 0.0252 - val_loss: 0.0224\n",
      "Epoch 74/100\n",
      "117/117 [==============================] - 14s 117ms/step - loss: 0.0250 - val_loss: 0.0224\n",
      "Epoch 75/100\n",
      "117/117 [==============================] - 15s 132ms/step - loss: 0.0248 - val_loss: 0.0226\n",
      "Epoch 76/100\n",
      "117/117 [==============================] - 14s 118ms/step - loss: 0.0246 - val_loss: 0.0228\n",
      "Epoch 77/100\n",
      "117/117 [==============================] - 14s 123ms/step - loss: 0.0247 - val_loss: 0.0227\n",
      "Epoch 78/100\n",
      "117/117 [==============================] - 14s 120ms/step - loss: 0.0244 - val_loss: 0.0226\n",
      "Epoch 79/100\n"
     ]
    },
    {
     "name": "stdout",
     "output_type": "stream",
     "text": [
      "117/117 [==============================] - 14s 120ms/step - loss: 0.0242 - val_loss: 0.0225\n",
      "Epoch 80/100\n",
      "117/117 [==============================] - 16s 136ms/step - loss: 0.0244 - val_loss: 0.0225\n",
      "Epoch 81/100\n",
      "117/117 [==============================] - 14s 121ms/step - loss: 0.0239 - val_loss: 0.0227\n",
      "Epoch 82/100\n",
      "117/117 [==============================] - 14s 116ms/step - loss: 0.0236 - val_loss: 0.0223\n",
      "Epoch 83/100\n",
      "117/117 [==============================] - 15s 127ms/step - loss: 0.0236 - val_loss: 0.0228\n",
      "Epoch 84/100\n",
      "117/117 [==============================] - 14s 121ms/step - loss: 0.0233 - val_loss: 0.0231\n",
      "Epoch 85/100\n",
      "117/117 [==============================] - 14s 122ms/step - loss: 0.0231 - val_loss: 0.0229\n",
      "Epoch 86/100\n",
      "117/117 [==============================] - 16s 133ms/step - loss: 0.0228 - val_loss: 0.0229\n",
      "Epoch 87/100\n",
      "117/117 [==============================] - 14s 121ms/step - loss: 0.0226 - val_loss: 0.0230\n",
      "Epoch 88/100\n",
      "117/117 [==============================] - 13s 115ms/step - loss: 0.0224 - val_loss: 0.0233\n",
      "Epoch 89/100\n",
      "117/117 [==============================] - 15s 128ms/step - loss: 0.0222 - val_loss: 0.0234\n",
      "Epoch 90/100\n",
      "117/117 [==============================] - 13s 115ms/step - loss: 0.0221 - val_loss: 0.0232\n",
      "Epoch 91/100\n",
      "117/117 [==============================] - 14s 121ms/step - loss: 0.0218 - val_loss: 0.0235\n",
      "Epoch 92/100\n",
      "117/117 [==============================] - 15s 132ms/step - loss: 0.0216 - val_loss: 0.0239\n",
      "Epoch 00092: early stopping\n"
     ]
    }
   ],
   "source": [
    "history = model.fit(train_univariate_hs, epochs=n_epochs, steps_per_epoch=n_steps_per_epoch,\n",
    "                    validation_data=validation_univariate_hs, validation_steps=n_validation_steps, verbose =1,\n",
    "                    callbacks = keras_callbacks)"
   ]
  },
  {
   "cell_type": "markdown",
   "metadata": {},
   "source": [
    "**Validate the model**"
   ]
  },
  {
   "cell_type": "code",
   "execution_count": 34,
   "metadata": {},
   "outputs": [
    {
     "data": {
      "image/png": "[encoded data removed]",
      "text/plain": [
       "<Figure size 432x288 with 1 Axes>"
      ]
     },
     "metadata": {
      "needs_background": "light"
     },
     "output_type": "display_data"
    }
   ],
   "source": [
    "loss = history.history['loss']\n",
    "val_loss = history.history['val_loss']\n",
    "\n",
    "epochs = range(1, len(loss) + 1)\n",
    "\n",
    "\n",
    "plt.plot(epochs, loss, 'bo', label='Training loss')\n",
    "plt.plot(epochs, val_loss, 'b', label='Validation loss')\n",
    "plt.title('Training and validation loss')\n",
    "plt.legend()\n",
    "\n",
    "plt.show()"
   ]
  },
  {
   "cell_type": "markdown",
   "metadata": {},
   "source": [
    "**Test the model**"
   ]
  },
  {
   "cell_type": "code",
   "execution_count": 35,
   "metadata": {},
   "outputs": [],
   "source": [
    "trained_lstm_model_hs = tf.keras.models.load_model(model_path)"
   ]
  },
  {
   "cell_type": "code",
   "execution_count": 36,
   "metadata": {},
   "outputs": [
    {
     "data": {
      "text/plain": [
       "array([[0.6260904 , 0.6293826 , 0.6134758 , 0.59348387, 0.5574149 ,\n",
       "        0.5033061 , 0.4394251 , 0.37882045, 0.3272102 , 0.2887445 ]],\n",
       "      dtype=float32)"
      ]
     },
     "execution_count": 36,
     "metadata": {},
     "output_type": "execute_result"
    }
   ],
   "source": [
    "df_temp = df['traffic_volume']\n",
    "test_horizon = df_temp.tail(univar_hist_window_hs)\n",
    "test_history = test_horizon.values\n",
    "\n",
    "\n",
    "test_scaled = scaler_x.fit_transform(test_history.reshape(-1, 1))\n",
    "test_scaled = test_scaled.reshape((1, test_scaled.shape[0], 1))\n",
    "\n",
    "# Inserting the model\n",
    "predicted_results = trained_lstm_model_hs.predict(test_scaled)\n",
    "predicted_results"
   ]
  },
  {
   "cell_type": "code",
   "execution_count": 37,
   "metadata": {},
   "outputs": [
    {
     "data": {
      "text/plain": [
       "array([[3999.507 , 4018.7764, 3925.6738, 3808.6611, 3597.5493, 3280.8506,\n",
       "        2906.955 , 2552.236 , 2250.1611, 2025.0216]], dtype=float32)"
      ]
     },
     "execution_count": 37,
     "metadata": {},
     "output_type": "execute_result"
    }
   ],
   "source": [
    "predicted_inv_trans = scaler_x.inverse_transform(predicted_results)\n",
    "predicted_inv_trans"
   ]
  },
  {
   "cell_type": "code",
   "execution_count": 38,
   "metadata": {},
   "outputs": [
    {
     "name": "stdout",
     "output_type": "stream",
     "text": [
      "MSE is : 284439.69056123646\n",
      "MAE is : 464.0355590820312\n",
      "RMSE is : 533.3288765492043\n",
      "MAPE is : 24.392792726600234\n",
      "R2 is : 0.8153374715201618\n",
      "\n"
     ]
    }
   ],
   "source": [
    "timeseries_evaluation_metrics_func(test_data, predicted_inv_trans[0])"
   ]
  },
  {
   "cell_type": "code",
   "execution_count": 39,
   "metadata": {},
   "outputs": [],
   "source": [
    "rmse_lstm_model_hs = np.sqrt(metrics.mean_squared_error(test_data, predicted_inv_trans[0]))"
   ]
  },
  {
   "cell_type": "code",
   "execution_count": 40,
   "metadata": {},
   "outputs": [
    {
     "data": {
      "image/png": "[encoded data removed]",
      "text/plain": [
       "<Figure size 432x288 with 1 Axes>"
      ]
     },
     "metadata": {
      "needs_background": "light"
     },
     "output_type": "display_data"
    }
   ],
   "source": [
    "plt.plot(list(test_data))\n",
    "plt.plot(list(predicted_inv_trans[0]))\n",
    "plt.title(\"Actual vs Predicted\")\n",
    "plt.ylabel(\"Traffic volume\")\n",
    "plt.legend(('Actual','predicted'))\n",
    "plt.show()"
   ]
  },
  {
   "cell_type": "markdown",
   "metadata": {},
   "source": [
    "## Bidirectional LSTM"
   ]
  },
  {
   "cell_type": "markdown",
   "metadata": {},
   "source": [
    "### Single Step Style"
   ]
  },
  {
   "cell_type": "markdown",
   "metadata": {},
   "source": [
    "**Define Layer Structure**"
   ]
  },
  {
   "cell_type": "code",
   "execution_count": 41,
   "metadata": {},
   "outputs": [],
   "source": [
    "model = tf.keras.models.Sequential([\n",
    "    tf.keras.layers.Bidirectional(tf.keras.layers.LSTM(100, return_sequences=True), \n",
    "                                  input_shape=x_train_uni_sss.shape[-2:]),\n",
    "    tf.keras.layers.Bidirectional(tf.keras.layers.LSTM(50)),\n",
    "    tf.keras.layers.Dense(20, activation='softmax'),\n",
    "    tf.keras.layers.Dropout(0.2),\n",
    "    tf.keras.layers.Dense(units=horizon_sss)])\n",
    "\n",
    "model.compile(loss='mse',\n",
    "              optimizer='adam')"
   ]
  },
  {
   "cell_type": "code",
   "execution_count": 42,
   "metadata": {},
   "outputs": [
    {
     "name": "stdout",
     "output_type": "stream",
     "text": [
      "Model: \"sequential_2\"\n",
      "_________________________________________________________________\n",
      "Layer (type)                 Output Shape              Param #   \n",
      "=================================================================\n",
      "bidirectional (Bidirectional (None, 48, 200)           81600     \n",
      "_________________________________________________________________\n",
      "bidirectional_1 (Bidirection (None, 100)               100400    \n",
      "_________________________________________________________________\n",
      "dense_2 (Dense)              (None, 20)                2020      \n",
      "_________________________________________________________________\n",
      "dropout_4 (Dropout)          (None, 20)                0         \n",
      "_________________________________________________________________\n",
      "dense_3 (Dense)              (None, 1)                 21        \n",
      "=================================================================\n",
      "Total params: 184,041\n",
      "Trainable params: 184,041\n",
      "Non-trainable params: 0\n",
      "_________________________________________________________________\n"
     ]
    }
   ],
   "source": [
    "model.summary()"
   ]
  },
  {
   "cell_type": "markdown",
   "metadata": {},
   "source": [
    "**Fit the model**"
   ]
  },
  {
   "cell_type": "code",
   "execution_count": 43,
   "metadata": {},
   "outputs": [],
   "source": [
    "model_path = 'model/bi_lstm_model_sss.h5'"
   ]
  },
  {
   "cell_type": "code",
   "execution_count": 44,
   "metadata": {},
   "outputs": [],
   "source": [
    "keras_callbacks = [tf.keras.callbacks.EarlyStopping(monitor='val_loss', \n",
    "                                                    min_delta=0, patience=10, \n",
    "                                                    verbose=1, mode='min'),\n",
    "                   tf.keras.callbacks.ModelCheckpoint(model_path,monitor='val_loss', \n",
    "                                                      save_best_only=True, \n",
    "                                                      mode='min', verbose=0)]"
   ]
  },
  {
   "cell_type": "code",
   "execution_count": 45,
   "metadata": {},
   "outputs": [
    {
     "name": "stdout",
     "output_type": "stream",
     "text": [
      "Epoch 1/100\n",
      "117/117 [==============================] - 49s 369ms/step - loss: 0.0966 - val_loss: 0.0731\n",
      "Epoch 2/100\n",
      "117/117 [==============================] - 50s 428ms/step - loss: 0.0728 - val_loss: 0.0221\n",
      "Epoch 3/100\n",
      "117/117 [==============================] - 45s 387ms/step - loss: 0.0280 - val_loss: 0.0154\n",
      "Epoch 4/100\n",
      "117/117 [==============================] - 51s 436ms/step - loss: 0.0217 - val_loss: 0.0146\n",
      "Epoch 5/100\n",
      "117/117 [==============================] - 52s 447ms/step - loss: 0.0192 - val_loss: 0.0135\n",
      "Epoch 6/100\n",
      "117/117 [==============================] - 47s 403ms/step - loss: 0.0180 - val_loss: 0.0131\n",
      "Epoch 7/100\n",
      "117/117 [==============================] - 50s 430ms/step - loss: 0.0171 - val_loss: 0.0121\n",
      "Epoch 8/100\n",
      "117/117 [==============================] - 48s 409ms/step - loss: 0.0167 - val_loss: 0.0123\n",
      "Epoch 9/100\n",
      "117/117 [==============================] - 51s 432ms/step - loss: 0.0163 - val_loss: 0.0120\n",
      "Epoch 10/100\n",
      "117/117 [==============================] - 52s 448ms/step - loss: 0.0159 - val_loss: 0.0112\n",
      "Epoch 11/100\n",
      "117/117 [==============================] - 50s 427ms/step - loss: 0.0156 - val_loss: 0.0110\n",
      "Epoch 12/100\n",
      "117/117 [==============================] - 51s 437ms/step - loss: 0.0155 - val_loss: 0.0110\n",
      "Epoch 13/100\n",
      "117/117 [==============================] - 52s 442ms/step - loss: 0.0151 - val_loss: 0.0108\n",
      "Epoch 14/100\n",
      "117/117 [==============================] - 47s 401ms/step - loss: 0.0152 - val_loss: 0.0109\n",
      "Epoch 15/100\n",
      "117/117 [==============================] - 50s 428ms/step - loss: 0.0148 - val_loss: 0.0103\n",
      "Epoch 16/100\n",
      "117/117 [==============================] - 51s 439ms/step - loss: 0.0146 - val_loss: 0.0086\n",
      "Epoch 17/100\n",
      "117/117 [==============================] - 47s 400ms/step - loss: 0.0138 - val_loss: 0.0086\n",
      "Epoch 18/100\n",
      "117/117 [==============================] - 51s 435ms/step - loss: 0.0133 - val_loss: 0.0081\n",
      "Epoch 19/100\n",
      "117/117 [==============================] - 49s 417ms/step - loss: 0.0135 - val_loss: 0.0082\n",
      "Epoch 20/100\n",
      "117/117 [==============================] - 46s 396ms/step - loss: 0.0134 - val_loss: 0.0078\n",
      "Epoch 21/100\n",
      "117/117 [==============================] - 50s 429ms/step - loss: 0.0128 - val_loss: 0.0079\n",
      "Epoch 22/100\n",
      "117/117 [==============================] - 49s 419ms/step - loss: 0.0126 - val_loss: 0.0078\n",
      "Epoch 23/100\n",
      "117/117 [==============================] - 48s 410ms/step - loss: 0.0130 - val_loss: 0.0077\n",
      "Epoch 24/100\n",
      "117/117 [==============================] - 51s 438ms/step - loss: 0.0124 - val_loss: 0.0077\n",
      "Epoch 25/100\n",
      "117/117 [==============================] - 47s 403ms/step - loss: 0.0124 - val_loss: 0.0075\n",
      "Epoch 26/100\n",
      "117/117 [==============================] - 50s 430ms/step - loss: 0.0122 - val_loss: 0.0075\n",
      "Epoch 27/100\n",
      "117/117 [==============================] - 49s 415ms/step - loss: 0.0123 - val_loss: 0.0074\n",
      "Epoch 28/100\n",
      "117/117 [==============================] - 46s 396ms/step - loss: 0.0121 - val_loss: 0.0073\n",
      "Epoch 29/100\n",
      "117/117 [==============================] - 50s 429ms/step - loss: 0.0123 - val_loss: 0.0073\n",
      "Epoch 30/100\n",
      "117/117 [==============================] - 48s 411ms/step - loss: 0.0120 - val_loss: 0.0072\n",
      "Epoch 31/100\n",
      "117/117 [==============================] - 48s 407ms/step - loss: 0.0120 - val_loss: 0.0073\n",
      "Epoch 32/100\n",
      "117/117 [==============================] - 51s 439ms/step - loss: 0.0120 - val_loss: 0.0072\n",
      "Epoch 33/100\n",
      "117/117 [==============================] - 46s 394ms/step - loss: 0.0120 - val_loss: 0.0072\n",
      "Epoch 34/100\n",
      "117/117 [==============================] - 51s 433ms/step - loss: 0.0119 - val_loss: 0.0073\n",
      "Epoch 35/100\n",
      "117/117 [==============================] - 47s 402ms/step - loss: 0.0119 - val_loss: 0.0072\n",
      "Epoch 36/100\n",
      "117/117 [==============================] - 53s 451ms/step - loss: 0.0119 - val_loss: 0.0073\n",
      "Epoch 37/100\n",
      "117/117 [==============================] - 50s 425ms/step - loss: 0.0118 - val_loss: 0.0071\n",
      "Epoch 38/100\n",
      "117/117 [==============================] - 51s 434ms/step - loss: 0.0118 - val_loss: 0.0072\n",
      "Epoch 39/100\n",
      "117/117 [==============================] - 54s 464ms/step - loss: 0.0117 - val_loss: 0.0072\n",
      "Epoch 40/100\n",
      "117/117 [==============================] - 49s 422ms/step - loss: 0.0117 - val_loss: 0.0070\n",
      "Epoch 41/100\n",
      "117/117 [==============================] - 53s 452ms/step - loss: 0.0117 - val_loss: 0.0070\n",
      "Epoch 42/100\n",
      "117/117 [==============================] - 53s 455ms/step - loss: 0.0117 - val_loss: 0.0070\n",
      "Epoch 43/100\n",
      "117/117 [==============================] - 50s 424ms/step - loss: 0.0115 - val_loss: 0.0071\n",
      "Epoch 44/100\n",
      "117/117 [==============================] - 54s 466ms/step - loss: 0.0115 - val_loss: 0.0071\n",
      "Epoch 45/100\n",
      "117/117 [==============================] - 47s 404ms/step - loss: 0.0116 - val_loss: 0.0073\n",
      "Epoch 46/100\n",
      "117/117 [==============================] - 53s 455ms/step - loss: 0.0114 - val_loss: 0.0070\n",
      "Epoch 47/100\n",
      "117/117 [==============================] - 51s 434ms/step - loss: 0.0115 - val_loss: 0.0071\n",
      "Epoch 48/100\n",
      "117/117 [==============================] - 48s 408ms/step - loss: 0.0115 - val_loss: 0.0077\n",
      "Epoch 49/100\n",
      "117/117 [==============================] - 57s 490ms/step - loss: 0.0114 - val_loss: 0.0071\n",
      "Epoch 50/100\n",
      "117/117 [==============================] - 50s 429ms/step - loss: 0.0111 - val_loss: 0.0072\n",
      "Epoch 51/100\n",
      "117/117 [==============================] - 56s 482ms/step - loss: 0.0110 - val_loss: 0.0073\n",
      "Epoch 00051: early stopping\n"
     ]
    }
   ],
   "source": [
    "history = model.fit(train_univariate_sss, epochs=n_epochs, steps_per_epoch=n_steps_per_epoch,\n",
    "                    validation_data=validation_univariate_sss, validation_steps=n_validation_steps, verbose =1,\n",
    "                    callbacks = keras_callbacks)"
   ]
  },
  {
   "cell_type": "markdown",
   "metadata": {},
   "source": [
    "**Validate the model**"
   ]
  },
  {
   "cell_type": "code",
   "execution_count": 46,
   "metadata": {},
   "outputs": [
    {
     "data": {
      "image/png": "[encoded data removed]",
      "text/plain": [
       "<Figure size 432x288 with 1 Axes>"
      ]
     },
     "metadata": {
      "needs_background": "light"
     },
     "output_type": "display_data"
    }
   ],
   "source": [
    "loss = history.history['loss']\n",
    "val_loss = history.history['val_loss']\n",
    "\n",
    "epochs = range(1, len(loss) + 1)\n",
    "\n",
    "\n",
    "plt.plot(epochs, loss, 'bo', label='Training loss')\n",
    "plt.plot(epochs, val_loss, 'b', label='Validation loss')\n",
    "plt.title('Training and validation loss')\n",
    "plt.legend()\n",
    "\n",
    "plt.show()"
   ]
  },
  {
   "cell_type": "markdown",
   "metadata": {},
   "source": [
    "**Test the model**"
   ]
  },
  {
   "cell_type": "code",
   "execution_count": 47,
   "metadata": {},
   "outputs": [],
   "source": [
    "trained_bi_lstm_model_sss = tf.keras.models.load_model(model_path)"
   ]
  },
  {
   "cell_type": "code",
   "execution_count": 48,
   "metadata": {},
   "outputs": [
    {
     "name": "stdout",
     "output_type": "stream",
     "text": [
      "predicted : [[0.65958625]]\n",
      "predicted : [[0.6638803]]\n",
      "predicted : [[0.6558111]]\n",
      "predicted : [[0.65843725]]\n",
      "predicted : [[0.66241646]]\n",
      "predicted : [[0.6514476]]\n",
      "predicted : [[0.62076354]]\n",
      "predicted : [[0.5616572]]\n",
      "predicted : [[0.47837794]]\n",
      "predicted : [[0.40990025]]\n"
     ]
    }
   ],
   "source": [
    "df_temp = df['traffic_volume']\n",
    "test_horizon = df_temp.tail(univar_hist_window_sss)\n",
    "test_history = test_horizon.values\n",
    "\n",
    "result = []\n",
    "# Define Forecast length here\n",
    "window_len = len(test_data)\n",
    "test_scaled = scaler_x.fit_transform(test_history.reshape(-1, 1))\n",
    "\n",
    "for i in range(1, window_len+1):\n",
    "    \n",
    "    test_scaled = test_scaled.reshape((1, test_scaled.shape[0], 1))\n",
    "    \n",
    "    # Inserting the model\n",
    "    predicted_results = trained_bi_lstm_model_sss.predict(test_scaled)\n",
    "    \n",
    "    print(f'predicted : {predicted_results}')\n",
    "    result.append(predicted_results[0])\n",
    "    test_scaled = np.append(test_scaled[:,1:],[[predicted_results]])"
   ]
  },
  {
   "cell_type": "code",
   "execution_count": 49,
   "metadata": {},
   "outputs": [
    {
     "data": {
      "text/plain": [
       "array([[4195.55832583],\n",
       "       [4220.69132918],\n",
       "       [4173.46220088],\n",
       "       [4188.83323622],\n",
       "       [4212.12352943],\n",
       "       [4147.92276865],\n",
       "       [3968.32900119],\n",
       "       [3622.37953496],\n",
       "       [3134.9460727 ],\n",
       "       [2734.14615184]])"
      ]
     },
     "execution_count": 49,
     "metadata": {},
     "output_type": "execute_result"
    }
   ],
   "source": [
    "result_inv_trans = scaler_x.inverse_transform(result)\n",
    "result_inv_trans"
   ]
  },
  {
   "cell_type": "code",
   "execution_count": 50,
   "metadata": {},
   "outputs": [
    {
     "name": "stdout",
     "output_type": "stream",
     "text": [
      "MSE is : 1017161.6362175249\n",
      "MAE is : 771.1968439102172\n",
      "RMSE is : 1008.544315445546\n",
      "MAPE is : 66.03169019553141\n",
      "R2 is : 0.3396433555176447\n",
      "\n"
     ]
    }
   ],
   "source": [
    "timeseries_evaluation_metrics_func(test_data, result_inv_trans)"
   ]
  },
  {
   "cell_type": "code",
   "execution_count": 51,
   "metadata": {},
   "outputs": [],
   "source": [
    "rmse_bi_lstm_model_sss = np.sqrt(metrics.mean_squared_error(test_data, result_inv_trans))"
   ]
  },
  {
   "cell_type": "code",
   "execution_count": 52,
   "metadata": {},
   "outputs": [
    {
     "data": {
      "image/png": "[encoded data removed]",
      "text/plain": [
       "<Figure size 432x288 with 1 Axes>"
      ]
     },
     "metadata": {
      "needs_background": "light"
     },
     "output_type": "display_data"
    }
   ],
   "source": [
    "plt.plot(list(test_data))\n",
    "plt.plot(list(result_inv_trans))\n",
    "plt.title(\"Actual vs Predicted\")\n",
    "plt.ylabel(\"Traffic volume\")\n",
    "plt.legend(('Actual','predicted'))\n",
    "plt.show()"
   ]
  },
  {
   "cell_type": "markdown",
   "metadata": {},
   "source": [
    "### Horizon Style"
   ]
  },
  {
   "cell_type": "markdown",
   "metadata": {},
   "source": [
    "**Define Layer Structure**"
   ]
  },
  {
   "cell_type": "code",
   "execution_count": 53,
   "metadata": {},
   "outputs": [],
   "source": [
    "model = tf.keras.models.Sequential([\n",
    "    tf.keras.layers.Bidirectional(tf.keras.layers.LSTM(100, return_sequences=True), \n",
    "                                  input_shape=x_train_uni_hs.shape[-2:]),\n",
    "    tf.keras.layers.Bidirectional(tf.keras.layers.LSTM(50)),\n",
    "    tf.keras.layers.Dense(20, activation='softmax'),\n",
    "    tf.keras.layers.Dropout(0.2),\n",
    "    tf.keras.layers.Dense(units=horizon_hs)])\n",
    "\n",
    "model.compile(loss='mse',\n",
    "              optimizer='adam')"
   ]
  },
  {
   "cell_type": "code",
   "execution_count": 54,
   "metadata": {},
   "outputs": [
    {
     "name": "stdout",
     "output_type": "stream",
     "text": [
      "Model: \"sequential_3\"\n",
      "_________________________________________________________________\n",
      "Layer (type)                 Output Shape              Param #   \n",
      "=================================================================\n",
      "bidirectional_2 (Bidirection (None, 48, 200)           81600     \n",
      "_________________________________________________________________\n",
      "bidirectional_3 (Bidirection (None, 100)               100400    \n",
      "_________________________________________________________________\n",
      "dense_4 (Dense)              (None, 20)                2020      \n",
      "_________________________________________________________________\n",
      "dropout_5 (Dropout)          (None, 20)                0         \n",
      "_________________________________________________________________\n",
      "dense_5 (Dense)              (None, 10)                210       \n",
      "=================================================================\n",
      "Total params: 184,230\n",
      "Trainable params: 184,230\n",
      "Non-trainable params: 0\n",
      "_________________________________________________________________\n"
     ]
    }
   ],
   "source": [
    "model.summary()"
   ]
  },
  {
   "cell_type": "markdown",
   "metadata": {},
   "source": [
    "**Fit the model**"
   ]
  },
  {
   "cell_type": "code",
   "execution_count": 55,
   "metadata": {},
   "outputs": [],
   "source": [
    "model_path = 'model/bi_lstm_model_hs.h5'"
   ]
  },
  {
   "cell_type": "code",
   "execution_count": 56,
   "metadata": {},
   "outputs": [],
   "source": [
    "keras_callbacks = [tf.keras.callbacks.EarlyStopping(monitor='val_loss', \n",
    "                                                    min_delta=0, patience=10, \n",
    "                                                    verbose=1, mode='min'),\n",
    "                   tf.keras.callbacks.ModelCheckpoint(model_path,monitor='val_loss', \n",
    "                                                      save_best_only=True, \n",
    "                                                      mode='min', verbose=0)]"
   ]
  },
  {
   "cell_type": "code",
   "execution_count": 57,
   "metadata": {},
   "outputs": [
    {
     "name": "stdout",
     "output_type": "stream",
     "text": [
      "Epoch 1/100\n",
      "117/117 [==============================] - 63s 487ms/step - loss: 0.1830 - val_loss: 0.0970\n",
      "Epoch 2/100\n",
      "117/117 [==============================] - 54s 466ms/step - loss: 0.0910 - val_loss: 0.0725\n",
      "Epoch 3/100\n",
      "117/117 [==============================] - 56s 482ms/step - loss: 0.0782 - val_loss: 0.0660\n",
      "Epoch 4/100\n",
      "117/117 [==============================] - 60s 509ms/step - loss: 0.0737 - val_loss: 0.0621\n",
      "Epoch 5/100\n",
      "117/117 [==============================] - 53s 452ms/step - loss: 0.0697 - val_loss: 0.0589\n",
      "Epoch 6/100\n",
      "117/117 [==============================] - 61s 524ms/step - loss: 0.0663 - val_loss: 0.0554\n",
      "Epoch 7/100\n",
      "117/117 [==============================] - 58s 492ms/step - loss: 0.0616 - val_loss: 0.0491\n",
      "Epoch 8/100\n",
      "117/117 [==============================] - 59s 507ms/step - loss: 0.0561 - val_loss: 0.0485\n",
      "Epoch 9/100\n",
      "117/117 [==============================] - 59s 501ms/step - loss: 0.0554 - val_loss: 0.0402\n",
      "Epoch 10/100\n",
      "117/117 [==============================] - 52s 441ms/step - loss: 0.0520 - val_loss: 0.0387\n",
      "Epoch 11/100\n",
      "117/117 [==============================] - 61s 524ms/step - loss: 0.0497 - val_loss: 0.0373\n",
      "Epoch 12/100\n",
      "117/117 [==============================] - 55s 471ms/step - loss: 0.0490 - val_loss: 0.0352\n",
      "Epoch 13/100\n",
      "117/117 [==============================] - 57s 484ms/step - loss: 0.0468 - val_loss: 0.0343\n",
      "Epoch 14/100\n",
      "117/117 [==============================] - 58s 497ms/step - loss: 0.0454 - val_loss: 0.0335\n",
      "Epoch 15/100\n",
      "117/117 [==============================] - 53s 451ms/step - loss: 0.0442 - val_loss: 0.0328\n",
      "Epoch 16/100\n",
      "117/117 [==============================] - 59s 509ms/step - loss: 0.0436 - val_loss: 0.0321\n",
      "Epoch 17/100\n",
      "117/117 [==============================] - 55s 467ms/step - loss: 0.0427 - val_loss: 0.0338\n",
      "Epoch 18/100\n",
      "117/117 [==============================] - 58s 492ms/step - loss: 0.0419 - val_loss: 0.0335\n",
      "Epoch 19/100\n",
      "117/117 [==============================] - 60s 511ms/step - loss: 0.0408 - val_loss: 0.0327\n",
      "Epoch 20/100\n",
      "117/117 [==============================] - 54s 460ms/step - loss: 0.0402 - val_loss: 0.0313\n",
      "Epoch 21/100\n",
      "117/117 [==============================] - 58s 498ms/step - loss: 0.0393 - val_loss: 0.0297\n",
      "Epoch 22/100\n",
      "117/117 [==============================] - 53s 457ms/step - loss: 0.0388 - val_loss: 0.0296\n",
      "Epoch 23/100\n",
      "117/117 [==============================] - 57s 488ms/step - loss: 0.0383 - val_loss: 0.0287\n",
      "Epoch 24/100\n",
      "117/117 [==============================] - 59s 508ms/step - loss: 0.0375 - val_loss: 0.0280\n",
      "Epoch 25/100\n",
      "117/117 [==============================] - 55s 467ms/step - loss: 0.0376 - val_loss: 0.0280\n",
      "Epoch 26/100\n",
      "117/117 [==============================] - 58s 499ms/step - loss: 0.0371 - val_loss: 0.0275\n",
      "Epoch 27/100\n",
      "117/117 [==============================] - 52s 447ms/step - loss: 0.0364 - val_loss: 0.0270\n",
      "Epoch 28/100\n",
      "117/117 [==============================] - 63s 536ms/step - loss: 0.0359 - val_loss: 0.0265\n",
      "Epoch 29/100\n",
      "117/117 [==============================] - 56s 483ms/step - loss: 0.0359 - val_loss: 0.0265\n",
      "Epoch 30/100\n",
      "117/117 [==============================] - 56s 479ms/step - loss: 0.0351 - val_loss: 0.0263\n",
      "Epoch 31/100\n",
      "117/117 [==============================] - 59s 505ms/step - loss: 0.0348 - val_loss: 0.0259\n",
      "Epoch 32/100\n",
      "117/117 [==============================] - 55s 466ms/step - loss: 0.0343 - val_loss: 0.0262\n",
      "Epoch 33/100\n",
      "117/117 [==============================] - 60s 516ms/step - loss: 0.0340 - val_loss: 0.0261\n",
      "Epoch 34/100\n",
      "117/117 [==============================] - 54s 464ms/step - loss: 0.0335 - val_loss: 0.0266\n",
      "Epoch 35/100\n",
      "117/117 [==============================] - 60s 516ms/step - loss: 0.0337 - val_loss: 0.0261\n",
      "Epoch 36/100\n",
      "117/117 [==============================] - 57s 492ms/step - loss: 0.0334 - val_loss: 0.0255\n",
      "Epoch 37/100\n",
      "117/117 [==============================] - 57s 485ms/step - loss: 0.0329 - val_loss: 0.0254\n",
      "Epoch 38/100\n",
      "117/117 [==============================] - 61s 523ms/step - loss: 0.0327 - val_loss: 0.0255\n",
      "Epoch 39/100\n",
      "117/117 [==============================] - 56s 477ms/step - loss: 0.0323 - val_loss: 0.0251\n",
      "Epoch 40/100\n",
      "117/117 [==============================] - 56s 481ms/step - loss: 0.0320 - val_loss: 0.0244\n",
      "Epoch 41/100\n",
      "117/117 [==============================] - 61s 518ms/step - loss: 0.0317 - val_loss: 0.0245\n",
      "Epoch 42/100\n",
      "117/117 [==============================] - 57s 486ms/step - loss: 0.0315 - val_loss: 0.0246\n",
      "Epoch 43/100\n",
      "117/117 [==============================] - 59s 501ms/step - loss: 0.0312 - val_loss: 0.0249\n",
      "Epoch 44/100\n",
      "117/117 [==============================] - 60s 513ms/step - loss: 0.0310 - val_loss: 0.0245\n",
      "Epoch 45/100\n",
      "117/117 [==============================] - 56s 480ms/step - loss: 0.0310 - val_loss: 0.0252\n",
      "Epoch 46/100\n",
      "117/117 [==============================] - 59s 506ms/step - loss: 0.0320 - val_loss: 0.0242\n",
      "Epoch 47/100\n",
      "117/117 [==============================] - 57s 487ms/step - loss: 0.0303 - val_loss: 0.0241\n",
      "Epoch 48/100\n",
      "117/117 [==============================] - 57s 489ms/step - loss: 0.0300 - val_loss: 0.0236\n",
      "Epoch 49/100\n",
      "117/117 [==============================] - 61s 524ms/step - loss: 0.0298 - val_loss: 0.0237\n",
      "Epoch 50/100\n",
      "117/117 [==============================] - 55s 467ms/step - loss: 0.0295 - val_loss: 0.0239\n",
      "Epoch 51/100\n",
      "117/117 [==============================] - 62s 528ms/step - loss: 0.0297 - val_loss: 0.0234\n",
      "Epoch 52/100\n",
      "117/117 [==============================] - 57s 490ms/step - loss: 0.0294 - val_loss: 0.0234\n",
      "Epoch 53/100\n",
      "117/117 [==============================] - 58s 493ms/step - loss: 0.0290 - val_loss: 0.0240\n",
      "Epoch 54/100\n",
      "117/117 [==============================] - 60s 510ms/step - loss: 0.0292 - val_loss: 0.0233\n",
      "Epoch 55/100\n",
      "117/117 [==============================] - 55s 473ms/step - loss: 0.0288 - val_loss: 0.0235\n",
      "Epoch 56/100\n",
      "117/117 [==============================] - 62s 528ms/step - loss: 0.0285 - val_loss: 0.0235\n",
      "Epoch 57/100\n",
      "117/117 [==============================] - 53s 456ms/step - loss: 0.0288 - val_loss: 0.0232\n",
      "Epoch 58/100\n",
      "117/117 [==============================] - 61s 517ms/step - loss: 0.0284 - val_loss: 0.0234\n",
      "Epoch 59/100\n",
      "117/117 [==============================] - 58s 497ms/step - loss: 0.0284 - val_loss: 0.0235\n",
      "Epoch 60/100\n",
      "117/117 [==============================] - 59s 500ms/step - loss: 0.0283 - val_loss: 0.0233\n",
      "Epoch 61/100\n",
      "117/117 [==============================] - 62s 529ms/step - loss: 0.0283 - val_loss: 0.0236\n",
      "Epoch 62/100\n",
      "117/117 [==============================] - 55s 470ms/step - loss: 0.0278 - val_loss: 0.0236\n",
      "Epoch 63/100\n",
      "117/117 [==============================] - 61s 523ms/step - loss: 0.0277 - val_loss: 0.0234\n",
      "Epoch 64/100\n",
      "117/117 [==============================] - 55s 468ms/step - loss: 0.0278 - val_loss: 0.0236\n",
      "Epoch 65/100\n",
      "117/117 [==============================] - 60s 510ms/step - loss: 0.0276 - val_loss: 0.0242\n",
      "Epoch 66/100\n",
      "117/117 [==============================] - 58s 495ms/step - loss: 0.0276 - val_loss: 0.0242\n",
      "Epoch 67/100\n",
      "117/117 [==============================] - 55s 469ms/step - loss: 0.0274 - val_loss: 0.0230\n",
      "Epoch 68/100\n",
      "117/117 [==============================] - 59s 509ms/step - loss: 0.0272 - val_loss: 0.0235\n",
      "Epoch 69/100\n",
      "117/117 [==============================] - 57s 484ms/step - loss: 0.0268 - val_loss: 0.0236\n",
      "Epoch 70/100\n",
      "117/117 [==============================] - 58s 500ms/step - loss: 0.0281 - val_loss: 0.0246\n",
      "Epoch 71/100\n",
      "117/117 [==============================] - 58s 498ms/step - loss: 0.0281 - val_loss: 0.0255\n",
      "Epoch 72/100\n",
      "117/117 [==============================] - 56s 475ms/step - loss: 0.0276 - val_loss: 0.0248\n",
      "Epoch 73/100\n",
      "117/117 [==============================] - 61s 521ms/step - loss: 0.0270 - val_loss: 0.0255\n",
      "Epoch 74/100\n",
      "117/117 [==============================] - 58s 499ms/step - loss: 0.0273 - val_loss: 0.0253\n",
      "Epoch 75/100\n",
      "117/117 [==============================] - 59s 499ms/step - loss: 0.0266 - val_loss: 0.0248\n",
      "Epoch 76/100\n",
      "117/117 [==============================] - 60s 516ms/step - loss: 0.0267 - val_loss: 0.0245\n",
      "Epoch 77/100\n",
      "117/117 [==============================] - 54s 459ms/step - loss: 0.0263 - val_loss: 0.0248\n",
      "Epoch 00077: early stopping\n"
     ]
    }
   ],
   "source": [
    "history = model.fit(train_univariate_hs, epochs=n_epochs, steps_per_epoch=n_steps_per_epoch,\n",
    "                    validation_data=validation_univariate_hs, validation_steps=n_validation_steps, verbose =1,\n",
    "                    callbacks = keras_callbacks)"
   ]
  },
  {
   "cell_type": "markdown",
   "metadata": {},
   "source": [
    "**Validate the model**"
   ]
  },
  {
   "cell_type": "code",
   "execution_count": 58,
   "metadata": {},
   "outputs": [
    {
     "data": {
      "image/png": "[encoded data removed]",
      "text/plain": [
       "<Figure size 432x288 with 1 Axes>"
      ]
     },
     "metadata": {
      "needs_background": "light"
     },
     "output_type": "display_data"
    }
   ],
   "source": [
    "loss = history.history['loss']\n",
    "val_loss = history.history['val_loss']\n",
    "\n",
    "epochs = range(1, len(loss) + 1)\n",
    "\n",
    "\n",
    "plt.plot(epochs, loss, 'bo', label='Training loss')\n",
    "plt.plot(epochs, val_loss, 'b', label='Validation loss')\n",
    "plt.title('Training and validation loss')\n",
    "plt.legend()\n",
    "\n",
    "plt.show()"
   ]
  },
  {
   "cell_type": "markdown",
   "metadata": {},
   "source": [
    "**Test the model**"
   ]
  },
  {
   "cell_type": "code",
   "execution_count": 59,
   "metadata": {},
   "outputs": [],
   "source": [
    "trained_bi_lstm_model_hs = tf.keras.models.load_model(model_path)"
   ]
  },
  {
   "cell_type": "code",
   "execution_count": 60,
   "metadata": {},
   "outputs": [
    {
     "data": {
      "text/plain": [
       "array([[0.63119113, 0.6338015 , 0.6221781 , 0.6095376 , 0.59628034,\n",
       "        0.57363194, 0.5343294 , 0.4838582 , 0.4357484 , 0.39525127]],\n",
       "      dtype=float32)"
      ]
     },
     "execution_count": 60,
     "metadata": {},
     "output_type": "execute_result"
    }
   ],
   "source": [
    "df_temp = df['traffic_volume']\n",
    "test_horizon = df_temp.tail(univar_hist_window_hs)\n",
    "test_history = test_horizon.values\n",
    "\n",
    "\n",
    "test_scaled = scaler_x.fit_transform(test_history.reshape(-1, 1))\n",
    "test_scaled = test_scaled.reshape((1, test_scaled.shape[0], 1))\n",
    "\n",
    "# Inserting the model\n",
    "predicted_results = trained_bi_lstm_model_hs.predict(test_scaled)\n",
    "predicted_results"
   ]
  },
  {
   "cell_type": "code",
   "execution_count": 61,
   "metadata": {},
   "outputs": [
    {
     "data": {
      "text/plain": [
       "array([[4029.3616, 4044.6401, 3976.6082, 3902.6235, 3825.0288, 3692.4678,\n",
       "        3462.43  , 3167.0222, 2885.4353, 2648.4058]], dtype=float32)"
      ]
     },
     "execution_count": 61,
     "metadata": {},
     "output_type": "execute_result"
    }
   ],
   "source": [
    "predicted_inv_trans = scaler_x.inverse_transform(predicted_results)\n",
    "predicted_inv_trans"
   ]
  },
  {
   "cell_type": "code",
   "execution_count": 62,
   "metadata": {},
   "outputs": [
    {
     "name": "stdout",
     "output_type": "stream",
     "text": [
      "MSE is : 700772.4352698624\n",
      "MAE is : 652.8498779296875\n",
      "RMSE is : 837.12151762445\n",
      "MAPE is : 38.7883749188566\n",
      "R2 is : 0.5450479870422762\n",
      "\n"
     ]
    }
   ],
   "source": [
    "timeseries_evaluation_metrics_func(test_data, predicted_inv_trans[0])"
   ]
  },
  {
   "cell_type": "code",
   "execution_count": 63,
   "metadata": {},
   "outputs": [],
   "source": [
    "rmse_bi_lstm_model_hs = np.sqrt(metrics.mean_squared_error(test_data, predicted_inv_trans[0]))"
   ]
  },
  {
   "cell_type": "code",
   "execution_count": 64,
   "metadata": {},
   "outputs": [
    {
     "data": {
      "image/png": "[encoded data removed]",
      "text/plain": [
       "<Figure size 432x288 with 1 Axes>"
      ]
     },
     "metadata": {
      "needs_background": "light"
     },
     "output_type": "display_data"
    }
   ],
   "source": [
    "plt.plot(list(test_data))\n",
    "plt.plot(list(predicted_inv_trans[0]))\n",
    "plt.title(\"Actual vs Predicted\")\n",
    "plt.ylabel(\"Traffic volume\")\n",
    "plt.legend(('Actual','predicted'))\n",
    "plt.show()"
   ]
  },
  {
   "cell_type": "markdown",
   "metadata": {},
   "source": [
    "## GRU"
   ]
  },
  {
   "cell_type": "markdown",
   "metadata": {},
   "source": [
    "### Single Step Style"
   ]
  },
  {
   "cell_type": "markdown",
   "metadata": {},
   "source": [
    "**Define Layer Structure**"
   ]
  },
  {
   "cell_type": "code",
   "execution_count": 65,
   "metadata": {},
   "outputs": [],
   "source": [
    "model = tf.keras.models.Sequential([\n",
    "    tf.keras.layers.GRU(100, input_shape=x_train_uni_sss.shape[-2:],return_sequences=True),\n",
    "    tf.keras.layers.Dropout(0.2),\n",
    "    tf.keras.layers.GRU(units=50,return_sequences=False),\n",
    "    tf.keras.layers.Dropout(0.2),\n",
    "    tf.keras.layers.Dense(units=horizon_sss)])\n",
    "\n",
    "model.compile(loss='mse',\n",
    "              optimizer='adam')"
   ]
  },
  {
   "cell_type": "code",
   "execution_count": 66,
   "metadata": {},
   "outputs": [
    {
     "name": "stdout",
     "output_type": "stream",
     "text": [
      "Model: \"sequential_4\"\n",
      "_________________________________________________________________\n",
      "Layer (type)                 Output Shape              Param #   \n",
      "=================================================================\n",
      "gru (GRU)                    (None, 48, 100)           30900     \n",
      "_________________________________________________________________\n",
      "dropout_6 (Dropout)          (None, 48, 100)           0         \n",
      "_________________________________________________________________\n",
      "gru_1 (GRU)                  (None, 50)                22800     \n",
      "_________________________________________________________________\n",
      "dropout_7 (Dropout)          (None, 50)                0         \n",
      "_________________________________________________________________\n",
      "dense_6 (Dense)              (None, 1)                 51        \n",
      "=================================================================\n",
      "Total params: 53,751\n",
      "Trainable params: 53,751\n",
      "Non-trainable params: 0\n",
      "_________________________________________________________________\n"
     ]
    }
   ],
   "source": [
    "model.summary()"
   ]
  },
  {
   "cell_type": "markdown",
   "metadata": {},
   "source": [
    "**Fit the model**"
   ]
  },
  {
   "cell_type": "code",
   "execution_count": 67,
   "metadata": {},
   "outputs": [],
   "source": [
    "model_path = 'model/gru_model_sss.h5'"
   ]
  },
  {
   "cell_type": "code",
   "execution_count": 68,
   "metadata": {},
   "outputs": [],
   "source": [
    "keras_callbacks = [tf.keras.callbacks.EarlyStopping(monitor='val_loss', \n",
    "                                                    min_delta=0, patience=10, \n",
    "                                                    verbose=1, mode='min'),\n",
    "                   tf.keras.callbacks.ModelCheckpoint(model_path,monitor='val_loss', \n",
    "                                                      save_best_only=True, \n",
    "                                                      mode='min', verbose=0)]"
   ]
  },
  {
   "cell_type": "code",
   "execution_count": 69,
   "metadata": {},
   "outputs": [
    {
     "name": "stdout",
     "output_type": "stream",
     "text": [
      "Epoch 1/100\n",
      "117/117 [==============================] - 36s 278ms/step - loss: 0.0730 - val_loss: 0.0194\n",
      "Epoch 2/100\n",
      "117/117 [==============================] - 27s 228ms/step - loss: 0.0218 - val_loss: 0.0135\n",
      "Epoch 3/100\n",
      "117/117 [==============================] - 28s 237ms/step - loss: 0.0177 - val_loss: 0.0127\n",
      "Epoch 4/100\n",
      "117/117 [==============================] - 28s 241ms/step - loss: 0.0164 - val_loss: 0.0118\n",
      "Epoch 5/100\n",
      "117/117 [==============================] - 29s 245ms/step - loss: 0.0152 - val_loss: 0.0109\n",
      "Epoch 6/100\n",
      "117/117 [==============================] - 27s 228ms/step - loss: 0.0146 - val_loss: 0.0102\n",
      "Epoch 7/100\n",
      "117/117 [==============================] - 27s 230ms/step - loss: 0.0144 - val_loss: 0.0104\n",
      "Epoch 8/100\n",
      "117/117 [==============================] - 29s 246ms/step - loss: 0.0141 - val_loss: 0.0101\n",
      "Epoch 9/100\n",
      "117/117 [==============================] - 28s 242ms/step - loss: 0.0140 - val_loss: 0.0101\n",
      "Epoch 10/100\n",
      "117/117 [==============================] - 27s 231ms/step - loss: 0.0139 - val_loss: 0.0100\n",
      "Epoch 11/100\n",
      "117/117 [==============================] - 29s 245ms/step - loss: 0.0138 - val_loss: 0.0100\n",
      "Epoch 12/100\n",
      "117/117 [==============================] - 28s 238ms/step - loss: 0.0136 - val_loss: 0.0099\n",
      "Epoch 13/100\n",
      "117/117 [==============================] - 27s 230ms/step - loss: 0.0134 - val_loss: 0.0098\n",
      "Epoch 14/100\n",
      "117/117 [==============================] - 28s 239ms/step - loss: 0.0133 - val_loss: 0.0098\n",
      "Epoch 15/100\n",
      "117/117 [==============================] - 29s 250ms/step - loss: 0.0131 - val_loss: 0.0097\n",
      "Epoch 16/100\n",
      "117/117 [==============================] - 26s 225ms/step - loss: 0.0131 - val_loss: 0.0096\n",
      "Epoch 17/100\n",
      "117/117 [==============================] - 27s 232ms/step - loss: 0.0131 - val_loss: 0.0095\n",
      "Epoch 18/100\n",
      "117/117 [==============================] - 29s 249ms/step - loss: 0.0128 - val_loss: 0.0095\n",
      "Epoch 19/100\n",
      "117/117 [==============================] - 28s 236ms/step - loss: 0.0127 - val_loss: 0.0093\n",
      "Epoch 20/100\n",
      "117/117 [==============================] - 27s 230ms/step - loss: 0.0127 - val_loss: 0.0092\n",
      "Epoch 21/100\n",
      "117/117 [==============================] - 27s 233ms/step - loss: 0.0126 - val_loss: 0.0091\n",
      "Epoch 22/100\n",
      "117/117 [==============================] - 30s 257ms/step - loss: 0.0124 - val_loss: 0.0090\n",
      "Epoch 23/100\n",
      "117/117 [==============================] - 27s 227ms/step - loss: 0.0122 - val_loss: 0.0089\n",
      "Epoch 24/100\n",
      "117/117 [==============================] - 27s 230ms/step - loss: 0.0121 - val_loss: 0.0088\n",
      "Epoch 25/100\n",
      "117/117 [==============================] - 29s 252ms/step - loss: 0.0120 - val_loss: 0.0087\n",
      "Epoch 26/100\n",
      "117/117 [==============================] - 26s 225ms/step - loss: 0.0117 - val_loss: 0.0086\n",
      "Epoch 27/100\n",
      "117/117 [==============================] - 27s 227ms/step - loss: 0.0118 - val_loss: 0.0085\n",
      "Epoch 28/100\n",
      "117/117 [==============================] - 28s 237ms/step - loss: 0.0117 - val_loss: 0.0084\n",
      "Epoch 29/100\n",
      "117/117 [==============================] - 28s 242ms/step - loss: 0.0115 - val_loss: 0.0084\n",
      "Epoch 30/100\n",
      "117/117 [==============================] - 26s 220ms/step - loss: 0.0115 - val_loss: 0.0083\n",
      "Epoch 31/100\n",
      "117/117 [==============================] - 27s 227ms/step - loss: 0.0113 - val_loss: 0.0083\n",
      "Epoch 32/100\n",
      "117/117 [==============================] - 28s 238ms/step - loss: 0.0113 - val_loss: 0.0082\n",
      "Epoch 33/100\n",
      "117/117 [==============================] - 28s 240ms/step - loss: 0.0111 - val_loss: 0.0081\n",
      "Epoch 34/100\n",
      "117/117 [==============================] - 26s 220ms/step - loss: 0.0111 - val_loss: 0.0081\n",
      "Epoch 35/100\n",
      "117/117 [==============================] - 28s 240ms/step - loss: 0.0109 - val_loss: 0.0080\n",
      "Epoch 36/100\n",
      "117/117 [==============================] - 28s 243ms/step - loss: 0.0108 - val_loss: 0.0079\n",
      "Epoch 37/100\n",
      "117/117 [==============================] - 26s 224ms/step - loss: 0.0109 - val_loss: 0.0079\n",
      "Epoch 38/100\n",
      "117/117 [==============================] - 26s 226ms/step - loss: 0.0108 - val_loss: 0.0078\n",
      "Epoch 39/100\n",
      "117/117 [==============================] - 28s 243ms/step - loss: 0.0106 - val_loss: 0.0078\n",
      "Epoch 40/100\n",
      "117/117 [==============================] - 29s 246ms/step - loss: 0.0105 - val_loss: 0.0078\n",
      "Epoch 41/100\n",
      "117/117 [==============================] - 26s 226ms/step - loss: 0.0104 - val_loss: 0.0077\n",
      "Epoch 42/100\n",
      "117/117 [==============================] - 29s 246ms/step - loss: 0.0104 - val_loss: 0.0076\n",
      "Epoch 43/100\n",
      "117/117 [==============================] - 29s 250ms/step - loss: 0.0103 - val_loss: 0.0076\n",
      "Epoch 44/100\n",
      "117/117 [==============================] - 26s 223ms/step - loss: 0.0101 - val_loss: 0.0076\n",
      "Epoch 45/100\n",
      "117/117 [==============================] - 27s 228ms/step - loss: 0.0102 - val_loss: 0.0075\n",
      "Epoch 46/100\n",
      "117/117 [==============================] - 29s 247ms/step - loss: 0.0101 - val_loss: 0.0074\n",
      "Epoch 47/100\n",
      "117/117 [==============================] - 26s 225ms/step - loss: 0.0101 - val_loss: 0.0075\n",
      "Epoch 48/100\n",
      "117/117 [==============================] - 27s 234ms/step - loss: 0.0100 - val_loss: 0.0074\n",
      "Epoch 49/100\n",
      "117/117 [==============================] - 27s 230ms/step - loss: 0.0099 - val_loss: 0.0074\n",
      "Epoch 50/100\n",
      "117/117 [==============================] - 28s 236ms/step - loss: 0.0099 - val_loss: 0.0073\n",
      "Epoch 51/100\n",
      "117/117 [==============================] - 26s 226ms/step - loss: 0.0099 - val_loss: 0.0073\n",
      "Epoch 52/100\n",
      "117/117 [==============================] - 27s 233ms/step - loss: 0.0098 - val_loss: 0.0073\n",
      "Epoch 53/100\n",
      "117/117 [==============================] - 30s 258ms/step - loss: 0.0097 - val_loss: 0.0073\n",
      "Epoch 54/100\n",
      "117/117 [==============================] - 26s 225ms/step - loss: 0.0097 - val_loss: 0.0072\n",
      "Epoch 55/100\n",
      "117/117 [==============================] - 26s 225ms/step - loss: 0.0096 - val_loss: 0.0072\n",
      "Epoch 56/100\n",
      "117/117 [==============================] - 28s 239ms/step - loss: 0.0095 - val_loss: 0.0072\n",
      "Epoch 57/100\n",
      "117/117 [==============================] - 27s 231ms/step - loss: 0.0097 - val_loss: 0.0072\n",
      "Epoch 58/100\n",
      "117/117 [==============================] - 27s 227ms/step - loss: 0.0095 - val_loss: 0.0072\n",
      "Epoch 59/100\n",
      "117/117 [==============================] - 27s 228ms/step - loss: 0.0096 - val_loss: 0.0072\n",
      "Epoch 60/100\n",
      "117/117 [==============================] - 27s 233ms/step - loss: 0.0096 - val_loss: 0.0072\n",
      "Epoch 61/100\n",
      "117/117 [==============================] - 27s 228ms/step - loss: 0.0095 - val_loss: 0.0072\n",
      "Epoch 62/100\n",
      "117/117 [==============================] - 27s 231ms/step - loss: 0.0094 - val_loss: 0.0072\n",
      "Epoch 63/100\n",
      "117/117 [==============================] - 27s 235ms/step - loss: 0.0094 - val_loss: 0.0071\n",
      "Epoch 64/100\n",
      "117/117 [==============================] - 26s 223ms/step - loss: 0.0094 - val_loss: 0.0072\n",
      "Epoch 65/100\n",
      "117/117 [==============================] - 27s 228ms/step - loss: 0.0093 - val_loss: 0.0071\n",
      "Epoch 66/100\n",
      "117/117 [==============================] - 29s 245ms/step - loss: 0.0093 - val_loss: 0.0071\n",
      "Epoch 67/100\n",
      "117/117 [==============================] - 26s 223ms/step - loss: 0.0093 - val_loss: 0.0071\n",
      "Epoch 68/100\n",
      "117/117 [==============================] - 27s 235ms/step - loss: 0.0093 - val_loss: 0.0071\n",
      "Epoch 69/100\n",
      "117/117 [==============================] - 28s 236ms/step - loss: 0.0092 - val_loss: 0.0071\n",
      "Epoch 70/100\n",
      "117/117 [==============================] - 27s 228ms/step - loss: 0.0092 - val_loss: 0.0071\n",
      "Epoch 71/100\n",
      "117/117 [==============================] - 26s 224ms/step - loss: 0.0092 - val_loss: 0.0071\n",
      "Epoch 72/100\n",
      "117/117 [==============================] - 26s 225ms/step - loss: 0.0092 - val_loss: 0.0070\n",
      "Epoch 73/100\n",
      "117/117 [==============================] - 27s 235ms/step - loss: 0.0092 - val_loss: 0.0070\n",
      "Epoch 74/100\n",
      "117/117 [==============================] - 26s 224ms/step - loss: 0.0090 - val_loss: 0.0070\n",
      "Epoch 75/100\n",
      "117/117 [==============================] - 28s 236ms/step - loss: 0.0091 - val_loss: 0.0070\n",
      "Epoch 76/100\n",
      "117/117 [==============================] - 27s 233ms/step - loss: 0.0091 - val_loss: 0.0070\n",
      "Epoch 77/100\n",
      "117/117 [==============================] - 26s 218ms/step - loss: 0.0090 - val_loss: 0.0070\n",
      "Epoch 78/100\n",
      "117/117 [==============================] - 26s 225ms/step - loss: 0.0090 - val_loss: 0.0070\n",
      "Epoch 79/100\n"
     ]
    },
    {
     "name": "stdout",
     "output_type": "stream",
     "text": [
      "117/117 [==============================] - 28s 240ms/step - loss: 0.0090 - val_loss: 0.0071\n",
      "Epoch 80/100\n",
      "117/117 [==============================] - 26s 224ms/step - loss: 0.0090 - val_loss: 0.0070\n",
      "Epoch 81/100\n",
      "117/117 [==============================] - 27s 227ms/step - loss: 0.0089 - val_loss: 0.0070\n",
      "Epoch 82/100\n",
      "117/117 [==============================] - 27s 233ms/step - loss: 0.0090 - val_loss: 0.0070\n",
      "Epoch 83/100\n",
      "117/117 [==============================] - 27s 231ms/step - loss: 0.0089 - val_loss: 0.0070\n",
      "Epoch 84/100\n",
      "117/117 [==============================] - 27s 234ms/step - loss: 0.0089 - val_loss: 0.0070\n",
      "Epoch 85/100\n",
      "117/117 [==============================] - 26s 225ms/step - loss: 0.0088 - val_loss: 0.0070\n",
      "Epoch 86/100\n",
      "117/117 [==============================] - 28s 238ms/step - loss: 0.0087 - val_loss: 0.0070\n",
      "Epoch 87/100\n",
      "117/117 [==============================] - 25s 217ms/step - loss: 0.0087 - val_loss: 0.0070\n",
      "Epoch 88/100\n",
      "117/117 [==============================] - 27s 230ms/step - loss: 0.0087 - val_loss: 0.0070\n",
      "Epoch 89/100\n",
      "117/117 [==============================] - 26s 226ms/step - loss: 0.0088 - val_loss: 0.0070\n",
      "Epoch 90/100\n",
      "117/117 [==============================] - 26s 220ms/step - loss: 0.0087 - val_loss: 0.0070\n",
      "Epoch 91/100\n",
      "117/117 [==============================] - 26s 222ms/step - loss: 0.0086 - val_loss: 0.0070\n",
      "Epoch 92/100\n",
      "117/117 [==============================] - 26s 223ms/step - loss: 0.0086 - val_loss: 0.0070\n",
      "Epoch 93/100\n",
      "117/117 [==============================] - 28s 241ms/step - loss: 0.0087 - val_loss: 0.0070\n",
      "Epoch 94/100\n",
      "117/117 [==============================] - 26s 220ms/step - loss: 0.0086 - val_loss: 0.0070\n",
      "Epoch 95/100\n",
      "117/117 [==============================] - 26s 223ms/step - loss: 0.0086 - val_loss: 0.0069\n",
      "Epoch 96/100\n",
      "117/117 [==============================] - 26s 222ms/step - loss: 0.0085 - val_loss: 0.0069\n",
      "Epoch 97/100\n",
      "117/117 [==============================] - 28s 237ms/step - loss: 0.0084 - val_loss: 0.0070\n",
      "Epoch 98/100\n",
      "117/117 [==============================] - 26s 223ms/step - loss: 0.0086 - val_loss: 0.0070\n",
      "Epoch 99/100\n",
      "117/117 [==============================] - 26s 224ms/step - loss: 0.0085 - val_loss: 0.0070\n",
      "Epoch 100/100\n",
      "117/117 [==============================] - 26s 226ms/step - loss: 0.0083 - val_loss: 0.0069\n"
     ]
    }
   ],
   "source": [
    "history = model.fit(train_univariate_sss, epochs=n_epochs, steps_per_epoch=n_steps_per_epoch,\n",
    "                    validation_data=validation_univariate_sss, validation_steps=n_validation_steps, verbose =1,\n",
    "                    callbacks = keras_callbacks)"
   ]
  },
  {
   "cell_type": "markdown",
   "metadata": {},
   "source": [
    "**Validate the model**"
   ]
  },
  {
   "cell_type": "code",
   "execution_count": 70,
   "metadata": {},
   "outputs": [
    {
     "data": {
      "image/png": "[encoded data removed]",
      "text/plain": [
       "<Figure size 432x288 with 1 Axes>"
      ]
     },
     "metadata": {
      "needs_background": "light"
     },
     "output_type": "display_data"
    }
   ],
   "source": [
    "loss = history.history['loss']\n",
    "val_loss = history.history['val_loss']\n",
    "\n",
    "epochs = range(1, len(loss) + 1)\n",
    "\n",
    "\n",
    "plt.plot(epochs, loss, 'bo', label='Training loss')\n",
    "plt.plot(epochs, val_loss, 'b', label='Validation loss')\n",
    "plt.title('Training and validation loss')\n",
    "plt.legend()\n",
    "\n",
    "plt.show()"
   ]
  },
  {
   "cell_type": "markdown",
   "metadata": {},
   "source": [
    "**Test the model**"
   ]
  },
  {
   "cell_type": "code",
   "execution_count": 71,
   "metadata": {},
   "outputs": [],
   "source": [
    "trained_gru_model_sss = tf.keras.models.load_model(model_path)"
   ]
  },
  {
   "cell_type": "code",
   "execution_count": 72,
   "metadata": {},
   "outputs": [
    {
     "name": "stdout",
     "output_type": "stream",
     "text": [
      "predicted : [[0.65305144]]\n",
      "predicted : [[0.64872515]]\n",
      "predicted : [[0.6423526]]\n",
      "predicted : [[0.6483784]]\n",
      "predicted : [[0.6514243]]\n",
      "predicted : [[0.6337963]]\n",
      "predicted : [[0.6005938]]\n",
      "predicted : [[0.56267494]]\n",
      "predicted : [[0.52256966]]\n",
      "predicted : [[0.47509766]]\n"
     ]
    }
   ],
   "source": [
    "df_temp = df['traffic_volume']\n",
    "test_horizon = df_temp.tail(univar_hist_window_sss)\n",
    "test_history = test_horizon.values\n",
    "\n",
    "result = []\n",
    "# Define Forecast length here\n",
    "window_len = len(test_data)\n",
    "test_scaled = scaler_x.fit_transform(test_history.reshape(-1, 1))\n",
    "\n",
    "for i in range(1, window_len+1):\n",
    "    \n",
    "    test_scaled = test_scaled.reshape((1, test_scaled.shape[0], 1))\n",
    "    \n",
    "    # Inserting the model\n",
    "    predicted_results = trained_gru_model_sss.predict(test_scaled)\n",
    "    \n",
    "    print(f'predicted : {predicted_results}')\n",
    "    result.append(predicted_results[0])\n",
    "    test_scaled = np.append(test_scaled[:,1:],[[predicted_results]])"
   ]
  },
  {
   "cell_type": "code",
   "execution_count": 73,
   "metadata": {},
   "outputs": [
    {
     "data": {
      "text/plain": [
       "array([[4157.3100546 ],\n",
       "       [4131.98831475],\n",
       "       [4094.68965673],\n",
       "       [4129.95861244],\n",
       "       [4147.78636205],\n",
       "       [4044.6095956 ],\n",
       "       [3850.2755425 ],\n",
       "       [3628.33642167],\n",
       "       [3393.60019875],\n",
       "       [3115.74658203]])"
      ]
     },
     "execution_count": 73,
     "metadata": {},
     "output_type": "execute_result"
    }
   ],
   "source": [
    "result_inv_trans = scaler_x.inverse_transform(result)\n",
    "result_inv_trans"
   ]
  },
  {
   "cell_type": "code",
   "execution_count": 74,
   "metadata": {},
   "outputs": [
    {
     "name": "stdout",
     "output_type": "stream",
     "text": [
      "MSE is : 1232647.2150865484\n",
      "MAE is : 822.3408064067364\n",
      "RMSE is : 1110.2464659194138\n",
      "MAPE is : 65.4188800991261\n",
      "R2 is : 0.19974687424113757\n",
      "\n"
     ]
    }
   ],
   "source": [
    "timeseries_evaluation_metrics_func(test_data, result_inv_trans)"
   ]
  },
  {
   "cell_type": "code",
   "execution_count": 75,
   "metadata": {},
   "outputs": [],
   "source": [
    "rmse_gru_model_sss = np.sqrt(metrics.mean_squared_error(test_data, result_inv_trans))"
   ]
  },
  {
   "cell_type": "code",
   "execution_count": 76,
   "metadata": {},
   "outputs": [
    {
     "data": {
      "image/png": "[encoded data removed]",
      "text/plain": [
       "<Figure size 432x288 with 1 Axes>"
      ]
     },
     "metadata": {
      "needs_background": "light"
     },
     "output_type": "display_data"
    }
   ],
   "source": [
    "plt.plot(list(test_data))\n",
    "plt.plot(list(result_inv_trans))\n",
    "plt.title(\"Actual vs Predicted\")\n",
    "plt.ylabel(\"Traffic volume\")\n",
    "plt.legend(('Actual','predicted'))\n",
    "plt.show()"
   ]
  },
  {
   "cell_type": "markdown",
   "metadata": {},
   "source": [
    "### Horizon Style"
   ]
  },
  {
   "cell_type": "markdown",
   "metadata": {},
   "source": [
    "**Define Layer Structure**"
   ]
  },
  {
   "cell_type": "code",
   "execution_count": 77,
   "metadata": {},
   "outputs": [],
   "source": [
    "model = tf.keras.models.Sequential([\n",
    "    tf.keras.layers.GRU(100, input_shape=x_train_uni_hs.shape[-2:],return_sequences=True),\n",
    "    tf.keras.layers.Dropout(0.2),\n",
    "    tf.keras.layers.GRU(units=50,return_sequences=False),\n",
    "    tf.keras.layers.Dropout(0.2),\n",
    "    tf.keras.layers.Dense(units=horizon_hs)])\n",
    "\n",
    "model.compile(loss='mse',\n",
    "              optimizer='adam')"
   ]
  },
  {
   "cell_type": "code",
   "execution_count": 78,
   "metadata": {},
   "outputs": [
    {
     "name": "stdout",
     "output_type": "stream",
     "text": [
      "Model: \"sequential_5\"\n",
      "_________________________________________________________________\n",
      "Layer (type)                 Output Shape              Param #   \n",
      "=================================================================\n",
      "gru_2 (GRU)                  (None, 48, 100)           30900     \n",
      "_________________________________________________________________\n",
      "dropout_8 (Dropout)          (None, 48, 100)           0         \n",
      "_________________________________________________________________\n",
      "gru_3 (GRU)                  (None, 50)                22800     \n",
      "_________________________________________________________________\n",
      "dropout_9 (Dropout)          (None, 50)                0         \n",
      "_________________________________________________________________\n",
      "dense_7 (Dense)              (None, 10)                510       \n",
      "=================================================================\n",
      "Total params: 54,210\n",
      "Trainable params: 54,210\n",
      "Non-trainable params: 0\n",
      "_________________________________________________________________\n"
     ]
    }
   ],
   "source": [
    "model.summary()"
   ]
  },
  {
   "cell_type": "markdown",
   "metadata": {},
   "source": [
    "**Fit the model**"
   ]
  },
  {
   "cell_type": "code",
   "execution_count": 79,
   "metadata": {},
   "outputs": [],
   "source": [
    "model_path = 'model/gru_model_hs.h5'"
   ]
  },
  {
   "cell_type": "code",
   "execution_count": 80,
   "metadata": {},
   "outputs": [],
   "source": [
    "keras_callbacks = [tf.keras.callbacks.EarlyStopping(monitor='val_loss', \n",
    "                                                    min_delta=0, patience=10, \n",
    "                                                    verbose=1, mode='min'),\n",
    "                   tf.keras.callbacks.ModelCheckpoint(model_path,monitor='val_loss', \n",
    "                                                      save_best_only=True, \n",
    "                                                      mode='min', verbose=0)]"
   ]
  },
  {
   "cell_type": "code",
   "execution_count": 81,
   "metadata": {},
   "outputs": [
    {
     "name": "stdout",
     "output_type": "stream",
     "text": [
      "Epoch 1/100\n",
      "117/117 [==============================] - 37s 289ms/step - loss: 0.1330 - val_loss: 0.0649\n",
      "Epoch 2/100\n",
      "117/117 [==============================] - 31s 262ms/step - loss: 0.0600 - val_loss: 0.0436\n",
      "Epoch 3/100\n",
      "117/117 [==============================] - 32s 270ms/step - loss: 0.0511 - val_loss: 0.0370\n",
      "Epoch 4/100\n",
      "117/117 [==============================] - 33s 278ms/step - loss: 0.0470 - val_loss: 0.0343\n",
      "Epoch 5/100\n",
      "117/117 [==============================] - 31s 266ms/step - loss: 0.0445 - val_loss: 0.0327\n",
      "Epoch 6/100\n",
      "117/117 [==============================] - 31s 267ms/step - loss: 0.0430 - val_loss: 0.0314\n",
      "Epoch 7/100\n",
      "117/117 [==============================] - 31s 268ms/step - loss: 0.0419 - val_loss: 0.0308\n",
      "Epoch 8/100\n",
      "117/117 [==============================] - 31s 264ms/step - loss: 0.0410 - val_loss: 0.0302\n",
      "Epoch 9/100\n",
      "117/117 [==============================] - 32s 275ms/step - loss: 0.0404 - val_loss: 0.0300\n",
      "Epoch 10/100\n",
      "117/117 [==============================] - 33s 278ms/step - loss: 0.0396 - val_loss: 0.0294\n",
      "Epoch 11/100\n",
      "117/117 [==============================] - 31s 264ms/step - loss: 0.0387 - val_loss: 0.0292\n",
      "Epoch 12/100\n",
      "117/117 [==============================] - 31s 268ms/step - loss: 0.0384 - val_loss: 0.0292\n",
      "Epoch 13/100\n",
      "117/117 [==============================] - 32s 276ms/step - loss: 0.0376 - val_loss: 0.0292\n",
      "Epoch 14/100\n",
      "117/117 [==============================] - 31s 264ms/step - loss: 0.0370 - val_loss: 0.0289\n",
      "Epoch 15/100\n",
      "117/117 [==============================] - 31s 265ms/step - loss: 0.0367 - val_loss: 0.0291\n",
      "Epoch 16/100\n",
      "117/117 [==============================] - 32s 274ms/step - loss: 0.0361 - val_loss: 0.0290\n",
      "Epoch 17/100\n",
      "117/117 [==============================] - 31s 266ms/step - loss: 0.0357 - val_loss: 0.0292\n",
      "Epoch 18/100\n",
      "117/117 [==============================] - 31s 265ms/step - loss: 0.0355 - val_loss: 0.0294\n",
      "Epoch 19/100\n",
      "117/117 [==============================] - 31s 268ms/step - loss: 0.0353 - val_loss: 0.0287\n",
      "Epoch 20/100\n",
      "117/117 [==============================] - 31s 264ms/step - loss: 0.0347 - val_loss: 0.0283\n",
      "Epoch 21/100\n",
      "117/117 [==============================] - 32s 272ms/step - loss: 0.0346 - val_loss: 0.0281\n",
      "Epoch 22/100\n",
      "117/117 [==============================] - 30s 259ms/step - loss: 0.0343 - val_loss: 0.0278\n",
      "Epoch 23/100\n",
      "117/117 [==============================] - 30s 259ms/step - loss: 0.0340 - val_loss: 0.0274\n",
      "Epoch 24/100\n",
      "117/117 [==============================] - 31s 269ms/step - loss: 0.0338 - val_loss: 0.0267\n",
      "Epoch 25/100\n",
      "117/117 [==============================] - 31s 262ms/step - loss: 0.0335 - val_loss: 0.0267\n",
      "Epoch 26/100\n",
      "117/117 [==============================] - 30s 259ms/step - loss: 0.0334 - val_loss: 0.0264\n",
      "Epoch 27/100\n",
      "117/117 [==============================] - 31s 269ms/step - loss: 0.0331 - val_loss: 0.0262\n",
      "Epoch 28/100\n",
      "117/117 [==============================] - 30s 260ms/step - loss: 0.0328 - val_loss: 0.0260\n",
      "Epoch 29/100\n",
      "117/117 [==============================] - 30s 259ms/step - loss: 0.0327 - val_loss: 0.0260\n",
      "Epoch 30/100\n",
      "117/117 [==============================] - 31s 263ms/step - loss: 0.0325 - val_loss: 0.0258\n",
      "Epoch 31/100\n",
      "117/117 [==============================] - 30s 257ms/step - loss: 0.0322 - val_loss: 0.0255\n",
      "Epoch 32/100\n",
      "117/117 [==============================] - 31s 264ms/step - loss: 0.0322 - val_loss: 0.0253\n",
      "Epoch 33/100\n",
      "117/117 [==============================] - 30s 258ms/step - loss: 0.0319 - val_loss: 0.0252\n",
      "Epoch 34/100\n",
      "117/117 [==============================] - 30s 260ms/step - loss: 0.0319 - val_loss: 0.0251\n",
      "Epoch 35/100\n",
      "117/117 [==============================] - 31s 265ms/step - loss: 0.0316 - val_loss: 0.0250\n",
      "Epoch 36/100\n",
      "117/117 [==============================] - 32s 269ms/step - loss: 0.0313 - val_loss: 0.0250\n",
      "Epoch 37/100\n",
      "117/117 [==============================] - 31s 265ms/step - loss: 0.0311 - val_loss: 0.0247\n",
      "Epoch 38/100\n",
      "117/117 [==============================] - 32s 271ms/step - loss: 0.0308 - val_loss: 0.0247\n",
      "Epoch 39/100\n",
      "117/117 [==============================] - 30s 256ms/step - loss: 0.0307 - val_loss: 0.0244\n",
      "Epoch 40/100\n",
      "117/117 [==============================] - 31s 267ms/step - loss: 0.0305 - val_loss: 0.0244\n",
      "Epoch 41/100\n",
      "117/117 [==============================] - 32s 271ms/step - loss: 0.0303 - val_loss: 0.0242\n",
      "Epoch 42/100\n",
      "117/117 [==============================] - 30s 256ms/step - loss: 0.0303 - val_loss: 0.0241\n",
      "Epoch 43/100\n",
      "117/117 [==============================] - 31s 263ms/step - loss: 0.0300 - val_loss: 0.0242\n",
      "Epoch 44/100\n",
      "117/117 [==============================] - 33s 286ms/step - loss: 0.0298 - val_loss: 0.0239\n",
      "Epoch 45/100\n",
      "117/117 [==============================] - 30s 256ms/step - loss: 0.0295 - val_loss: 0.0238\n",
      "Epoch 46/100\n",
      "117/117 [==============================] - 31s 263ms/step - loss: 0.0295 - val_loss: 0.0237\n",
      "Epoch 47/100\n",
      "117/117 [==============================] - 32s 271ms/step - loss: 0.0292 - val_loss: 0.0238\n",
      "Epoch 48/100\n",
      "117/117 [==============================] - 31s 264ms/step - loss: 0.0290 - val_loss: 0.0238\n",
      "Epoch 49/100\n",
      "117/117 [==============================] - 31s 266ms/step - loss: 0.0289 - val_loss: 0.0237\n",
      "Epoch 50/100\n",
      "117/117 [==============================] - 32s 273ms/step - loss: 0.0287 - val_loss: 0.0237\n",
      "Epoch 51/100\n",
      "117/117 [==============================] - 30s 259ms/step - loss: 0.0286 - val_loss: 0.0236\n",
      "Epoch 52/100\n",
      "117/117 [==============================] - 31s 266ms/step - loss: 0.0284 - val_loss: 0.0238\n",
      "Epoch 53/100\n",
      "117/117 [==============================] - 31s 268ms/step - loss: 0.0282 - val_loss: 0.0237\n",
      "Epoch 54/100\n",
      "117/117 [==============================] - 30s 259ms/step - loss: 0.0282 - val_loss: 0.0240\n",
      "Epoch 55/100\n",
      "117/117 [==============================] - 31s 263ms/step - loss: 0.0279 - val_loss: 0.0238\n",
      "Epoch 56/100\n",
      "117/117 [==============================] - 32s 274ms/step - loss: 0.0278 - val_loss: 0.0236\n",
      "Epoch 57/100\n",
      "117/117 [==============================] - 31s 263ms/step - loss: 0.0277 - val_loss: 0.0236\n",
      "Epoch 58/100\n",
      "117/117 [==============================] - 31s 262ms/step - loss: 0.0275 - val_loss: 0.0235\n",
      "Epoch 59/100\n",
      "117/117 [==============================] - 32s 275ms/step - loss: 0.0274 - val_loss: 0.0236\n",
      "Epoch 60/100\n",
      "117/117 [==============================] - 31s 262ms/step - loss: 0.0273 - val_loss: 0.0237\n",
      "Epoch 61/100\n",
      "117/117 [==============================] - 31s 263ms/step - loss: 0.0270 - val_loss: 0.0236\n",
      "Epoch 62/100\n",
      "117/117 [==============================] - 31s 265ms/step - loss: 0.0269 - val_loss: 0.0236\n",
      "Epoch 63/100\n",
      "117/117 [==============================] - 32s 271ms/step - loss: 0.0267 - val_loss: 0.0236\n",
      "Epoch 64/100\n",
      "117/117 [==============================] - 31s 262ms/step - loss: 0.0265 - val_loss: 0.0235\n",
      "Epoch 65/100\n",
      "117/117 [==============================] - 31s 268ms/step - loss: 0.0262 - val_loss: 0.0236\n",
      "Epoch 66/100\n",
      "117/117 [==============================] - 30s 255ms/step - loss: 0.0261 - val_loss: 0.0239\n",
      "Epoch 67/100\n",
      "117/117 [==============================] - 31s 269ms/step - loss: 0.0262 - val_loss: 0.0242\n",
      "Epoch 68/100\n",
      "117/117 [==============================] - 32s 270ms/step - loss: 0.0259 - val_loss: 0.0240\n",
      "Epoch 69/100\n",
      "117/117 [==============================] - 30s 254ms/step - loss: 0.0258 - val_loss: 0.0240\n",
      "Epoch 70/100\n",
      "117/117 [==============================] - 30s 259ms/step - loss: 0.0255 - val_loss: 0.0242\n",
      "Epoch 71/100\n",
      "117/117 [==============================] - 31s 268ms/step - loss: 0.0253 - val_loss: 0.0242\n",
      "Epoch 72/100\n",
      "117/117 [==============================] - 30s 261ms/step - loss: 0.0252 - val_loss: 0.0242\n",
      "Epoch 73/100\n",
      "117/117 [==============================] - 30s 260ms/step - loss: 0.0249 - val_loss: 0.0245\n",
      "Epoch 74/100\n",
      "117/117 [==============================] - 31s 261ms/step - loss: 0.0247 - val_loss: 0.0240\n",
      "Epoch 00074: early stopping\n"
     ]
    }
   ],
   "source": [
    "history = model.fit(train_univariate_hs, epochs=n_epochs, steps_per_epoch=n_steps_per_epoch,\n",
    "                    validation_data=validation_univariate_hs, validation_steps=n_validation_steps, verbose =1,\n",
    "                    callbacks = keras_callbacks)"
   ]
  },
  {
   "cell_type": "markdown",
   "metadata": {},
   "source": [
    "**Validate the model**"
   ]
  },
  {
   "cell_type": "code",
   "execution_count": 82,
   "metadata": {},
   "outputs": [
    {
     "data": {
      "image/png": "[encoded data removed]",
      "text/plain": [
       "<Figure size 432x288 with 1 Axes>"
      ]
     },
     "metadata": {
      "needs_background": "light"
     },
     "output_type": "display_data"
    }
   ],
   "source": [
    "loss = history.history['loss']\n",
    "val_loss = history.history['val_loss']\n",
    "\n",
    "epochs = range(1, len(loss) + 1)\n",
    "\n",
    "\n",
    "plt.plot(epochs, loss, 'bo', label='Training loss')\n",
    "plt.plot(epochs, val_loss, 'b', label='Validation loss')\n",
    "plt.title('Training and validation loss')\n",
    "plt.legend()\n",
    "\n",
    "plt.show()"
   ]
  },
  {
   "cell_type": "markdown",
   "metadata": {},
   "source": [
    "**Test the model**"
   ]
  },
  {
   "cell_type": "code",
   "execution_count": 83,
   "metadata": {},
   "outputs": [],
   "source": [
    "trained_gru_model_hs = tf.keras.models.load_model(model_path)"
   ]
  },
  {
   "cell_type": "code",
   "execution_count": 84,
   "metadata": {},
   "outputs": [
    {
     "data": {
      "text/plain": [
       "array([[0.6430253 , 0.62971675, 0.61815035, 0.608606  , 0.5834916 ,\n",
       "        0.53887445, 0.483938  , 0.43199947, 0.3802234 , 0.32326838]],\n",
       "      dtype=float32)"
      ]
     },
     "execution_count": 84,
     "metadata": {},
     "output_type": "execute_result"
    }
   ],
   "source": [
    "df_temp = df['traffic_volume']\n",
    "test_horizon = df_temp.tail(univar_hist_window_hs)\n",
    "test_history = test_horizon.values\n",
    "\n",
    "\n",
    "test_scaled = scaler_x.fit_transform(test_history.reshape(-1, 1))\n",
    "test_scaled = test_scaled.reshape((1, test_scaled.shape[0], 1))\n",
    "\n",
    "# Inserting the model\n",
    "predicted_results = trained_gru_model_hs.predict(test_scaled)\n",
    "predicted_results"
   ]
  },
  {
   "cell_type": "code",
   "execution_count": 85,
   "metadata": {},
   "outputs": [
    {
     "data": {
      "text/plain": [
       "array([[4098.627 , 4020.7322, 3953.034 , 3897.1707, 3750.1765, 3489.032 ,\n",
       "        3167.4893, 2863.493 , 2560.4475, 2227.0898]], dtype=float32)"
      ]
     },
     "execution_count": 85,
     "metadata": {},
     "output_type": "execute_result"
    }
   ],
   "source": [
    "predicted_inv_trans = scaler_x.inverse_transform(predicted_results)\n",
    "predicted_inv_trans"
   ]
  },
  {
   "cell_type": "code",
   "execution_count": 86,
   "metadata": {},
   "outputs": [
    {
     "name": "stdout",
     "output_type": "stream",
     "text": [
      "MSE is : 409131.42706679704\n",
      "MAE is : 514.6747314453125\n",
      "RMSE is : 639.6338226413586\n",
      "MAPE is : 29.54886087472277\n",
      "R2 is : 0.7343857193289486\n",
      "\n"
     ]
    }
   ],
   "source": [
    "timeseries_evaluation_metrics_func(test_data, predicted_inv_trans[0])"
   ]
  },
  {
   "cell_type": "code",
   "execution_count": 87,
   "metadata": {},
   "outputs": [],
   "source": [
    "rmse_gru_model_hs = np.sqrt(metrics.mean_squared_error(test_data, predicted_inv_trans[0]))"
   ]
  },
  {
   "cell_type": "code",
   "execution_count": 88,
   "metadata": {},
   "outputs": [
    {
     "data": {
      "image/png": "[encoded data removed]",
      "text/plain": [
       "<Figure size 432x288 with 1 Axes>"
      ]
     },
     "metadata": {
      "needs_background": "light"
     },
     "output_type": "display_data"
    }
   ],
   "source": [
    "plt.plot(list(test_data))\n",
    "plt.plot(list(predicted_inv_trans[0]))\n",
    "plt.title(\"Actual vs Predicted\")\n",
    "plt.ylabel(\"Traffic volume\")\n",
    "plt.legend(('Actual','predicted'))\n",
    "plt.show()"
   ]
  },
  {
   "cell_type": "markdown",
   "metadata": {},
   "source": [
    "## Encoder Decoder LSTM"
   ]
  },
  {
   "cell_type": "markdown",
   "metadata": {},
   "source": [
    "### Single Step Style"
   ]
  },
  {
   "cell_type": "markdown",
   "metadata": {},
   "source": [
    "**Define Layer Structure**"
   ]
  },
  {
   "cell_type": "code",
   "execution_count": 89,
   "metadata": {},
   "outputs": [],
   "source": [
    "model = tf.keras.models.Sequential([\n",
    "    tf.keras.layers.LSTM(100, input_shape=x_train_uni_sss.shape[-2:], return_sequences=True),\n",
    "    tf.keras.layers.LSTM(units=50,return_sequences=True),\n",
    "    tf.keras.layers.LSTM(units=15),\n",
    "    tf.keras.layers.RepeatVector(y_train_uni_sss.shape[1]), \n",
    "    tf.keras.layers.LSTM(units=100,return_sequences=True),\n",
    "    tf.keras.layers.LSTM(units=50,return_sequences=True),\n",
    "    tf.keras.layers.TimeDistributed(tf.keras.layers.Dense(units=horizon_sss))])\n",
    "\n",
    "model.compile(loss='mse',\n",
    "              optimizer='adam')"
   ]
  },
  {
   "cell_type": "code",
   "execution_count": 90,
   "metadata": {},
   "outputs": [
    {
     "name": "stdout",
     "output_type": "stream",
     "text": [
      "Model: \"sequential_6\"\n",
      "_________________________________________________________________\n",
      "Layer (type)                 Output Shape              Param #   \n",
      "=================================================================\n",
      "lstm_8 (LSTM)                (None, 48, 100)           40800     \n",
      "_________________________________________________________________\n",
      "lstm_9 (LSTM)                (None, 48, 50)            30200     \n",
      "_________________________________________________________________\n",
      "lstm_10 (LSTM)               (None, 15)                3960      \n",
      "_________________________________________________________________\n",
      "repeat_vector (RepeatVector) (None, 1, 15)             0         \n",
      "_________________________________________________________________\n",
      "lstm_11 (LSTM)               (None, 1, 100)            46400     \n",
      "_________________________________________________________________\n",
      "lstm_12 (LSTM)               (None, 1, 50)             30200     \n",
      "_________________________________________________________________\n",
      "time_distributed (TimeDistri (None, 1, 1)              51        \n",
      "=================================================================\n",
      "Total params: 151,611\n",
      "Trainable params: 151,611\n",
      "Non-trainable params: 0\n",
      "_________________________________________________________________\n"
     ]
    }
   ],
   "source": [
    "model.summary()"
   ]
  },
  {
   "cell_type": "markdown",
   "metadata": {},
   "source": [
    "**Fit the model**"
   ]
  },
  {
   "cell_type": "code",
   "execution_count": 91,
   "metadata": {},
   "outputs": [],
   "source": [
    "model_path = 'model/ed_lstm_model_sss.h5'"
   ]
  },
  {
   "cell_type": "code",
   "execution_count": 92,
   "metadata": {},
   "outputs": [],
   "source": [
    "keras_callbacks = [tf.keras.callbacks.EarlyStopping(monitor='val_loss', \n",
    "                                                    min_delta=0, patience=10, \n",
    "                                                    verbose=1, mode='min'),\n",
    "                   tf.keras.callbacks.ModelCheckpoint(model_path,monitor='val_loss', \n",
    "                                                      save_best_only=True, \n",
    "                                                      mode='min', verbose=0)]"
   ]
  },
  {
   "cell_type": "code",
   "execution_count": 93,
   "metadata": {},
   "outputs": [
    {
     "name": "stdout",
     "output_type": "stream",
     "text": [
      "Epoch 1/100\n",
      "117/117 [==============================] - 40s 276ms/step - loss: 0.1376 - val_loss: 0.0740\n",
      "Epoch 2/100\n",
      "117/117 [==============================] - 29s 244ms/step - loss: 0.0763 - val_loss: 0.0736\n",
      "Epoch 3/100\n",
      "117/117 [==============================] - 29s 247ms/step - loss: 0.0739 - val_loss: 0.0371\n",
      "Epoch 4/100\n",
      "117/117 [==============================] - 29s 246ms/step - loss: 0.0299 - val_loss: 0.0120\n",
      "Epoch 5/100\n",
      "117/117 [==============================] - 28s 238ms/step - loss: 0.0131 - val_loss: 0.0096\n",
      "Epoch 6/100\n",
      "117/117 [==============================] - 28s 242ms/step - loss: 0.0118 - val_loss: 0.0097\n",
      "Epoch 7/100\n",
      "117/117 [==============================] - 30s 255ms/step - loss: 0.0114 - val_loss: 0.0096\n",
      "Epoch 8/100\n",
      "117/117 [==============================] - 27s 232ms/step - loss: 0.0113 - val_loss: 0.0092\n",
      "Epoch 9/100\n",
      "117/117 [==============================] - 29s 246ms/step - loss: 0.0110 - val_loss: 0.0088\n",
      "Epoch 10/100\n",
      "117/117 [==============================] - 28s 241ms/step - loss: 0.0108 - val_loss: 0.0087\n",
      "Epoch 11/100\n",
      "117/117 [==============================] - 27s 231ms/step - loss: 0.0107 - val_loss: 0.0085\n",
      "Epoch 12/100\n",
      "117/117 [==============================] - 28s 237ms/step - loss: 0.0105 - val_loss: 0.0085\n",
      "Epoch 13/100\n",
      "117/117 [==============================] - 30s 256ms/step - loss: 0.0105 - val_loss: 0.0088\n",
      "Epoch 14/100\n",
      "117/117 [==============================] - 27s 231ms/step - loss: 0.0103 - val_loss: 0.0081\n",
      "Epoch 15/100\n",
      "117/117 [==============================] - 28s 236ms/step - loss: 0.0101 - val_loss: 0.0082\n",
      "Epoch 16/100\n",
      "117/117 [==============================] - 28s 243ms/step - loss: 0.0100 - val_loss: 0.0081\n",
      "Epoch 17/100\n",
      "117/117 [==============================] - 27s 230ms/step - loss: 0.0098 - val_loss: 0.0081\n",
      "Epoch 18/100\n",
      "117/117 [==============================] - 28s 237ms/step - loss: 0.0097 - val_loss: 0.0078\n",
      "Epoch 19/100\n",
      "117/117 [==============================] - 28s 236ms/step - loss: 0.0095 - val_loss: 0.0076\n",
      "Epoch 20/100\n",
      "117/117 [==============================] - 28s 238ms/step - loss: 0.0094 - val_loss: 0.0075\n",
      "Epoch 21/100\n",
      "117/117 [==============================] - 28s 240ms/step - loss: 0.0093 - val_loss: 0.0074\n",
      "Epoch 22/100\n",
      "117/117 [==============================] - 30s 254ms/step - loss: 0.0092 - val_loss: 0.0074\n",
      "Epoch 23/100\n",
      "117/117 [==============================] - 27s 231ms/step - loss: 0.0093 - val_loss: 0.0073\n",
      "Epoch 24/100\n",
      "117/117 [==============================] - 28s 241ms/step - loss: 0.0091 - val_loss: 0.0072\n",
      "Epoch 25/100\n",
      "117/117 [==============================] - 29s 249ms/step - loss: 0.0090 - val_loss: 0.0072\n",
      "Epoch 26/100\n",
      "117/117 [==============================] - 28s 235ms/step - loss: 0.0089 - val_loss: 0.0072\n",
      "Epoch 27/100\n",
      "117/117 [==============================] - 28s 241ms/step - loss: 0.0089 - val_loss: 0.0071\n",
      "Epoch 28/100\n",
      "117/117 [==============================] - 29s 250ms/step - loss: 0.0087 - val_loss: 0.0071\n",
      "Epoch 29/100\n",
      "117/117 [==============================] - 27s 234ms/step - loss: 0.0088 - val_loss: 0.0071\n",
      "Epoch 30/100\n",
      "117/117 [==============================] - 29s 252ms/step - loss: 0.0088 - val_loss: 0.0071\n",
      "Epoch 31/100\n",
      "117/117 [==============================] - 28s 242ms/step - loss: 0.0087 - val_loss: 0.0071\n",
      "Epoch 32/100\n",
      "117/117 [==============================] - 27s 232ms/step - loss: 0.0086 - val_loss: 0.0070\n",
      "Epoch 33/100\n",
      "117/117 [==============================] - 28s 241ms/step - loss: 0.0086 - val_loss: 0.0070\n",
      "Epoch 34/100\n",
      "117/117 [==============================] - 29s 248ms/step - loss: 0.0086 - val_loss: 0.0070\n",
      "Epoch 35/100\n",
      "117/117 [==============================] - 29s 251ms/step - loss: 0.0085 - val_loss: 0.0070\n",
      "Epoch 36/100\n",
      "117/117 [==============================] - 28s 236ms/step - loss: 0.0085 - val_loss: 0.0070\n",
      "Epoch 37/100\n",
      "117/117 [==============================] - 28s 241ms/step - loss: 0.0085 - val_loss: 0.0070\n",
      "Epoch 38/100\n",
      "117/117 [==============================] - 30s 256ms/step - loss: 0.0084 - val_loss: 0.0070\n",
      "Epoch 39/100\n",
      "117/117 [==============================] - 28s 235ms/step - loss: 0.0084 - val_loss: 0.0070\n",
      "Epoch 40/100\n",
      "117/117 [==============================] - 28s 243ms/step - loss: 0.0084 - val_loss: 0.0070\n",
      "Epoch 41/100\n",
      "117/117 [==============================] - 29s 247ms/step - loss: 0.0083 - val_loss: 0.0070\n",
      "Epoch 42/100\n",
      "117/117 [==============================] - 27s 235ms/step - loss: 0.0083 - val_loss: 0.0070\n",
      "Epoch 43/100\n",
      "117/117 [==============================] - 29s 251ms/step - loss: 0.0082 - val_loss: 0.0070\n",
      "Epoch 44/100\n",
      "117/117 [==============================] - 29s 247ms/step - loss: 0.0082 - val_loss: 0.0070\n",
      "Epoch 45/100\n",
      "117/117 [==============================] - 28s 242ms/step - loss: 0.0082 - val_loss: 0.0069\n",
      "Epoch 46/100\n",
      "117/117 [==============================] - 29s 245ms/step - loss: 0.0082 - val_loss: 0.0070\n",
      "Epoch 47/100\n",
      "117/117 [==============================] - 30s 253ms/step - loss: 0.0081 - val_loss: 0.0069\n",
      "Epoch 48/100\n",
      "117/117 [==============================] - 27s 231ms/step - loss: 0.0081 - val_loss: 0.0069\n",
      "Epoch 49/100\n",
      "117/117 [==============================] - 28s 238ms/step - loss: 0.0081 - val_loss: 0.0068\n",
      "Epoch 50/100\n",
      "117/117 [==============================] - 29s 251ms/step - loss: 0.0080 - val_loss: 0.0068\n",
      "Epoch 51/100\n",
      "117/117 [==============================] - 28s 237ms/step - loss: 0.0080 - val_loss: 0.0068\n",
      "Epoch 52/100\n",
      "117/117 [==============================] - 29s 244ms/step - loss: 0.0079 - val_loss: 0.0067\n",
      "Epoch 53/100\n",
      "117/117 [==============================] - 29s 244ms/step - loss: 0.0079 - val_loss: 0.0067\n",
      "Epoch 54/100\n",
      "117/117 [==============================] - 29s 249ms/step - loss: 0.0079 - val_loss: 0.0068\n",
      "Epoch 55/100\n",
      "117/117 [==============================] - 29s 247ms/step - loss: 0.0079 - val_loss: 0.0068\n",
      "Epoch 56/100\n",
      "117/117 [==============================] - 28s 241ms/step - loss: 0.0078 - val_loss: 0.0067\n",
      "Epoch 57/100\n",
      "117/117 [==============================] - 29s 246ms/step - loss: 0.0078 - val_loss: 0.0068\n",
      "Epoch 58/100\n",
      "117/117 [==============================] - 28s 240ms/step - loss: 0.0078 - val_loss: 0.0068\n",
      "Epoch 59/100\n",
      "117/117 [==============================] - 29s 244ms/step - loss: 0.0078 - val_loss: 0.0069\n",
      "Epoch 60/100\n",
      "117/117 [==============================] - 30s 256ms/step - loss: 0.0077 - val_loss: 0.0068\n",
      "Epoch 61/100\n",
      "117/117 [==============================] - 28s 237ms/step - loss: 0.0077 - val_loss: 0.0068\n",
      "Epoch 62/100\n",
      "117/117 [==============================] - 28s 239ms/step - loss: 0.0076 - val_loss: 0.0068\n",
      "Epoch 63/100\n",
      "117/117 [==============================] - 30s 255ms/step - loss: 0.0076 - val_loss: 0.0067\n",
      "Epoch 64/100\n",
      "117/117 [==============================] - 28s 236ms/step - loss: 0.0076 - val_loss: 0.0067\n",
      "Epoch 65/100\n",
      "117/117 [==============================] - 28s 238ms/step - loss: 0.0075 - val_loss: 0.0067\n",
      "Epoch 66/100\n",
      "117/117 [==============================] - 28s 242ms/step - loss: 0.0076 - val_loss: 0.0066\n",
      "Epoch 67/100\n",
      "117/117 [==============================] - 28s 236ms/step - loss: 0.0077 - val_loss: 0.0068\n",
      "Epoch 68/100\n",
      "117/117 [==============================] - 29s 248ms/step - loss: 0.0075 - val_loss: 0.0066\n",
      "Epoch 69/100\n",
      "117/117 [==============================] - 29s 246ms/step - loss: 0.0074 - val_loss: 0.0066\n",
      "Epoch 70/100\n",
      "117/117 [==============================] - 28s 236ms/step - loss: 0.0075 - val_loss: 0.0067\n",
      "Epoch 71/100\n",
      "117/117 [==============================] - 28s 242ms/step - loss: 0.0073 - val_loss: 0.0067\n",
      "Epoch 72/100\n",
      "117/117 [==============================] - 29s 246ms/step - loss: 0.0072 - val_loss: 0.0067\n",
      "Epoch 73/100\n",
      "117/117 [==============================] - 28s 238ms/step - loss: 0.0072 - val_loss: 0.0067\n",
      "Epoch 74/100\n",
      "117/117 [==============================] - 28s 240ms/step - loss: 0.0071 - val_loss: 0.0065\n",
      "Epoch 75/100\n",
      "117/117 [==============================] - 29s 246ms/step - loss: 0.0071 - val_loss: 0.0068\n",
      "Epoch 76/100\n",
      "117/117 [==============================] - 28s 240ms/step - loss: 0.0071 - val_loss: 0.0065\n",
      "Epoch 77/100\n",
      "117/117 [==============================] - 28s 243ms/step - loss: 0.0074 - val_loss: 0.0067\n",
      "Epoch 78/100\n",
      "117/117 [==============================] - 28s 242ms/step - loss: 0.0072 - val_loss: 0.0066\n",
      "Epoch 79/100\n"
     ]
    },
    {
     "name": "stdout",
     "output_type": "stream",
     "text": [
      "117/117 [==============================] - 28s 238ms/step - loss: 0.0072 - val_loss: 0.0065\n",
      "Epoch 80/100\n",
      "117/117 [==============================] - 28s 242ms/step - loss: 0.0069 - val_loss: 0.0065\n",
      "Epoch 81/100\n",
      "117/117 [==============================] - 29s 250ms/step - loss: 0.0069 - val_loss: 0.0066\n",
      "Epoch 82/100\n",
      "117/117 [==============================] - 28s 240ms/step - loss: 0.0068 - val_loss: 0.0065\n",
      "Epoch 83/100\n",
      "117/117 [==============================] - 28s 243ms/step - loss: 0.0070 - val_loss: 0.0066\n",
      "Epoch 84/100\n",
      "117/117 [==============================] - 29s 244ms/step - loss: 0.0068 - val_loss: 0.0066\n",
      "Epoch 85/100\n",
      "117/117 [==============================] - 29s 251ms/step - loss: 0.0067 - val_loss: 0.0065\n",
      "Epoch 86/100\n",
      "117/117 [==============================] - 29s 246ms/step - loss: 0.0068 - val_loss: 0.0066\n",
      "Epoch 87/100\n",
      "117/117 [==============================] - 28s 236ms/step - loss: 0.0066 - val_loss: 0.0065\n",
      "Epoch 88/100\n",
      "117/117 [==============================] - 28s 237ms/step - loss: 0.0067 - val_loss: 0.0066\n",
      "Epoch 89/100\n",
      "117/117 [==============================] - 30s 258ms/step - loss: 0.0067 - val_loss: 0.0066\n",
      "Epoch 90/100\n",
      "117/117 [==============================] - 27s 233ms/step - loss: 0.0066 - val_loss: 0.0065\n",
      "Epoch 91/100\n",
      "117/117 [==============================] - 29s 245ms/step - loss: 0.0065 - val_loss: 0.0066\n",
      "Epoch 92/100\n",
      "117/117 [==============================] - 28s 236ms/step - loss: 0.0064 - val_loss: 0.0066\n",
      "Epoch 00092: early stopping\n"
     ]
    }
   ],
   "source": [
    "history = model.fit(train_univariate_sss, epochs=n_epochs, steps_per_epoch=n_steps_per_epoch,\n",
    "                    validation_data=validation_univariate_sss, validation_steps=n_validation_steps, verbose =1,\n",
    "                    callbacks = keras_callbacks)"
   ]
  },
  {
   "cell_type": "markdown",
   "metadata": {},
   "source": [
    "**Validate the model**"
   ]
  },
  {
   "cell_type": "code",
   "execution_count": 94,
   "metadata": {},
   "outputs": [
    {
     "data": {
      "image/png": "[encoded data removed]",
      "text/plain": [
       "<Figure size 432x288 with 1 Axes>"
      ]
     },
     "metadata": {
      "needs_background": "light"
     },
     "output_type": "display_data"
    }
   ],
   "source": [
    "loss = history.history['loss']\n",
    "val_loss = history.history['val_loss']\n",
    "\n",
    "epochs = range(1, len(loss) + 1)\n",
    "\n",
    "\n",
    "plt.plot(epochs, loss, 'bo', label='Training loss')\n",
    "plt.plot(epochs, val_loss, 'b', label='Validation loss')\n",
    "plt.title('Training and validation loss')\n",
    "plt.legend()\n",
    "\n",
    "plt.show()"
   ]
  },
  {
   "cell_type": "markdown",
   "metadata": {},
   "source": [
    "**Test the model**"
   ]
  },
  {
   "cell_type": "code",
   "execution_count": 95,
   "metadata": {},
   "outputs": [],
   "source": [
    "trained_ed_lstm_model_sss = tf.keras.models.load_model(model_path)"
   ]
  },
  {
   "cell_type": "code",
   "execution_count": 96,
   "metadata": {},
   "outputs": [
    {
     "name": "stdout",
     "output_type": "stream",
     "text": [
      "predicted : [[[0.64883816]]]\n",
      "predicted : [[[0.64051116]]]\n",
      "predicted : [[[0.6244791]]]\n",
      "predicted : [[[0.6232974]]]\n",
      "predicted : [[[0.62396914]]]\n",
      "predicted : [[[0.60752153]]]\n",
      "predicted : [[[0.5700078]]]\n",
      "predicted : [[[0.510002]]]\n",
      "predicted : [[[0.43510813]]]\n",
      "predicted : [[[0.37863362]]]\n"
     ]
    }
   ],
   "source": [
    "df_temp = df['traffic_volume']\n",
    "test_horizon = df_temp.tail(univar_hist_window_sss)\n",
    "test_history = test_horizon.values\n",
    "\n",
    "result = []\n",
    "# Define Forecast length here\n",
    "window_len = len(test_data)\n",
    "test_scaled = scaler_x.fit_transform(test_history.reshape(-1, 1))\n",
    "\n",
    "for i in range(1, window_len+1):\n",
    "    \n",
    "    test_scaled = test_scaled.reshape((1, test_scaled.shape[0], 1))\n",
    "    \n",
    "    # Inserting the model\n",
    "    predicted_results = trained_ed_lstm_model_sss.predict(test_scaled)\n",
    "    \n",
    "    print(f'predicted : {predicted_results}')\n",
    "    result.append(predicted_results[0])\n",
    "    test_scaled = np.append(test_scaled[:,1:],[[predicted_results]])"
   ]
  },
  {
   "cell_type": "code",
   "execution_count": 97,
   "metadata": {},
   "outputs": [
    {
     "data": {
      "text/plain": [
       "array([[4132.65  ],\n",
       "       [4083.9119],\n",
       "       [3990.0762],\n",
       "       [3983.1597],\n",
       "       [3987.0913],\n",
       "       [3890.8235],\n",
       "       [3671.2556],\n",
       "       [3320.0417],\n",
       "       [2881.6877],\n",
       "       [2551.1426]], dtype=float32)"
      ]
     },
     "execution_count": 97,
     "metadata": {},
     "output_type": "execute_result"
    }
   ],
   "source": [
    "result_inv_trans = scaler_x.inverse_transform(np.array(result).reshape(-1,1))\n",
    "result_inv_trans"
   ]
  },
  {
   "cell_type": "code",
   "execution_count": 98,
   "metadata": {},
   "outputs": [
    {
     "name": "stdout",
     "output_type": "stream",
     "text": [
      "MSE is : 727398.7517876684\n",
      "MAE is : 666.9244873046875\n",
      "RMSE is : 852.8767506431797\n",
      "MAPE is : 62.328608844902725\n",
      "R2 is : 0.5277617815813544\n",
      "\n"
     ]
    }
   ],
   "source": [
    "timeseries_evaluation_metrics_func(test_data, result_inv_trans)"
   ]
  },
  {
   "cell_type": "code",
   "execution_count": 99,
   "metadata": {},
   "outputs": [],
   "source": [
    "rmse_ed_lstm_model_sss = np.sqrt(metrics.mean_squared_error(test_data, result_inv_trans))"
   ]
  },
  {
   "cell_type": "code",
   "execution_count": 100,
   "metadata": {},
   "outputs": [
    {
     "data": {
      "image/png": "[encoded data removed]",
      "text/plain": [
       "<Figure size 432x288 with 1 Axes>"
      ]
     },
     "metadata": {
      "needs_background": "light"
     },
     "output_type": "display_data"
    }
   ],
   "source": [
    "plt.plot(list(test_data))\n",
    "plt.plot(list(result_inv_trans))\n",
    "plt.title(\"Actual vs Predicted\")\n",
    "plt.ylabel(\"Traffic volume\")\n",
    "plt.legend(('Actual','predicted'))\n",
    "plt.show()"
   ]
  },
  {
   "cell_type": "markdown",
   "metadata": {},
   "source": [
    "### Horizon Style"
   ]
  },
  {
   "cell_type": "markdown",
   "metadata": {},
   "source": [
    "**Define Layer Structure**"
   ]
  },
  {
   "cell_type": "code",
   "execution_count": 101,
   "metadata": {},
   "outputs": [],
   "source": [
    "model = tf.keras.models.Sequential([\n",
    "    tf.keras.layers.LSTM(100, input_shape=x_train_uni_hs.shape[-2:], return_sequences=True),\n",
    "    tf.keras.layers.LSTM(units=50,return_sequences=True),\n",
    "    tf.keras.layers.LSTM(units=15),\n",
    "    tf.keras.layers.RepeatVector(y_train_uni_hs.shape[1]), \n",
    "    tf.keras.layers.LSTM(units=100,return_sequences=True),\n",
    "    tf.keras.layers.LSTM(units=50,return_sequences=True),\n",
    "    tf.keras.layers.TimeDistributed(tf.keras.layers.Dense(units=1))])\n",
    "\n",
    "model.compile(loss='mse',\n",
    "              optimizer='adam')"
   ]
  },
  {
   "cell_type": "code",
   "execution_count": 102,
   "metadata": {},
   "outputs": [
    {
     "name": "stdout",
     "output_type": "stream",
     "text": [
      "Model: \"sequential_7\"\n",
      "_________________________________________________________________\n",
      "Layer (type)                 Output Shape              Param #   \n",
      "=================================================================\n",
      "lstm_13 (LSTM)               (None, 48, 100)           40800     \n",
      "_________________________________________________________________\n",
      "lstm_14 (LSTM)               (None, 48, 50)            30200     \n",
      "_________________________________________________________________\n",
      "lstm_15 (LSTM)               (None, 15)                3960      \n",
      "_________________________________________________________________\n",
      "repeat_vector_1 (RepeatVecto (None, 10, 15)            0         \n",
      "_________________________________________________________________\n",
      "lstm_16 (LSTM)               (None, 10, 100)           46400     \n",
      "_________________________________________________________________\n",
      "lstm_17 (LSTM)               (None, 10, 50)            30200     \n",
      "_________________________________________________________________\n",
      "time_distributed_1 (TimeDist (None, 10, 1)             51        \n",
      "=================================================================\n",
      "Total params: 151,611\n",
      "Trainable params: 151,611\n",
      "Non-trainable params: 0\n",
      "_________________________________________________________________\n"
     ]
    }
   ],
   "source": [
    "model.summary()"
   ]
  },
  {
   "cell_type": "markdown",
   "metadata": {},
   "source": [
    "**Fit the model**"
   ]
  },
  {
   "cell_type": "code",
   "execution_count": 103,
   "metadata": {},
   "outputs": [],
   "source": [
    "model_path = 'model/ed_lstm_model_hs.h5'"
   ]
  },
  {
   "cell_type": "code",
   "execution_count": 104,
   "metadata": {},
   "outputs": [],
   "source": [
    "keras_callbacks = [tf.keras.callbacks.EarlyStopping(monitor='val_loss', \n",
    "                                                    min_delta=0, patience=10, \n",
    "                                                    verbose=1, mode='min'),\n",
    "                   tf.keras.callbacks.ModelCheckpoint(model_path,monitor='val_loss', \n",
    "                                                      save_best_only=True, \n",
    "                                                      mode='min', verbose=0)]"
   ]
  },
  {
   "cell_type": "code",
   "execution_count": 105,
   "metadata": {},
   "outputs": [
    {
     "name": "stdout",
     "output_type": "stream",
     "text": [
      "Epoch 1/100\n",
      "117/117 [==============================] - 38s 266ms/step - loss: 0.1230 - val_loss: 0.0568\n",
      "Epoch 2/100\n",
      "117/117 [==============================] - 29s 249ms/step - loss: 0.0582 - val_loss: 0.0590\n",
      "Epoch 3/100\n",
      "117/117 [==============================] - 29s 251ms/step - loss: 0.0543 - val_loss: 0.0506\n",
      "Epoch 4/100\n",
      "117/117 [==============================] - 28s 235ms/step - loss: 0.0506 - val_loss: 0.0442\n",
      "Epoch 5/100\n",
      "117/117 [==============================] - 30s 255ms/step - loss: 0.0476 - val_loss: 0.0408\n",
      "Epoch 6/100\n",
      "117/117 [==============================] - 29s 244ms/step - loss: 0.0449 - val_loss: 0.0390\n",
      "Epoch 7/100\n",
      "117/117 [==============================] - 28s 237ms/step - loss: 0.0433 - val_loss: 0.0376\n",
      "Epoch 8/100\n",
      "117/117 [==============================] - 28s 242ms/step - loss: 0.0420 - val_loss: 0.0369\n",
      "Epoch 9/100\n",
      "117/117 [==============================] - 28s 241ms/step - loss: 0.0407 - val_loss: 0.0373\n",
      "Epoch 10/100\n",
      "117/117 [==============================] - 29s 246ms/step - loss: 0.0395 - val_loss: 0.0366\n",
      "Epoch 11/100\n",
      "117/117 [==============================] - 29s 245ms/step - loss: 0.0384 - val_loss: 0.0354\n",
      "Epoch 12/100\n",
      "117/117 [==============================] - 27s 233ms/step - loss: 0.0370 - val_loss: 0.0347\n",
      "Epoch 13/100\n",
      "117/117 [==============================] - 29s 249ms/step - loss: 0.0358 - val_loss: 0.0332\n",
      "Epoch 14/100\n",
      "117/117 [==============================] - 28s 243ms/step - loss: 0.0347 - val_loss: 0.0321\n",
      "Epoch 15/100\n",
      "117/117 [==============================] - 28s 240ms/step - loss: 0.0340 - val_loss: 0.0307\n",
      "Epoch 16/100\n",
      "117/117 [==============================] - 29s 250ms/step - loss: 0.0332 - val_loss: 0.0301\n",
      "Epoch 17/100\n",
      "117/117 [==============================] - 28s 239ms/step - loss: 0.0325 - val_loss: 0.0295\n",
      "Epoch 18/100\n",
      "117/117 [==============================] - 29s 250ms/step - loss: 0.0319 - val_loss: 0.0291\n",
      "Epoch 19/100\n",
      "117/117 [==============================] - 29s 245ms/step - loss: 0.0316 - val_loss: 0.0285\n",
      "Epoch 20/100\n",
      "117/117 [==============================] - 28s 236ms/step - loss: 0.0311 - val_loss: 0.0283\n",
      "Epoch 21/100\n",
      "117/117 [==============================] - 28s 240ms/step - loss: 0.0307 - val_loss: 0.0276\n",
      "Epoch 22/100\n",
      "117/117 [==============================] - 28s 244ms/step - loss: 0.0303 - val_loss: 0.0274\n",
      "Epoch 23/100\n",
      "117/117 [==============================] - 28s 238ms/step - loss: 0.0299 - val_loss: 0.0274\n",
      "Epoch 24/100\n",
      "117/117 [==============================] - 29s 250ms/step - loss: 0.0296 - val_loss: 0.0267\n",
      "Epoch 25/100\n",
      "117/117 [==============================] - 27s 233ms/step - loss: 0.0292 - val_loss: 0.0262\n",
      "Epoch 26/100\n",
      "117/117 [==============================] - 29s 244ms/step - loss: 0.0289 - val_loss: 0.0262\n",
      "Epoch 27/100\n",
      "117/117 [==============================] - 29s 244ms/step - loss: 0.0287 - val_loss: 0.0261\n",
      "Epoch 28/100\n",
      "117/117 [==============================] - 27s 234ms/step - loss: 0.0285 - val_loss: 0.0264\n",
      "Epoch 29/100\n",
      "117/117 [==============================] - 28s 239ms/step - loss: 0.0282 - val_loss: 0.0261\n",
      "Epoch 30/100\n",
      "117/117 [==============================] - 29s 247ms/step - loss: 0.0279 - val_loss: 0.0260\n",
      "Epoch 31/100\n",
      "117/117 [==============================] - 28s 238ms/step - loss: 0.0277 - val_loss: 0.0259\n",
      "Epoch 32/100\n",
      "117/117 [==============================] - 28s 238ms/step - loss: 0.0275 - val_loss: 0.0259\n",
      "Epoch 33/100\n",
      "117/117 [==============================] - 28s 241ms/step - loss: 0.0273 - val_loss: 0.0257\n",
      "Epoch 34/100\n",
      "117/117 [==============================] - 28s 243ms/step - loss: 0.0272 - val_loss: 0.0255\n",
      "Epoch 35/100\n",
      "117/117 [==============================] - 29s 246ms/step - loss: 0.0270 - val_loss: 0.0254\n",
      "Epoch 36/100\n",
      "117/117 [==============================] - 29s 244ms/step - loss: 0.0268 - val_loss: 0.0251\n",
      "Epoch 37/100\n",
      "117/117 [==============================] - 28s 235ms/step - loss: 0.0266 - val_loss: 0.0249\n",
      "Epoch 38/100\n",
      "117/117 [==============================] - 28s 240ms/step - loss: 0.0264 - val_loss: 0.0248\n",
      "Epoch 39/100\n",
      "117/117 [==============================] - 30s 253ms/step - loss: 0.0263 - val_loss: 0.0246\n",
      "Epoch 40/100\n",
      "117/117 [==============================] - 27s 229ms/step - loss: 0.0261 - val_loss: 0.0244\n",
      "Epoch 41/100\n",
      "117/117 [==============================] - 28s 242ms/step - loss: 0.0259 - val_loss: 0.0242\n",
      "Epoch 42/100\n",
      "117/117 [==============================] - 28s 239ms/step - loss: 0.0258 - val_loss: 0.0239\n",
      "Epoch 43/100\n",
      "117/117 [==============================] - 29s 247ms/step - loss: 0.0257 - val_loss: 0.0238\n",
      "Epoch 44/100\n",
      "117/117 [==============================] - 28s 239ms/step - loss: 0.0256 - val_loss: 0.0242\n",
      "Epoch 45/100\n",
      "117/117 [==============================] - 28s 240ms/step - loss: 0.0258 - val_loss: 0.0242\n",
      "Epoch 46/100\n",
      "117/117 [==============================] - 28s 241ms/step - loss: 0.0254 - val_loss: 0.0233\n",
      "Epoch 47/100\n",
      "117/117 [==============================] - 29s 244ms/step - loss: 0.0252 - val_loss: 0.0231\n",
      "Epoch 48/100\n",
      "117/117 [==============================] - 28s 235ms/step - loss: 0.0250 - val_loss: 0.0232\n",
      "Epoch 49/100\n",
      "117/117 [==============================] - 28s 241ms/step - loss: 0.0249 - val_loss: 0.0229\n",
      "Epoch 50/100\n",
      "117/117 [==============================] - 28s 241ms/step - loss: 0.0247 - val_loss: 0.0232\n",
      "Epoch 51/100\n",
      "117/117 [==============================] - 27s 234ms/step - loss: 0.0246 - val_loss: 0.0228\n",
      "Epoch 52/100\n",
      "117/117 [==============================] - 29s 249ms/step - loss: 0.0244 - val_loss: 0.0228\n",
      "Epoch 53/100\n",
      "117/117 [==============================] - 28s 239ms/step - loss: 0.0245 - val_loss: 0.0229\n",
      "Epoch 54/100\n",
      "117/117 [==============================] - 29s 245ms/step - loss: 0.0243 - val_loss: 0.0230\n",
      "Epoch 55/100\n",
      "117/117 [==============================] - 27s 235ms/step - loss: 0.0242 - val_loss: 0.0233\n",
      "Epoch 56/100\n",
      "117/117 [==============================] - 29s 252ms/step - loss: 0.0242 - val_loss: 0.0235\n",
      "Epoch 57/100\n",
      "117/117 [==============================] - 28s 239ms/step - loss: 0.0240 - val_loss: 0.0232\n",
      "Epoch 58/100\n",
      "117/117 [==============================] - 28s 238ms/step - loss: 0.0237 - val_loss: 0.0229\n",
      "Epoch 59/100\n",
      "117/117 [==============================] - 28s 240ms/step - loss: 0.0235 - val_loss: 0.0228\n",
      "Epoch 60/100\n",
      "117/117 [==============================] - 30s 253ms/step - loss: 0.0229 - val_loss: 0.0227\n",
      "Epoch 61/100\n",
      "117/117 [==============================] - 27s 234ms/step - loss: 0.0228 - val_loss: 0.0226\n",
      "Epoch 62/100\n",
      "117/117 [==============================] - 28s 244ms/step - loss: 0.0225 - val_loss: 0.0225\n",
      "Epoch 63/100\n",
      "117/117 [==============================] - 29s 249ms/step - loss: 0.0224 - val_loss: 0.0226\n",
      "Epoch 64/100\n",
      "117/117 [==============================] - 28s 241ms/step - loss: 0.0223 - val_loss: 0.0225\n",
      "Epoch 65/100\n",
      "117/117 [==============================] - 29s 249ms/step - loss: 0.0221 - val_loss: 0.0227\n",
      "Epoch 66/100\n",
      "117/117 [==============================] - 29s 245ms/step - loss: 0.0221 - val_loss: 0.0227\n",
      "Epoch 67/100\n",
      "117/117 [==============================] - 28s 242ms/step - loss: 0.0221 - val_loss: 0.0228\n",
      "Epoch 68/100\n",
      "117/117 [==============================] - 28s 243ms/step - loss: 0.0218 - val_loss: 0.0231\n",
      "Epoch 69/100\n",
      "117/117 [==============================] - 31s 263ms/step - loss: 0.0219 - val_loss: 0.0235\n",
      "Epoch 70/100\n",
      "117/117 [==============================] - 28s 243ms/step - loss: 0.0216 - val_loss: 0.0234\n",
      "Epoch 71/100\n",
      "117/117 [==============================] - 28s 243ms/step - loss: 0.0213 - val_loss: 0.0235\n",
      "Epoch 72/100\n",
      "117/117 [==============================] - 29s 246ms/step - loss: 0.0211 - val_loss: 0.0229\n",
      "Epoch 00072: early stopping\n"
     ]
    }
   ],
   "source": [
    "history = model.fit(train_univariate_hs, epochs=n_epochs, steps_per_epoch=n_steps_per_epoch,\n",
    "                    validation_data=validation_univariate_hs, validation_steps=n_validation_steps, verbose =1,\n",
    "                    callbacks = keras_callbacks)"
   ]
  },
  {
   "cell_type": "markdown",
   "metadata": {},
   "source": [
    "**Validate the model**"
   ]
  },
  {
   "cell_type": "code",
   "execution_count": 106,
   "metadata": {},
   "outputs": [
    {
     "data": {
      "image/png": "[encoded data removed]",
      "text/plain": [
       "<Figure size 432x288 with 1 Axes>"
      ]
     },
     "metadata": {
      "needs_background": "light"
     },
     "output_type": "display_data"
    }
   ],
   "source": [
    "loss = history.history['loss']\n",
    "val_loss = history.history['val_loss']\n",
    "\n",
    "epochs = range(1, len(loss) + 1)\n",
    "\n",
    "\n",
    "plt.plot(epochs, loss, 'bo', label='Training loss')\n",
    "plt.plot(epochs, val_loss, 'b', label='Validation loss')\n",
    "plt.title('Training and validation loss')\n",
    "plt.legend()\n",
    "\n",
    "plt.show()"
   ]
  },
  {
   "cell_type": "markdown",
   "metadata": {},
   "source": [
    "**Test the model**"
   ]
  },
  {
   "cell_type": "code",
   "execution_count": 107,
   "metadata": {},
   "outputs": [],
   "source": [
    "trained_ed_lstm_model_hs = tf.keras.models.load_model(model_path)"
   ]
  },
  {
   "cell_type": "code",
   "execution_count": 108,
   "metadata": {},
   "outputs": [
    {
     "data": {
      "text/plain": [
       "array([[[0.6755979 ],\n",
       "        [0.63748026],\n",
       "        [0.6254375 ],\n",
       "        [0.6207213 ],\n",
       "        [0.596212  ],\n",
       "        [0.552284  ],\n",
       "        [0.4978743 ],\n",
       "        [0.43335313],\n",
       "        [0.36414778],\n",
       "        [0.30158296]]], dtype=float32)"
      ]
     },
     "execution_count": 108,
     "metadata": {},
     "output_type": "execute_result"
    }
   ],
   "source": [
    "df_temp = df['traffic_volume']\n",
    "test_horizon = df_temp.tail(univar_hist_window_hs)\n",
    "test_history = test_horizon.values\n",
    "\n",
    "\n",
    "test_scaled = scaler_x.fit_transform(test_history.reshape(-1, 1))\n",
    "test_scaled = test_scaled.reshape((1, test_scaled.shape[0], 1))\n",
    "\n",
    "# Inserting the model\n",
    "predicted_results = trained_ed_lstm_model_hs.predict(test_scaled)\n",
    "predicted_results"
   ]
  },
  {
   "cell_type": "code",
   "execution_count": 109,
   "metadata": {},
   "outputs": [
    {
     "data": {
      "text/plain": [
       "array([[4289.2744],\n",
       "       [4066.1719],\n",
       "       [3995.6855],\n",
       "       [3968.0815],\n",
       "       [3824.629 ],\n",
       "       [3567.5183],\n",
       "       [3249.0583],\n",
       "       [2871.4158],\n",
       "       [2466.357 ],\n",
       "       [2100.165 ]], dtype=float32)"
      ]
     },
     "execution_count": 109,
     "metadata": {},
     "output_type": "execute_result"
    }
   ],
   "source": [
    "predicted_inv_trans = scaler_x.inverse_transform(predicted_results[0])\n",
    "predicted_inv_trans"
   ]
  },
  {
   "cell_type": "code",
   "execution_count": 110,
   "metadata": {},
   "outputs": [
    {
     "name": "stdout",
     "output_type": "stream",
     "text": [
      "MSE is : 344900.4176156223\n",
      "MAE is : 456.1672119140625\n",
      "RMSE is : 587.2822299504918\n",
      "MAPE is : 60.47332392177286\n",
      "R2 is : 0.776085457465574\n",
      "\n"
     ]
    }
   ],
   "source": [
    "timeseries_evaluation_metrics_func(test_data, predicted_inv_trans)"
   ]
  },
  {
   "cell_type": "code",
   "execution_count": null,
   "metadata": {},
   "outputs": [],
   "source": [
    "rmse_ed_lstm_model_hs = np.sqrt(metrics.mean_squared_error(test_data, predicted_inv_trans))"
   ]
  },
  {
   "cell_type": "code",
   "execution_count": 112,
   "metadata": {},
   "outputs": [
    {
     "data": {
      "image/png": "[encoded data removed]",
      "text/plain": [
       "<Figure size 432x288 with 1 Axes>"
      ]
     },
     "metadata": {
      "needs_background": "light"
     },
     "output_type": "display_data"
    }
   ],
   "source": [
    "plt.plot(list(test_data))\n",
    "plt.plot(list(predicted_inv_trans))\n",
    "plt.title(\"Actual vs Predicted\")\n",
    "plt.ylabel(\"Traffic volume\")\n",
    "plt.legend(('Actual','predicted'))\n",
    "plt.show()"
   ]
  },
  {
   "cell_type": "markdown",
   "metadata": {},
   "source": [
    "## CNN"
   ]
  },
  {
   "cell_type": "markdown",
   "metadata": {},
   "source": [
    "### Single Step Style"
   ]
  },
  {
   "cell_type": "markdown",
   "metadata": {},
   "source": [
    "**Define Layer Structure**"
   ]
  },
  {
   "cell_type": "code",
   "execution_count": 113,
   "metadata": {},
   "outputs": [],
   "source": [
    "model = tf.keras.models.Sequential()\n",
    "model.add(tf.keras.layers.Conv1D(filters=64, kernel_size=3, activation='relu', \n",
    "                                 input_shape=(x_train_uni_sss.shape[1], x_train_uni_sss.shape[2])))\n",
    "model.add(tf.keras.layers.MaxPool1D(pool_size=2))\n",
    "model.add(tf.keras.layers.Dropout(0.2))\n",
    "model.add(tf.keras.layers.Flatten())\n",
    "model.add(tf.keras.layers.Dense(30, activation='relu'))\n",
    "model.add(tf.keras.layers.Dropout(0.2))\n",
    "model.add(tf.keras.layers.Dense(units=horizon_sss))\n",
    "\n",
    "model.compile(loss='mse',\n",
    "              optimizer='adam')"
   ]
  },
  {
   "cell_type": "code",
   "execution_count": 114,
   "metadata": {},
   "outputs": [
    {
     "name": "stdout",
     "output_type": "stream",
     "text": [
      "Model: \"sequential_8\"\n",
      "_________________________________________________________________\n",
      "Layer (type)                 Output Shape              Param #   \n",
      "=================================================================\n",
      "conv1d (Conv1D)              (None, 46, 64)            256       \n",
      "_________________________________________________________________\n",
      "max_pooling1d (MaxPooling1D) (None, 23, 64)            0         \n",
      "_________________________________________________________________\n",
      "dropout_10 (Dropout)         (None, 23, 64)            0         \n",
      "_________________________________________________________________\n",
      "flatten (Flatten)            (None, 1472)              0         \n",
      "_________________________________________________________________\n",
      "dense_10 (Dense)             (None, 30)                44190     \n",
      "_________________________________________________________________\n",
      "dropout_11 (Dropout)         (None, 30)                0         \n",
      "_________________________________________________________________\n",
      "dense_11 (Dense)             (None, 1)                 31        \n",
      "=================================================================\n",
      "Total params: 44,477\n",
      "Trainable params: 44,477\n",
      "Non-trainable params: 0\n",
      "_________________________________________________________________\n"
     ]
    }
   ],
   "source": [
    "model.summary()"
   ]
  },
  {
   "cell_type": "markdown",
   "metadata": {},
   "source": [
    "**Fit the model**"
   ]
  },
  {
   "cell_type": "code",
   "execution_count": 115,
   "metadata": {},
   "outputs": [],
   "source": [
    "model_path = 'model/cnn_model_sss.h5'"
   ]
  },
  {
   "cell_type": "code",
   "execution_count": 116,
   "metadata": {},
   "outputs": [],
   "source": [
    "keras_callbacks = [tf.keras.callbacks.EarlyStopping(monitor='val_loss', \n",
    "                                                    min_delta=0, patience=10, \n",
    "                                                    verbose=1, mode='min'),\n",
    "                   tf.keras.callbacks.ModelCheckpoint(model_path,monitor='val_loss', \n",
    "                                                      save_best_only=True, \n",
    "                                                      mode='min', verbose=0)]"
   ]
  },
  {
   "cell_type": "code",
   "execution_count": 117,
   "metadata": {},
   "outputs": [
    {
     "name": "stdout",
     "output_type": "stream",
     "text": [
      "Epoch 1/100\n",
      "117/117 [==============================] - 2s 15ms/step - loss: 0.0834 - val_loss: 0.0210\n",
      "Epoch 2/100\n",
      "117/117 [==============================] - 2s 14ms/step - loss: 0.0285 - val_loss: 0.0154\n",
      "Epoch 3/100\n",
      "117/117 [==============================] - 2s 13ms/step - loss: 0.0238 - val_loss: 0.0134\n",
      "Epoch 4/100\n",
      "117/117 [==============================] - 2s 13ms/step - loss: 0.0219 - val_loss: 0.0123\n",
      "Epoch 5/100\n",
      "117/117 [==============================] - 2s 14ms/step - loss: 0.0202 - val_loss: 0.0119\n",
      "Epoch 6/100\n",
      "117/117 [==============================] - 2s 14ms/step - loss: 0.0196 - val_loss: 0.0121\n",
      "Epoch 7/100\n",
      "117/117 [==============================] - 2s 14ms/step - loss: 0.0187 - val_loss: 0.0113\n",
      "Epoch 8/100\n",
      "117/117 [==============================] - 2s 14ms/step - loss: 0.0190 - val_loss: 0.0111\n",
      "Epoch 9/100\n",
      "117/117 [==============================] - 2s 13ms/step - loss: 0.0181 - val_loss: 0.0104\n",
      "Epoch 10/100\n",
      "117/117 [==============================] - 2s 14ms/step - loss: 0.0174 - val_loss: 0.0102\n",
      "Epoch 11/100\n",
      "117/117 [==============================] - 2s 13ms/step - loss: 0.0171 - val_loss: 0.0102\n",
      "Epoch 12/100\n",
      "117/117 [==============================] - 2s 14ms/step - loss: 0.0166 - val_loss: 0.0097\n",
      "Epoch 13/100\n",
      "117/117 [==============================] - 2s 14ms/step - loss: 0.0161 - val_loss: 0.0102\n",
      "Epoch 14/100\n",
      "117/117 [==============================] - 2s 14ms/step - loss: 0.0159 - val_loss: 0.0093\n",
      "Epoch 15/100\n",
      "117/117 [==============================] - 2s 14ms/step - loss: 0.0157 - val_loss: 0.0098\n",
      "Epoch 16/100\n",
      "117/117 [==============================] - 2s 13ms/step - loss: 0.0157 - val_loss: 0.0098\n",
      "Epoch 17/100\n",
      "117/117 [==============================] - 2s 14ms/step - loss: 0.0158 - val_loss: 0.0100\n",
      "Epoch 18/100\n",
      "117/117 [==============================] - 2s 13ms/step - loss: 0.0156 - val_loss: 0.0093\n",
      "Epoch 19/100\n",
      "117/117 [==============================] - 2s 14ms/step - loss: 0.0153 - val_loss: 0.0094\n",
      "Epoch 20/100\n",
      "117/117 [==============================] - 2s 14ms/step - loss: 0.0151 - val_loss: 0.0097\n",
      "Epoch 21/100\n",
      "117/117 [==============================] - 2s 14ms/step - loss: 0.0150 - val_loss: 0.0090\n",
      "Epoch 22/100\n",
      "117/117 [==============================] - 2s 14ms/step - loss: 0.0149 - val_loss: 0.0093\n",
      "Epoch 23/100\n",
      "117/117 [==============================] - 2s 14ms/step - loss: 0.0145 - val_loss: 0.0092\n",
      "Epoch 24/100\n",
      "117/117 [==============================] - 2s 14ms/step - loss: 0.0144 - val_loss: 0.0090\n",
      "Epoch 25/100\n",
      "117/117 [==============================] - 2s 13ms/step - loss: 0.0146 - val_loss: 0.0088\n",
      "Epoch 26/100\n",
      "117/117 [==============================] - 2s 14ms/step - loss: 0.0141 - val_loss: 0.0090\n",
      "Epoch 27/100\n",
      "117/117 [==============================] - 2s 14ms/step - loss: 0.0141 - val_loss: 0.0085\n",
      "Epoch 28/100\n",
      "117/117 [==============================] - 2s 13ms/step - loss: 0.0140 - val_loss: 0.0084\n",
      "Epoch 29/100\n",
      "117/117 [==============================] - 2s 14ms/step - loss: 0.0141 - val_loss: 0.0085\n",
      "Epoch 30/100\n",
      "117/117 [==============================] - 2s 13ms/step - loss: 0.0142 - val_loss: 0.0086\n",
      "Epoch 31/100\n",
      "117/117 [==============================] - 2s 14ms/step - loss: 0.0139 - val_loss: 0.0087\n",
      "Epoch 32/100\n",
      "117/117 [==============================] - 2s 14ms/step - loss: 0.0138 - val_loss: 0.0087\n",
      "Epoch 33/100\n",
      "117/117 [==============================] - 2s 13ms/step - loss: 0.0140 - val_loss: 0.0083\n",
      "Epoch 34/100\n",
      "117/117 [==============================] - 2s 13ms/step - loss: 0.0139 - val_loss: 0.0084\n",
      "Epoch 35/100\n",
      "117/117 [==============================] - 2s 13ms/step - loss: 0.0138 - val_loss: 0.0083\n",
      "Epoch 36/100\n",
      "117/117 [==============================] - 2s 14ms/step - loss: 0.0138 - val_loss: 0.0088\n",
      "Epoch 37/100\n",
      "117/117 [==============================] - 2s 14ms/step - loss: 0.0139 - val_loss: 0.0085\n",
      "Epoch 38/100\n",
      "117/117 [==============================] - 2s 14ms/step - loss: 0.0138 - val_loss: 0.0086\n",
      "Epoch 39/100\n",
      "117/117 [==============================] - 2s 14ms/step - loss: 0.0137 - val_loss: 0.0084\n",
      "Epoch 40/100\n",
      "117/117 [==============================] - 2s 14ms/step - loss: 0.0138 - val_loss: 0.0088\n",
      "Epoch 41/100\n",
      "117/117 [==============================] - 2s 15ms/step - loss: 0.0137 - val_loss: 0.0082\n",
      "Epoch 42/100\n",
      "117/117 [==============================] - 2s 15ms/step - loss: 0.0134 - val_loss: 0.0086\n",
      "Epoch 43/100\n",
      "117/117 [==============================] - 2s 15ms/step - loss: 0.0132 - val_loss: 0.0082\n",
      "Epoch 44/100\n",
      "117/117 [==============================] - 2s 14ms/step - loss: 0.0134 - val_loss: 0.0084\n",
      "Epoch 45/100\n",
      "117/117 [==============================] - 2s 14ms/step - loss: 0.0135 - val_loss: 0.0079\n",
      "Epoch 46/100\n",
      "117/117 [==============================] - 2s 15ms/step - loss: 0.0133 - val_loss: 0.0085\n",
      "Epoch 47/100\n",
      "117/117 [==============================] - 2s 14ms/step - loss: 0.0133 - val_loss: 0.0081\n",
      "Epoch 48/100\n",
      "117/117 [==============================] - 2s 15ms/step - loss: 0.0132 - val_loss: 0.0081\n",
      "Epoch 49/100\n",
      "117/117 [==============================] - 2s 15ms/step - loss: 0.0130 - val_loss: 0.0082\n",
      "Epoch 50/100\n",
      "117/117 [==============================] - 2s 14ms/step - loss: 0.0130 - val_loss: 0.0083\n",
      "Epoch 51/100\n",
      "117/117 [==============================] - 2s 15ms/step - loss: 0.0131 - val_loss: 0.0087\n",
      "Epoch 52/100\n",
      "117/117 [==============================] - 2s 15ms/step - loss: 0.0130 - val_loss: 0.0080\n",
      "Epoch 53/100\n",
      "117/117 [==============================] - 2s 14ms/step - loss: 0.0130 - val_loss: 0.0080\n",
      "Epoch 54/100\n",
      "117/117 [==============================] - 2s 14ms/step - loss: 0.0131 - val_loss: 0.0080\n",
      "Epoch 55/100\n",
      "117/117 [==============================] - 2s 14ms/step - loss: 0.0130 - val_loss: 0.0083\n",
      "Epoch 00055: early stopping\n"
     ]
    }
   ],
   "source": [
    "history = model.fit(train_univariate_sss, epochs=n_epochs, steps_per_epoch=n_steps_per_epoch,\n",
    "                    validation_data=validation_univariate_sss, validation_steps=n_validation_steps, verbose =1,\n",
    "                    callbacks = keras_callbacks)"
   ]
  },
  {
   "cell_type": "markdown",
   "metadata": {},
   "source": [
    "**Validate the model**"
   ]
  },
  {
   "cell_type": "code",
   "execution_count": 118,
   "metadata": {},
   "outputs": [
    {
     "data": {
      "image/png": "[encoded data removed]",
      "text/plain": [
       "<Figure size 432x288 with 1 Axes>"
      ]
     },
     "metadata": {
      "needs_background": "light"
     },
     "output_type": "display_data"
    }
   ],
   "source": [
    "loss = history.history['loss']\n",
    "val_loss = history.history['val_loss']\n",
    "\n",
    "epochs = range(1, len(loss) + 1)\n",
    "\n",
    "\n",
    "plt.plot(epochs, loss, 'bo', label='Training loss')\n",
    "plt.plot(epochs, val_loss, 'b', label='Validation loss')\n",
    "plt.title('Training and validation loss')\n",
    "plt.legend()\n",
    "\n",
    "plt.show()"
   ]
  },
  {
   "cell_type": "markdown",
   "metadata": {},
   "source": [
    "**Test the model**"
   ]
  },
  {
   "cell_type": "code",
   "execution_count": 119,
   "metadata": {},
   "outputs": [],
   "source": [
    "trained_cnn_model_sss = tf.keras.models.load_model(model_path)"
   ]
  },
  {
   "cell_type": "code",
   "execution_count": 120,
   "metadata": {},
   "outputs": [
    {
     "name": "stdout",
     "output_type": "stream",
     "text": [
      "predicted : [[0.60016906]]\n",
      "predicted : [[0.5982555]]\n",
      "predicted : [[0.59053373]]\n",
      "predicted : [[0.6185149]]\n",
      "predicted : [[0.63640904]]\n",
      "predicted : [[0.67375225]]\n",
      "predicted : [[0.6778408]]\n",
      "predicted : [[0.64652133]]\n",
      "predicted : [[0.5569166]]\n",
      "predicted : [[0.46895206]]\n"
     ]
    }
   ],
   "source": [
    "df_temp = df['traffic_volume']\n",
    "test_horizon = df_temp.tail(univar_hist_window_sss)\n",
    "test_history = test_horizon.values\n",
    "\n",
    "result = []\n",
    "# Define Forecast length here\n",
    "window_len = len(test_data)\n",
    "test_scaled = scaler_x.fit_transform(test_history.reshape(-1, 1))\n",
    "\n",
    "for i in range(1, window_len+1):\n",
    "    \n",
    "    test_scaled = test_scaled.reshape((1, test_scaled.shape[0], 1))\n",
    "    \n",
    "    # Inserting the model\n",
    "    predicted_results = trained_cnn_model_sss.predict(test_scaled)\n",
    "    \n",
    "    print(f'predicted : {predicted_results}')\n",
    "    result.append(predicted_results[0])\n",
    "    test_scaled = np.append(test_scaled[:,1:],[[predicted_results]])"
   ]
  },
  {
   "cell_type": "code",
   "execution_count": 121,
   "metadata": {},
   "outputs": [
    {
     "data": {
      "text/plain": [
       "array([[3847.78952348],\n",
       "       [3836.58952987],\n",
       "       [3791.3939414 ],\n",
       "       [3955.16768301],\n",
       "       [4059.90213609],\n",
       "       [4278.47190922],\n",
       "       [4302.40237153],\n",
       "       [4119.08934379],\n",
       "       [3594.63282764],\n",
       "       [3079.77640569]])"
      ]
     },
     "execution_count": 121,
     "metadata": {},
     "output_type": "execute_result"
    }
   ],
   "source": [
    "result_inv_trans = scaler_x.inverse_transform(result)\n",
    "result_inv_trans"
   ]
  },
  {
   "cell_type": "code",
   "execution_count": 122,
   "metadata": {},
   "outputs": [
    {
     "name": "stdout",
     "output_type": "stream",
     "text": [
      "MSE is : 1694409.136495232\n",
      "MAE is : 1056.0334316194057\n",
      "RMSE is : 1301.6947170881626\n",
      "MAPE is : 65.7600814585999\n",
      "R2 is : -0.10003591554739999\n",
      "\n"
     ]
    }
   ],
   "source": [
    "timeseries_evaluation_metrics_func(test_data, result_inv_trans)"
   ]
  },
  {
   "cell_type": "code",
   "execution_count": 123,
   "metadata": {},
   "outputs": [],
   "source": [
    "rmse_cnn_model_sss = np.sqrt(metrics.mean_squared_error(test_data, result_inv_trans))"
   ]
  },
  {
   "cell_type": "code",
   "execution_count": 124,
   "metadata": {},
   "outputs": [
    {
     "data": {
      "image/png": "[encoded data removed]",
      "text/plain": [
       "<Figure size 432x288 with 1 Axes>"
      ]
     },
     "metadata": {
      "needs_background": "light"
     },
     "output_type": "display_data"
    }
   ],
   "source": [
    "plt.plot(list(test_data))\n",
    "plt.plot(list(result_inv_trans))\n",
    "plt.title(\"Actual vs Predicted\")\n",
    "plt.ylabel(\"Traffic volume\")\n",
    "plt.legend(('Actual','predicted'))\n",
    "plt.show()"
   ]
  },
  {
   "cell_type": "markdown",
   "metadata": {},
   "source": [
    "### Horizon Style"
   ]
  },
  {
   "cell_type": "markdown",
   "metadata": {},
   "source": [
    "**Define Layer Structure**"
   ]
  },
  {
   "cell_type": "code",
   "execution_count": 125,
   "metadata": {},
   "outputs": [],
   "source": [
    "model = tf.keras.models.Sequential()\n",
    "model.add(tf.keras.layers.Conv1D(filters=64, kernel_size=3, activation='relu', \n",
    "                                 input_shape=(x_train_uni_hs.shape[1], x_train_uni_hs.shape[2])))\n",
    "model.add(tf.keras.layers.MaxPool1D(pool_size=2))\n",
    "model.add(tf.keras.layers.Dropout(0.2))\n",
    "model.add(tf.keras.layers.Flatten())\n",
    "model.add(tf.keras.layers.Dense(30, activation='relu'))\n",
    "model.add(tf.keras.layers.Dropout(0.2))\n",
    "model.add(tf.keras.layers.Dense(units=horizon_hs))\n",
    "\n",
    "model.compile(loss='mse',\n",
    "              optimizer='adam')"
   ]
  },
  {
   "cell_type": "code",
   "execution_count": 126,
   "metadata": {},
   "outputs": [
    {
     "name": "stdout",
     "output_type": "stream",
     "text": [
      "Model: \"sequential_9\"\n",
      "_________________________________________________________________\n",
      "Layer (type)                 Output Shape              Param #   \n",
      "=================================================================\n",
      "conv1d_1 (Conv1D)            (None, 46, 64)            256       \n",
      "_________________________________________________________________\n",
      "max_pooling1d_1 (MaxPooling1 (None, 23, 64)            0         \n",
      "_________________________________________________________________\n",
      "dropout_12 (Dropout)         (None, 23, 64)            0         \n",
      "_________________________________________________________________\n",
      "flatten_1 (Flatten)          (None, 1472)              0         \n",
      "_________________________________________________________________\n",
      "dense_12 (Dense)             (None, 30)                44190     \n",
      "_________________________________________________________________\n",
      "dropout_13 (Dropout)         (None, 30)                0         \n",
      "_________________________________________________________________\n",
      "dense_13 (Dense)             (None, 10)                310       \n",
      "=================================================================\n",
      "Total params: 44,756\n",
      "Trainable params: 44,756\n",
      "Non-trainable params: 0\n",
      "_________________________________________________________________\n"
     ]
    }
   ],
   "source": [
    "model.summary()"
   ]
  },
  {
   "cell_type": "markdown",
   "metadata": {},
   "source": [
    "**Fit the model**"
   ]
  },
  {
   "cell_type": "code",
   "execution_count": 127,
   "metadata": {},
   "outputs": [],
   "source": [
    "model_path = 'model/cnn_model_hs.h5'"
   ]
  },
  {
   "cell_type": "code",
   "execution_count": 128,
   "metadata": {},
   "outputs": [],
   "source": [
    "keras_callbacks = [tf.keras.callbacks.EarlyStopping(monitor='val_loss', \n",
    "                                                    min_delta=0, patience=10, \n",
    "                                                    verbose=1, mode='min'),\n",
    "                   tf.keras.callbacks.ModelCheckpoint(model_path,monitor='val_loss', \n",
    "                                                      save_best_only=True, \n",
    "                                                      mode='min', verbose=0)]"
   ]
  },
  {
   "cell_type": "code",
   "execution_count": 129,
   "metadata": {},
   "outputs": [
    {
     "name": "stdout",
     "output_type": "stream",
     "text": [
      "Epoch 1/100\n",
      "117/117 [==============================] - 2s 14ms/step - loss: 0.1371 - val_loss: 0.0516\n",
      "Epoch 2/100\n",
      "117/117 [==============================] - 2s 13ms/step - loss: 0.0659 - val_loss: 0.0430\n",
      "Epoch 3/100\n",
      "117/117 [==============================] - 2s 13ms/step - loss: 0.0560 - val_loss: 0.0391\n",
      "Epoch 4/100\n",
      "117/117 [==============================] - 2s 13ms/step - loss: 0.0516 - val_loss: 0.0373\n",
      "Epoch 5/100\n",
      "117/117 [==============================] - 2s 13ms/step - loss: 0.0485 - val_loss: 0.0354\n",
      "Epoch 6/100\n",
      "117/117 [==============================] - 2s 13ms/step - loss: 0.0464 - val_loss: 0.0347\n",
      "Epoch 7/100\n",
      "117/117 [==============================] - 2s 13ms/step - loss: 0.0446 - val_loss: 0.0336\n",
      "Epoch 8/100\n",
      "117/117 [==============================] - 2s 13ms/step - loss: 0.0436 - val_loss: 0.0330\n",
      "Epoch 9/100\n",
      "117/117 [==============================] - 2s 13ms/step - loss: 0.0426 - val_loss: 0.0326\n",
      "Epoch 10/100\n",
      "117/117 [==============================] - 2s 13ms/step - loss: 0.0420 - val_loss: 0.0321\n",
      "Epoch 11/100\n",
      "117/117 [==============================] - 2s 13ms/step - loss: 0.0409 - val_loss: 0.0316\n",
      "Epoch 12/100\n",
      "117/117 [==============================] - 2s 14ms/step - loss: 0.0402 - val_loss: 0.0306\n",
      "Epoch 13/100\n",
      "117/117 [==============================] - 2s 14ms/step - loss: 0.0392 - val_loss: 0.0302\n",
      "Epoch 14/100\n",
      "117/117 [==============================] - 2s 14ms/step - loss: 0.0388 - val_loss: 0.0297\n",
      "Epoch 15/100\n",
      "117/117 [==============================] - 2s 13ms/step - loss: 0.0382 - val_loss: 0.0296\n",
      "Epoch 16/100\n",
      "117/117 [==============================] - 2s 14ms/step - loss: 0.0377 - val_loss: 0.0293\n",
      "Epoch 17/100\n",
      "117/117 [==============================] - 2s 13ms/step - loss: 0.0374 - val_loss: 0.0291\n",
      "Epoch 18/100\n",
      "117/117 [==============================] - 2s 14ms/step - loss: 0.0371 - val_loss: 0.0290\n",
      "Epoch 19/100\n",
      "117/117 [==============================] - 2s 14ms/step - loss: 0.0368 - val_loss: 0.0288\n",
      "Epoch 20/100\n",
      "117/117 [==============================] - 2s 14ms/step - loss: 0.0364 - val_loss: 0.0284\n",
      "Epoch 21/100\n",
      "117/117 [==============================] - 2s 14ms/step - loss: 0.0363 - val_loss: 0.0284\n",
      "Epoch 22/100\n",
      "117/117 [==============================] - 2s 14ms/step - loss: 0.0360 - val_loss: 0.0281\n",
      "Epoch 23/100\n",
      "117/117 [==============================] - 2s 14ms/step - loss: 0.0360 - val_loss: 0.0281\n",
      "Epoch 24/100\n",
      "117/117 [==============================] - 2s 14ms/step - loss: 0.0357 - val_loss: 0.0282\n",
      "Epoch 25/100\n",
      "117/117 [==============================] - 2s 13ms/step - loss: 0.0358 - val_loss: 0.0277\n",
      "Epoch 26/100\n",
      "117/117 [==============================] - 2s 14ms/step - loss: 0.0353 - val_loss: 0.0277\n",
      "Epoch 27/100\n",
      "117/117 [==============================] - 2s 13ms/step - loss: 0.0352 - val_loss: 0.0278\n",
      "Epoch 28/100\n",
      "117/117 [==============================] - 2s 14ms/step - loss: 0.0350 - val_loss: 0.0275\n",
      "Epoch 29/100\n",
      "117/117 [==============================] - 2s 13ms/step - loss: 0.0351 - val_loss: 0.0276\n",
      "Epoch 30/100\n",
      "117/117 [==============================] - 2s 13ms/step - loss: 0.0349 - val_loss: 0.0275\n",
      "Epoch 31/100\n",
      "117/117 [==============================] - 2s 14ms/step - loss: 0.0350 - val_loss: 0.0274\n",
      "Epoch 32/100\n",
      "117/117 [==============================] - 2s 14ms/step - loss: 0.0349 - val_loss: 0.0274\n",
      "Epoch 33/100\n",
      "117/117 [==============================] - 2s 14ms/step - loss: 0.0349 - val_loss: 0.0273\n",
      "Epoch 34/100\n",
      "117/117 [==============================] - 2s 13ms/step - loss: 0.0345 - val_loss: 0.0275\n",
      "Epoch 35/100\n",
      "117/117 [==============================] - 2s 13ms/step - loss: 0.0343 - val_loss: 0.0271\n",
      "Epoch 36/100\n",
      "117/117 [==============================] - 2s 14ms/step - loss: 0.0342 - val_loss: 0.0273\n",
      "Epoch 37/100\n",
      "117/117 [==============================] - 2s 14ms/step - loss: 0.0342 - val_loss: 0.0271\n",
      "Epoch 38/100\n",
      "117/117 [==============================] - 2s 20ms/step - loss: 0.0343 - val_loss: 0.0270\n",
      "Epoch 39/100\n",
      "117/117 [==============================] - 2s 15ms/step - loss: 0.0340 - val_loss: 0.0272\n",
      "Epoch 40/100\n",
      "117/117 [==============================] - 2s 16ms/step - loss: 0.0340 - val_loss: 0.0267\n",
      "Epoch 41/100\n",
      "117/117 [==============================] - 2s 16ms/step - loss: 0.0338 - val_loss: 0.0266\n",
      "Epoch 42/100\n",
      "117/117 [==============================] - 2s 16ms/step - loss: 0.0337 - val_loss: 0.0270\n",
      "Epoch 43/100\n",
      "117/117 [==============================] - 2s 16ms/step - loss: 0.0336 - val_loss: 0.0268\n",
      "Epoch 44/100\n",
      "117/117 [==============================] - 2s 16ms/step - loss: 0.0335 - val_loss: 0.0264\n",
      "Epoch 45/100\n",
      "117/117 [==============================] - 2s 16ms/step - loss: 0.0336 - val_loss: 0.0269\n",
      "Epoch 46/100\n",
      "117/117 [==============================] - 2s 16ms/step - loss: 0.0335 - val_loss: 0.0268\n",
      "Epoch 47/100\n",
      "117/117 [==============================] - 2s 16ms/step - loss: 0.0337 - val_loss: 0.0267\n",
      "Epoch 48/100\n",
      "117/117 [==============================] - 2s 16ms/step - loss: 0.0334 - val_loss: 0.0269\n",
      "Epoch 49/100\n",
      "117/117 [==============================] - 2s 15ms/step - loss: 0.0334 - val_loss: 0.0266\n",
      "Epoch 50/100\n",
      "117/117 [==============================] - 2s 15ms/step - loss: 0.0333 - val_loss: 0.0265\n",
      "Epoch 51/100\n",
      "117/117 [==============================] - 2s 15ms/step - loss: 0.0329 - val_loss: 0.0268\n",
      "Epoch 52/100\n",
      "117/117 [==============================] - 2s 15ms/step - loss: 0.0327 - val_loss: 0.0264\n",
      "Epoch 53/100\n",
      "117/117 [==============================] - 2s 14ms/step - loss: 0.0329 - val_loss: 0.0265\n",
      "Epoch 54/100\n",
      "117/117 [==============================] - 2s 14ms/step - loss: 0.0330 - val_loss: 0.0266\n",
      "Epoch 55/100\n",
      "117/117 [==============================] - 2s 14ms/step - loss: 0.0328 - val_loss: 0.0264\n",
      "Epoch 56/100\n",
      "117/117 [==============================] - 2s 14ms/step - loss: 0.0328 - val_loss: 0.0264\n",
      "Epoch 57/100\n",
      "117/117 [==============================] - 2s 14ms/step - loss: 0.0327 - val_loss: 0.0263\n",
      "Epoch 58/100\n",
      "117/117 [==============================] - 2s 14ms/step - loss: 0.0328 - val_loss: 0.0262\n",
      "Epoch 59/100\n",
      "117/117 [==============================] - 2s 15ms/step - loss: 0.0326 - val_loss: 0.0262\n",
      "Epoch 60/100\n",
      "117/117 [==============================] - 2s 15ms/step - loss: 0.0325 - val_loss: 0.0261\n",
      "Epoch 61/100\n",
      "117/117 [==============================] - 2s 15ms/step - loss: 0.0327 - val_loss: 0.0262\n",
      "Epoch 62/100\n",
      "117/117 [==============================] - 2s 14ms/step - loss: 0.0322 - val_loss: 0.0260\n",
      "Epoch 63/100\n",
      "117/117 [==============================] - 2s 15ms/step - loss: 0.0325 - val_loss: 0.0260\n",
      "Epoch 64/100\n",
      "117/117 [==============================] - 2s 15ms/step - loss: 0.0325 - val_loss: 0.0258\n",
      "Epoch 65/100\n",
      "117/117 [==============================] - 2s 15ms/step - loss: 0.0324 - val_loss: 0.0262\n",
      "Epoch 66/100\n",
      "117/117 [==============================] - 2s 14ms/step - loss: 0.0324 - val_loss: 0.0258\n",
      "Epoch 67/100\n",
      "117/117 [==============================] - 2s 15ms/step - loss: 0.0324 - val_loss: 0.0263\n",
      "Epoch 68/100\n",
      "117/117 [==============================] - 2s 15ms/step - loss: 0.0324 - val_loss: 0.0260\n",
      "Epoch 69/100\n",
      "117/117 [==============================] - 2s 15ms/step - loss: 0.0324 - val_loss: 0.0258\n",
      "Epoch 70/100\n",
      "117/117 [==============================] - 2s 15ms/step - loss: 0.0320 - val_loss: 0.0260\n",
      "Epoch 71/100\n",
      "117/117 [==============================] - 2s 14ms/step - loss: 0.0320 - val_loss: 0.0259\n",
      "Epoch 72/100\n",
      "117/117 [==============================] - 2s 14ms/step - loss: 0.0323 - val_loss: 0.0259\n",
      "Epoch 73/100\n",
      "117/117 [==============================] - 2s 14ms/step - loss: 0.0321 - val_loss: 0.0259\n",
      "Epoch 74/100\n",
      "117/117 [==============================] - 2s 15ms/step - loss: 0.0319 - val_loss: 0.0258\n",
      "Epoch 75/100\n",
      "117/117 [==============================] - 2s 15ms/step - loss: 0.0322 - val_loss: 0.0260\n",
      "Epoch 76/100\n",
      "117/117 [==============================] - 2s 15ms/step - loss: 0.0321 - val_loss: 0.0259loss: \n",
      "Epoch 77/100\n",
      "117/117 [==============================] - 2s 14ms/step - loss: 0.0319 - val_loss: 0.0260\n",
      "Epoch 78/100\n",
      "117/117 [==============================] - 2s 15ms/step - loss: 0.0319 - val_loss: 0.0258\n",
      "Epoch 79/100\n",
      "117/117 [==============================] - 2s 15ms/step - loss: 0.0320 - val_loss: 0.0263\n",
      "Epoch 00079: early stopping\n"
     ]
    }
   ],
   "source": [
    "history = model.fit(train_univariate_hs, epochs=n_epochs, steps_per_epoch=n_steps_per_epoch,\n",
    "                    validation_data=validation_univariate_hs, validation_steps=n_validation_steps, verbose =1,\n",
    "                    callbacks = keras_callbacks)"
   ]
  },
  {
   "cell_type": "markdown",
   "metadata": {},
   "source": [
    "**Validate the model**"
   ]
  },
  {
   "cell_type": "code",
   "execution_count": 130,
   "metadata": {},
   "outputs": [
    {
     "data": {
      "image/png": "[encoded data removed]",
      "text/plain": [
       "<Figure size 432x288 with 1 Axes>"
      ]
     },
     "metadata": {
      "needs_background": "light"
     },
     "output_type": "display_data"
    }
   ],
   "source": [
    "loss = history.history['loss']\n",
    "val_loss = history.history['val_loss']\n",
    "\n",
    "epochs = range(1, len(loss) + 1)\n",
    "\n",
    "\n",
    "plt.plot(epochs, loss, 'bo', label='Training loss')\n",
    "plt.plot(epochs, val_loss, 'b', label='Validation loss')\n",
    "plt.title('Training and validation loss')\n",
    "plt.legend()\n",
    "\n",
    "plt.show()"
   ]
  },
  {
   "cell_type": "markdown",
   "metadata": {},
   "source": [
    "**Test the model**"
   ]
  },
  {
   "cell_type": "code",
   "execution_count": 131,
   "metadata": {},
   "outputs": [],
   "source": [
    "trained_cnn_model_hs = tf.keras.models.load_model(model_path)"
   ]
  },
  {
   "cell_type": "code",
   "execution_count": 132,
   "metadata": {},
   "outputs": [
    {
     "data": {
      "text/plain": [
       "array([[0.53445166, 0.5491122 , 0.55809206, 0.56329536, 0.569597  ,\n",
       "        0.5700539 , 0.5432729 , 0.48478583, 0.42076778, 0.3820931 ]],\n",
       "      dtype=float32)"
      ]
     },
     "execution_count": 132,
     "metadata": {},
     "output_type": "execute_result"
    }
   ],
   "source": [
    "df_temp = df['traffic_volume']\n",
    "test_horizon = df_temp.tail(univar_hist_window_hs)\n",
    "test_history = test_horizon.values\n",
    "\n",
    "\n",
    "test_scaled = scaler_x.fit_transform(test_history.reshape(-1, 1))\n",
    "test_scaled = test_scaled.reshape((1, test_scaled.shape[0], 1))\n",
    "\n",
    "# Inserting the model\n",
    "predicted_results = trained_cnn_model_hs.predict(test_scaled)\n",
    "predicted_results"
   ]
  },
  {
   "cell_type": "code",
   "execution_count": 133,
   "metadata": {},
   "outputs": [
    {
     "data": {
      "text/plain": [
       "array([[3463.1455, 3548.9536, 3601.5127, 3631.9678, 3668.8513, 3671.5254,\n",
       "        3514.7764, 3172.4517, 2797.754 , 2571.3909]], dtype=float32)"
      ]
     },
     "execution_count": 133,
     "metadata": {},
     "output_type": "execute_result"
    }
   ],
   "source": [
    "predicted_inv_trans = scaler_x.inverse_transform(predicted_results)\n",
    "predicted_inv_trans"
   ]
  },
  {
   "cell_type": "code",
   "execution_count": 134,
   "metadata": {},
   "outputs": [
    {
     "name": "stdout",
     "output_type": "stream",
     "text": [
      "MSE is : 873521.9969214082\n",
      "MAE is : 826.446728515625\n",
      "RMSE is : 934.6239869174171\n",
      "MAPE is : 41.82571522223488\n",
      "R2 is : 0.43289637140307147\n",
      "\n"
     ]
    }
   ],
   "source": [
    "timeseries_evaluation_metrics_func(test_data, predicted_inv_trans[0])"
   ]
  },
  {
   "cell_type": "code",
   "execution_count": 135,
   "metadata": {},
   "outputs": [],
   "source": [
    "rmse_cnn_model_hs = np.sqrt(metrics.mean_squared_error(test_data, predicted_inv_trans[0]))"
   ]
  },
  {
   "cell_type": "code",
   "execution_count": 136,
   "metadata": {},
   "outputs": [
    {
     "data": {
      "image/png": "[encoded data removed]",
      "text/plain": [
       "<Figure size 432x288 with 1 Axes>"
      ]
     },
     "metadata": {
      "needs_background": "light"
     },
     "output_type": "display_data"
    }
   ],
   "source": [
    "plt.plot(list(test_data))\n",
    "plt.plot(list(predicted_inv_trans[0]))\n",
    "plt.title(\"Actual vs Predicted\")\n",
    "plt.ylabel(\"Traffic volume\")\n",
    "plt.legend(('Actual','predicted'))\n",
    "plt.show()"
   ]
  },
  {
   "cell_type": "markdown",
   "metadata": {},
   "source": [
    "# Get the Best Model"
   ]
  },
  {
   "cell_type": "code",
   "execution_count": 137,
   "metadata": {},
   "outputs": [
    {
     "data": {
      "text/html": [
       "<div>\n",
       "<style scoped>\n",
       "    .dataframe tbody tr th:only-of-type {\n",
       "        vertical-align: middle;\n",
       "    }\n",
       "\n",
       "    .dataframe tbody tr th {\n",
       "        vertical-align: top;\n",
       "    }\n",
       "\n",
       "    .dataframe thead th {\n",
       "        text-align: right;\n",
       "    }\n",
       "</style>\n",
       "<table border=\"1\" class=\"dataframe\">\n",
       "  <thead>\n",
       "    <tr style=\"text-align: right;\">\n",
       "      <th></th>\n",
       "      <th>Model</th>\n",
       "      <th>RMSE</th>\n",
       "    </tr>\n",
       "  </thead>\n",
       "  <tbody>\n",
       "    <tr>\n",
       "      <th>0</th>\n",
       "      <td>lstm_model_sss</td>\n",
       "      <td>769.024834</td>\n",
       "    </tr>\n",
       "    <tr>\n",
       "      <th>0</th>\n",
       "      <td>lstm_model_hs</td>\n",
       "      <td>533.328877</td>\n",
       "    </tr>\n",
       "    <tr>\n",
       "      <th>0</th>\n",
       "      <td>bi_lstm_model_sss</td>\n",
       "      <td>1008.544315</td>\n",
       "    </tr>\n",
       "    <tr>\n",
       "      <th>0</th>\n",
       "      <td>bi_lstm_model_hs</td>\n",
       "      <td>837.121518</td>\n",
       "    </tr>\n",
       "    <tr>\n",
       "      <th>0</th>\n",
       "      <td>gru_model_sss</td>\n",
       "      <td>1110.246466</td>\n",
       "    </tr>\n",
       "    <tr>\n",
       "      <th>0</th>\n",
       "      <td>gru_model_hs</td>\n",
       "      <td>639.633823</td>\n",
       "    </tr>\n",
       "    <tr>\n",
       "      <th>0</th>\n",
       "      <td>ed_lstm_model_sss</td>\n",
       "      <td>852.876751</td>\n",
       "    </tr>\n",
       "    <tr>\n",
       "      <th>0</th>\n",
       "      <td>ed_lstm_model_hs</td>\n",
       "      <td>587.282230</td>\n",
       "    </tr>\n",
       "    <tr>\n",
       "      <th>0</th>\n",
       "      <td>cnn_model_sss</td>\n",
       "      <td>1301.694717</td>\n",
       "    </tr>\n",
       "    <tr>\n",
       "      <th>0</th>\n",
       "      <td>cnn_model_hs</td>\n",
       "      <td>934.623987</td>\n",
       "    </tr>\n",
       "  </tbody>\n",
       "</table>\n",
       "</div>"
      ],
      "text/plain": [
       "               Model         RMSE\n",
       "0     lstm_model_sss   769.024834\n",
       "0      lstm_model_hs   533.328877\n",
       "0  bi_lstm_model_sss  1008.544315\n",
       "0   bi_lstm_model_hs   837.121518\n",
       "0      gru_model_sss  1110.246466\n",
       "0       gru_model_hs   639.633823\n",
       "0  ed_lstm_model_sss   852.876751\n",
       "0   ed_lstm_model_hs   587.282230\n",
       "0      cnn_model_sss  1301.694717\n",
       "0       cnn_model_hs   934.623987"
      ]
     },
     "execution_count": 137,
     "metadata": {},
     "output_type": "execute_result"
    }
   ],
   "source": [
    "column_names = [\"Model\", \"RMSE\"]\n",
    "df = pd.DataFrame(columns = column_names)\n",
    "\n",
    "rmse_lstm_model_sss_df = pd.DataFrame([('lstm_model_sss', rmse_lstm_model_sss)], columns=column_names)\n",
    "df = df.append(rmse_lstm_model_sss_df)\n",
    "\n",
    "rmse_lstm_model_hs_df = pd.DataFrame([('lstm_model_hs', rmse_lstm_model_hs)], columns=column_names)\n",
    "df = df.append(rmse_lstm_model_hs_df)\n",
    "\n",
    "rmse_bi_lstm_model_sss_df = pd.DataFrame([('bi_lstm_model_sss', rmse_bi_lstm_model_sss)], columns=column_names)\n",
    "df = df.append(rmse_bi_lstm_model_sss_df)\n",
    "\n",
    "rmse_bi_lstm_model_hs_df = pd.DataFrame([('bi_lstm_model_hs', rmse_bi_lstm_model_hs)], columns=column_names)\n",
    "df = df.append(rmse_bi_lstm_model_hs_df)\n",
    "\n",
    "rmse_gru_model_sss_df = pd.DataFrame([('gru_model_sss', rmse_gru_model_sss)], columns=column_names)\n",
    "df = df.append(rmse_gru_model_sss_df)\n",
    "\n",
    "rmse_gru_model_hs_df = pd.DataFrame([('gru_model_hs', rmse_gru_model_hs)], columns=column_names)\n",
    "df = df.append(rmse_gru_model_hs_df)\n",
    "\n",
    "rmse_ed_lstm_model_sss_df = pd.DataFrame([('ed_lstm_model_sss', rmse_ed_lstm_model_sss)], columns=column_names)\n",
    "df = df.append(rmse_ed_lstm_model_sss_df)\n",
    "\n",
    "rmse_ed_lstm_model_hs_df = pd.DataFrame([('ed_lstm_model_hs', rmse_ed_lstm_model_hs)], columns=column_names)\n",
    "df = df.append(rmse_ed_lstm_model_hs_df)\n",
    "\n",
    "rmse_cnn_model_sss_df = pd.DataFrame([('cnn_model_sss', rmse_cnn_model_sss)], columns=column_names)\n",
    "df = df.append(rmse_cnn_model_sss_df)\n",
    "\n",
    "rmse_cnn_model_hs_df = pd.DataFrame([('cnn_model_hs', rmse_cnn_model_hs)], columns=column_names)\n",
    "df = df.append(rmse_cnn_model_hs_df)\n",
    "\n",
    "df"
   ]
  },
  {
   "cell_type": "code",
   "execution_count": 138,
   "metadata": {},
   "outputs": [
    {
     "data": {
      "text/html": [
       "<div>\n",
       "<style scoped>\n",
       "    .dataframe tbody tr th:only-of-type {\n",
       "        vertical-align: middle;\n",
       "    }\n",
       "\n",
       "    .dataframe tbody tr th {\n",
       "        vertical-align: top;\n",
       "    }\n",
       "\n",
       "    .dataframe thead th {\n",
       "        text-align: right;\n",
       "    }\n",
       "</style>\n",
       "<table border=\"1\" class=\"dataframe\">\n",
       "  <thead>\n",
       "    <tr style=\"text-align: right;\">\n",
       "      <th></th>\n",
       "      <th>Model</th>\n",
       "      <th>RMSE</th>\n",
       "    </tr>\n",
       "  </thead>\n",
       "  <tbody>\n",
       "    <tr>\n",
       "      <th>0</th>\n",
       "      <td>lstm_model_hs</td>\n",
       "      <td>533.328877</td>\n",
       "    </tr>\n",
       "    <tr>\n",
       "      <th>0</th>\n",
       "      <td>ed_lstm_model_hs</td>\n",
       "      <td>587.282230</td>\n",
       "    </tr>\n",
       "    <tr>\n",
       "      <th>0</th>\n",
       "      <td>gru_model_hs</td>\n",
       "      <td>639.633823</td>\n",
       "    </tr>\n",
       "    <tr>\n",
       "      <th>0</th>\n",
       "      <td>lstm_model_sss</td>\n",
       "      <td>769.024834</td>\n",
       "    </tr>\n",
       "    <tr>\n",
       "      <th>0</th>\n",
       "      <td>bi_lstm_model_hs</td>\n",
       "      <td>837.121518</td>\n",
       "    </tr>\n",
       "    <tr>\n",
       "      <th>0</th>\n",
       "      <td>ed_lstm_model_sss</td>\n",
       "      <td>852.876751</td>\n",
       "    </tr>\n",
       "    <tr>\n",
       "      <th>0</th>\n",
       "      <td>cnn_model_hs</td>\n",
       "      <td>934.623987</td>\n",
       "    </tr>\n",
       "    <tr>\n",
       "      <th>0</th>\n",
       "      <td>bi_lstm_model_sss</td>\n",
       "      <td>1008.544315</td>\n",
       "    </tr>\n",
       "    <tr>\n",
       "      <th>0</th>\n",
       "      <td>gru_model_sss</td>\n",
       "      <td>1110.246466</td>\n",
       "    </tr>\n",
       "    <tr>\n",
       "      <th>0</th>\n",
       "      <td>cnn_model_sss</td>\n",
       "      <td>1301.694717</td>\n",
       "    </tr>\n",
       "  </tbody>\n",
       "</table>\n",
       "</div>"
      ],
      "text/plain": [
       "               Model         RMSE\n",
       "0      lstm_model_hs   533.328877\n",
       "0   ed_lstm_model_hs   587.282230\n",
       "0       gru_model_hs   639.633823\n",
       "0     lstm_model_sss   769.024834\n",
       "0   bi_lstm_model_hs   837.121518\n",
       "0  ed_lstm_model_sss   852.876751\n",
       "0       cnn_model_hs   934.623987\n",
       "0  bi_lstm_model_sss  1008.544315\n",
       "0      gru_model_sss  1110.246466\n",
       "0      cnn_model_sss  1301.694717"
      ]
     },
     "execution_count": 138,
     "metadata": {},
     "output_type": "execute_result"
    }
   ],
   "source": [
    "best_model = df.sort_values(by='RMSE', ascending=True)\n",
    "best_model"
   ]
  },
  {
   "cell_type": "code",
   "execution_count": null,
   "metadata": {},
   "outputs": [],
   "source": []
  },
  {
   "cell_type": "code",
   "execution_count": null,
   "metadata": {},
   "outputs": [],
   "source": []
  },
  {
   "cell_type": "code",
   "execution_count": null,
   "metadata": {},
   "outputs": [],
   "source": []
  },
  {
   "cell_type": "code",
   "execution_count": null,
   "metadata": {},
   "outputs": [],
   "source": []
  },
  {
   "cell_type": "code",
   "execution_count": null,
   "metadata": {},
   "outputs": [],
   "source": []
  },
  {
   "cell_type": "code",
   "execution_count": null,
   "metadata": {},
   "outputs": [],
   "source": []
  },
  {
   "cell_type": "code",
   "execution_count": null,
   "metadata": {},
   "outputs": [],
   "source": []
  },
  {
   "cell_type": "code",
   "execution_count": null,
   "metadata": {},
   "outputs": [],
   "source": []
  },
  {
   "cell_type": "code",
   "execution_count": null,
   "metadata": {},
   "outputs": [],
   "source": []
  },
  {
   "cell_type": "code",
   "execution_count": null,
   "metadata": {},
   "outputs": [],
   "source": []
  },
  {
   "cell_type": "code",
   "execution_count": null,
   "metadata": {},
   "outputs": [],
   "source": []
  },
  {
   "cell_type": "code",
   "execution_count": null,
   "metadata": {},
   "outputs": [],
   "source": []
  },
  {
   "cell_type": "code",
   "execution_count": null,
   "metadata": {},
   "outputs": [],
   "source": []
  },
  {
   "cell_type": "code",
   "execution_count": null,
   "metadata": {},
   "outputs": [],
   "source": []
  }
 ],
 "metadata": {
  "kernelspec": {
   "display_name": "Python 3",
   "language": "python",
   "name": "python3"
  },
  "language_info": {
   "codemirror_mode": {
    "name": "ipython",
    "version": 3
   },
   "file_extension": ".py",
   "mimetype": "text/x-python",
   "name": "python",
   "nbconvert_exporter": "python",
   "pygments_lexer": "ipython3",
   "version": "3.6.8"
  },
  "toc": {
   "base_numbering": 1,
   "nav_menu": {},
   "number_sections": true,
   "sideBar": true,
   "skip_h1_title": false,
   "title_cell": "Table of Contents",
   "title_sidebar": "Contents",
   "toc_cell": false,
   "toc_position": {
    "height": "calc(100% - 180px)",
    "left": "10px",
    "top": "150px",
    "width": "345.4px"
   },
   "toc_section_display": true,
   "toc_window_display": true
  }
 },
 "nbformat": 4,
 "nbformat_minor": 2
}
